{
 "cells": [
  {
   "cell_type": "code",
   "execution_count": 1,
   "metadata": {},
   "outputs": [],
   "source": [
    "%load_ext autoreload\n",
    "%autoreload 2"
   ]
  },
  {
   "cell_type": "code",
   "execution_count": 2,
   "metadata": {},
   "outputs": [
    {
     "name": "stderr",
     "output_type": "stream",
     "text": [
      "/Users/eugene/projects/gpt-dev/.venv/lib/python3.9/site-packages/pinecone/index.py:4: TqdmExperimentalWarning: Using `tqdm.autonotebook.tqdm` in notebook mode. Use `tqdm.tqdm` instead to force console mode (e.g. in jupyter console)\n",
      "  from tqdm.autonotebook import tqdm\n"
     ]
    }
   ],
   "source": [
    "import math\n",
    "import os\n",
    "import pickle\n",
    "import re\n",
    "\n",
    "import pandas as pd\n",
    "import pinecone\n",
    "import requests\n",
    "import xmltodict\n",
    "from bs4 import BeautifulSoup\n",
    "from dotenv import load_dotenv\n",
    "from langchain import OpenAI\n",
    "from langchain.chains import (RetrievalQAWithSourcesChain,\n",
    "                              VectorDBQAWithSourcesChain)\n",
    "from langchain.chains.qa_with_sources import load_qa_with_sources_chain\n",
    "from langchain.chat_models import ChatOpenAI\n",
    "from langchain.embeddings import OpenAIEmbeddings\n",
    "from langchain.retrievers import ChatGPTPluginRetriever\n",
    "from langchain.text_splitter import (CharacterTextSplitter,\n",
    "                                     RecursiveCharacterTextSplitter)\n",
    "from langchain.vectorstores import FAISS, Pinecone"
   ]
  },
  {
   "cell_type": "code",
   "execution_count": 3,
   "metadata": {},
   "outputs": [],
   "source": [
    "import sys\n",
    "\n",
    "sys.path.append('..')\n",
    "\n",
    "from logger import logger\n",
    "from config import PINECONE_ENV"
   ]
  },
  {
   "cell_type": "code",
   "execution_count": 4,
   "metadata": {},
   "outputs": [
    {
     "data": {
      "text/plain": [
       "True"
      ]
     },
     "execution_count": 4,
     "metadata": {},
     "output_type": "execute_result"
    }
   ],
   "source": [
    "load_dotenv()"
   ]
  },
  {
   "cell_type": "markdown",
   "metadata": {},
   "source": [
    "## Initilize retriever"
   ]
  },
  {
   "cell_type": "code",
   "execution_count": 4,
   "metadata": {},
   "outputs": [
    {
     "data": {
      "text/plain": [
       "SentenceTransformer(\n",
       "  (0): Transformer({'max_seq_length': 384, 'do_lower_case': False}) with Transformer model: MPNetModel \n",
       "  (1): Pooling({'word_embedding_dimension': 768, 'pooling_mode_cls_token': False, 'pooling_mode_mean_tokens': True, 'pooling_mode_max_tokens': False, 'pooling_mode_mean_sqrt_len_tokens': False})\n",
       "  (2): Normalize()\n",
       ")"
      ]
     },
     "execution_count": 4,
     "metadata": {},
     "output_type": "execute_result"
    }
   ],
   "source": [
    "# retriever = SentenceTransformer('sentence-transformers/all-mpnet-base-v2')\n",
    "# retriever"
   ]
  },
  {
   "cell_type": "markdown",
   "metadata": {},
   "source": [
    "## Load dataframes"
   ]
  },
  {
   "cell_type": "code",
   "execution_count": 54,
   "metadata": {},
   "outputs": [],
   "source": [
    "df_path_list = ['../data/charitymajors.parquet', '../data/naval.parquet', '../data/paulgraham.parquet',\n",
    "           '../data/pmarca.parquet', '../data/willlarson.parquet']"
   ]
  },
  {
   "cell_type": "code",
   "execution_count": 55,
   "metadata": {},
   "outputs": [],
   "source": [
    "df_list = []\n",
    "\n",
    "for df_path in df_path_list:\n",
    "    df = pd.read_parquet(df_path)\n",
    "    df_list.append(df)"
   ]
  },
  {
   "cell_type": "code",
   "execution_count": 56,
   "metadata": {},
   "outputs": [],
   "source": [
    "df = pd.concat(df_list)"
   ]
  },
  {
   "cell_type": "markdown",
   "metadata": {},
   "source": [
    "## Spilt text into documents"
   ]
  },
  {
   "cell_type": "code",
   "execution_count": 57,
   "metadata": {},
   "outputs": [
    {
     "name": "stderr",
     "output_type": "stream",
     "text": [
      "2023-03-27 19:26:36,083 - Split https://charity.wtf/2015/12/27/hello-world/ into 1 docs\n",
      "2023-03-27 19:26:36,084 - Split https://charity.wtf/2015/12/29/2015-what-happened/ into 4 docs\n",
      "2023-03-27 19:26:36,085 - Split https://charity.wtf/2016/02/03/how-to-survive-an-acquisition/ into 3 docs\n",
      "2023-03-27 19:26:36,086 - Split https://charity.wtf/2016/02/23/two-weeks-with-terraform/ into 8 docs\n",
      "2023-03-27 19:26:36,087 - Split https://charity.wtf/2016/03/23/aws-networking-environments-and-you/ into 12 docs\n",
      "2023-03-27 19:26:36,088 - Split https://charity.wtf/2016/03/30/terraform-vpc-and-why-you-want-a-tfstate-file-per-env/ into 14 docs\n",
      "2023-03-27 19:26:36,089 - Split https://charity.wtf/2016/04/04/nail-polish-the-superior-paint/ into 3 docs\n",
      "2023-03-27 19:26:36,089 - Split https://charity.wtf/2021/08/21/why-every-software-engineering-interview-should-include-ops-questions/ into 5 docs\n",
      "2023-03-27 19:26:36,090 - Split https://charity.wtf/2016/04/14/scrapbag-of-useful-terraform-tips/ into 8 docs\n",
      "2023-03-27 19:26:36,091 - Split https://charity.wtf/2016/06/30/devops-vs-sre-delayed-coverage-of-the-dumbest-war/ into 11 docs\n",
      "2023-03-27 19:26:36,092 - Split https://charity.wtf/2016/05/31/wtf-is-operations-serverless/ into 6 docs\n",
      "2023-03-27 19:26:36,093 - Split https://charity.wtf/2016/05/31/operational-best-practices-serverless/ into 7 docs\n",
      "2023-03-27 19:26:36,094 - Split https://charity.wtf/2016/10/02/the-accidental-dba/ into 7 docs\n",
      "2023-03-27 19:26:36,094 - Split https://charity.wtf/2017/05/11/the-engineer-manager-pendulum/ into 5 docs\n",
      "2023-03-27 19:26:36,095 - Split https://charity.wtf/2018/02/06/company-values-a-resentful-odyssey/ into 3 docs\n",
      "2023-03-27 19:26:36,096 - Split https://charity.wtf/2018/03/02/money-power-and-credibility/ into 1 docs\n",
      "2023-03-27 19:26:36,097 - Split https://charity.wtf/2018/03/10/post-mortem-feminist-advice-meltdown-march-2nd/ into 10 docs\n",
      "2023-03-27 19:26:36,099 - Split https://charity.wtf/2018/03/30/an-engineers-bill-of-rights-and-responsibilities/ into 2 docs\n",
      "2023-03-27 19:26:36,100 - Split https://charity.wtf/2018/08/17/on-engineers-and-influence/ into 6 docs\n",
      "2023-03-27 19:26:36,101 - Split https://charity.wtf/2018/08/19/shipping-software-should-not-be-scary/ into 4 docs\n",
      "2023-03-27 19:26:36,102 - Split https://charity.wtf/2018/08/24/how-to-run-a-tech-leadership-skill-share/ into 5 docs\n",
      "2023-03-27 19:26:36,103 - Split https://charity.wtf/2022/08/15/live-your-best-life-with-structured-events/ into 10 docs\n",
      "2023-03-27 19:26:36,104 - Split https://charity.wtf/2018/10/24/ten-platform-commandments/ into 3 docs\n",
      "2023-03-27 19:26:36,105 - Split https://charity.wtf/2018/12/02/software-sprawl-the-golden-path-and-scaling-teams-with-agency/ into 7 docs\n",
      "2023-03-27 19:26:36,106 - Split https://charity.wtf/2019/01/04/engineering-management-the-pendulum-or-the-ladder/ into 16 docs\n",
      "2023-03-27 19:26:36,108 - Split https://charity.wtf/2019/02/05/logs-vs-structured-events/ into 5 docs\n",
      "2023-03-27 19:26:36,108 - Split https://charity.wtf/2019/02/13/outsource-your-o11y-get-aligned-with-security-part-2-3/ into 8 docs\n",
      "2023-03-27 19:26:36,110 - Split https://charity.wtf/2019/02/13/outsource-your-o11y-now-roll-it-out-and-keep-them-happy-part-3-3/ into 6 docs\n",
      "2023-03-27 19:26:36,111 - Split https://charity.wtf/2019/02/13/5247/ into 3 docs\n",
      "2023-03-27 19:26:36,112 - Split https://charity.wtf/2019/05/01/friday-deploy-freezes-are-exactly-like-murdering-puppies/ into 8 docs\n",
      "2023-03-27 19:26:36,113 - Split https://charity.wtf/2019/04/30/on-pain-careers-and-doing-things-the-hard-way/ into 4 docs\n",
      "2023-03-27 19:26:36,114 - Split https://charity.wtf/2019/09/08/reasons-not-to-be-a-manager/ into 15 docs\n",
      "2023-03-27 19:26:36,115 - Split https://charity.wtf/2019/09/20/love-and-alerting-in-the-time-of-cholera-and-observability/ into 6 docs\n",
      "2023-03-27 19:26:36,116 - Split https://charity.wtf/2019/10/18/the-real-11-reasons-i-dont-hire-you/ into 8 docs\n",
      "2023-03-27 19:26:36,117 - Split https://charity.wtf/2019/10/28/deploys-its-not-actually-about-fridays/ into 10 docs\n",
      "2023-03-27 19:26:36,118 - Split https://charity.wtf/2019/10/30/a-managers-bill-of-responsibilities-and-rights/ into 2 docs\n",
      "2023-03-27 19:26:36,119 - Split https://charity.wtf/2019/11/23/questionable-advice-after-being-a-manager-can-i-be-happy-as-a-cog/ into 10 docs\n",
      "2023-03-27 19:26:36,120 - Split https://charity.wtf/2021/08/27/software-deploys-and-cognitive-biases/ into 5 docs\n",
      "2023-03-27 19:26:36,121 - Split https://charity.wtf/2019/12/17/questionable-advice-how-do-i-get-my-team-into-observability/ into 10 docs\n",
      "2023-03-27 19:26:36,122 - Split https://charity.wtf/2020/03/03/observability-is-a-many-splendored-thing/ into 7 docs\n",
      "2023-03-27 19:26:36,123 - Split https://charity.wtf/2020/04/12/quarantine-reading-queue-on-the-tiger-king-phenomenon/ into 4 docs\n",
      "2023-03-27 19:26:36,124 - Split https://charity.wtf/2020/04/28/good-days-bad-days-impossible-days/ into 3 docs\n",
      "2023-03-27 19:26:36,125 - Split https://charity.wtf/2022/09/23/the-hierarchy-is-bullshit-and-bad-for-business/ into 14 docs\n",
      "2023-03-27 19:26:36,126 - Split https://charity.wtf/2020/05/30/trolley-problems-as-a-service/ into 3 docs\n",
      "2023-03-27 19:26:36,127 - Split https://charity.wtf/2020/07/07/questionable-advice-can-engineering-productivity-be-measured/ into 5 docs\n",
      "2023-03-27 19:26:36,128 - Split https://charity.wtf/2020/07/09/how-to-make-boba-at-home-without-ruining-any-pans-making-yourself-ill-or-ending-up-with-a-soggy-blobby-mess/ into 4 docs\n",
      "2023-03-27 19:26:36,129 - Split https://charity.wtf/2020/07/24/questionable-advice-whats-the-critical-path/ into 3 docs\n",
      "2023-03-27 19:26:36,130 - Split https://charity.wtf/2020/09/02/questionable-advice-war-rooms-really/ into 2 docs\n",
      "2023-03-27 19:26:36,131 - Split https://charity.wtf/2020/09/01/the-official-authorized-list-of-legitimate-reasons-for-deciding-to-become-a-manager/ into 6 docs\n",
      "2023-03-27 19:26:36,134 - Split https://charity.wtf/2020/09/06/if-management-isnt-a-promotion-then-engineering-isnt-a-demotion/ into 11 docs\n",
      "2023-03-27 19:26:36,135 - Split https://charity.wtf/2020/09/14/useful-things-to-know-about-engineering-levels/ into 6 docs\n",
      "2023-03-27 19:26:36,136 - Split https://charity.wtf/2020/10/03/on-call-shouldnt-suck-a-guide-for-managers/ into 4 docs\n",
      "2023-03-27 19:26:36,138 - Split https://charity.wtf/2020/11/01/questionable-advice-the-trap-of-the-premature-senior/ into 4 docs\n",
      "2023-03-27 19:26:36,139 - Split https://charity.wtf/2020/12/31/why-are-my-tests-so-slow-a-list-of-likely-suspects-anti-patterns-and-unresolved-personal-trauma/ into 4 docs\n",
      "2023-03-27 19:26:36,139 - Split https://charity.wtf/2021/01/23/questionable-advice-how-do-i-feel-worthwhile-as-a-manager-when-my-people-are-doing-all-the-implementing/ into 7 docs\n",
      "2023-03-27 19:26:36,140 - Split https://charity.wtf/2021/02/12/questionable-advice-premature-senior-followup-qs/ into 3 docs\n",
      "2023-03-27 19:26:36,141 - Split https://charity.wtf/2021/02/19/questionable-advice-how-can-i-sniff-out-bad-managers-while-interviewing-for-a-job/ into 4 docs\n",
      "2023-03-27 19:26:36,142 - Split https://charity.wtf/2021/02/19/how-much-is-your-fear-costing-you/ into 3 docs\n",
      "2023-03-27 19:26:36,143 - Split https://charity.wtf/2021/03/07/know-your-one-job-and-do-it-first/ into 4 docs\n",
      "2023-03-27 19:26:36,144 - Split https://charity.wtf/2021/03/09/know-your-one-job-continued/ into 17 docs\n",
      "2023-03-27 19:26:36,145 - Split https://charity.wtf/2021/04/16/questionable-advice-what-should-i-say-in-my-exit-interview/ into 2 docs\n",
      "2023-03-27 19:26:36,146 - Split https://charity.wtf/2021/08/09/notes-on-the-perfidy-of-dashboards/ into 6 docs\n",
      "2023-03-27 19:26:36,147 - Split https://charity.wtf/2021/08/27/why-i-hate-the-phrase-breaking-down-silos/ into 4 docs\n",
      "2023-03-27 19:26:36,149 - Split https://charity.wtf/2022/01/20/how-engineering-driven-leads-to-engineering-supremacy/ into 10 docs\n",
      "2023-03-27 19:26:36,150 - Split https://charity.wtf/2022/01/29/how-can-you-tell-if-the-company-youre-interviewing-with-is-rotten-on-the-inside/ into 3 docs\n",
      "2023-03-27 19:26:36,151 - Split https://charity.wtf/2022/03/24/twin-anxieties-of-the-engineer-manager-pendulum/ into 8 docs\n",
      "2023-03-27 19:26:36,152 - Split https://charity.wtf/2022/06/13/advice-for-engineering-managers-who-want-to-climb-the-ladder/ into 10 docs\n",
      "2023-03-27 19:26:36,153 - Split https://charity.wtf/2022/07/29/questionable-advice-is-there-a-path-back-from-cto-to-engineer/ into 7 docs\n",
      "2023-03-27 19:26:36,154 - Split https://charity.wtf/2022/08/15/rituals-for-engineering-teams/ into 7 docs\n",
      "2023-03-27 19:26:36,155 - Split https://charity.wtf/2022/10/03/every-achievement-has-a-denominator/ into 4 docs\n",
      "2023-03-27 19:26:36,156 - Split https://charity.wtf/2022/08/15/giving-good-feedback-consider-the-ratio/ into 2 docs\n",
      "2023-03-27 19:26:36,157 - Split https://charity.wtf/2023/03/09/architects-anti-patterns-and-organizational-fuckery/ into 15 docs\n",
      "2023-03-27 19:26:36,158 - Split https://charity.wtf/2023/02/28/how-to-throw-a-company-offsite-in-a-post-covid-world/ into 5 docs\n",
      "2023-03-27 19:26:36,159 - Split https://charity.wtf/2022/09/30/the-future-of-ops-is-platform-engineering/ into 10 docs\n",
      "2023-03-27 19:26:36,160 - Split https://charity.wtf/2022/04/13/the-truth-about-meh-trics/ into 6 docs\n",
      "2023-03-27 19:26:36,164 - Split https://charity.wtf/2021/08/18/how-much-should-my-observability-stack-cost/ into 4 docs\n",
      "2023-03-27 19:26:36,166 - Split https://charity.wtf/2023/03/08/deploys-are-the-%e2%9c%a8wrong%e2%9c%a8-way-to-change-user-experience/ into 7 docs\n",
      "2023-03-27 19:26:36,167 - Split https://nav.al/american-culture into 1 docs\n",
      "2023-03-27 19:26:36,168 - Split https://nav.al/hong-kong-is-civilized into 1 docs\n",
      "2023-03-27 19:26:36,169 - Split https://nav.al/natural-beauty into 2 docs\n",
      "2023-03-27 19:26:36,170 - Split https://nav.al/unquantifiable-risk into 2 docs\n",
      "2023-03-27 19:26:36,170 - Split https://nav.al/securitize-citizenship into 2 docs\n",
      "2023-03-27 19:26:36,171 - Split https://nav.al/the-80-hour-myth into 2 docs\n",
      "2023-03-27 19:26:36,172 - Split https://nav.al/vc-bundling into 1 docs\n",
      "2023-03-27 19:26:36,173 - Split https://nav.al/isnt-it-obvious-what-web-20-is into 1 docs\n",
      "2023-03-27 19:26:36,173 - Split https://nav.al/fix-the-search-interface-first into 1 docs\n",
      "2023-03-27 19:26:36,174 - Split https://nav.al/craigslist-takes-on-sand-hill-road into 1 docs\n",
      "2023-03-27 19:26:36,175 - Split https://nav.al/job-opening-at-my-new-company into 1 docs\n",
      "2023-03-27 19:26:36,176 - Split https://nav.al/dare-microsoft-kill-google-updated into 1 docs\n",
      "2023-03-27 19:26:36,177 - Split https://nav.al/craigslist-is-worth-more-than-ebay into 5 docs\n",
      "2023-03-27 19:26:36,177 - Split https://nav.al/something-vast-this-way-comes into 3 docs\n",
      "2023-03-27 19:26:36,178 - Split https://nav.al/why-we-may-think into 1 docs\n",
      "2023-03-27 19:26:36,179 - Split https://nav.al/be-chaotic-neutral into 1 docs\n",
      "2023-03-27 19:26:36,180 - Split https://nav.al/two-more-hacks into 1 docs\n",
      "2023-03-27 19:26:36,181 - Split https://nav.al/the-aging-entrepreneur into 4 docs\n",
      "2023-03-27 19:26:36,181 - Split https://nav.al/life-formulas-i into 1 docs\n",
      "2023-03-27 19:26:36,182 - Split https://nav.al/perpetual-stimulation-machine into 1 docs\n",
      "2023-03-27 19:26:36,183 - Split https://nav.al/tumblr-customer-service-blows-me-away into 2 docs\n",
      "2023-03-27 19:26:36,184 - Split https://nav.al/we-get-these-questions-a-lot-from-the-enterprising-young-it8217s-a-very-intelligent-question-you-look-at-some-old-guy-who8217s-rich-and-you-ask-8216how-can-i-become-like-you-except-faster8217-spend-ea into 1 docs\n",
      "2023-03-27 19:26:36,184 - Split https://nav.al/extrapolating-computing into 1 docs\n",
      "2023-03-27 19:26:36,185 - Split https://nav.al/the-returns-to-entrepreneurship into 4 docs\n",
      "2023-03-27 19:26:36,186 - Split https://nav.al/live-appearance into 1 docs\n",
      "2023-03-27 19:26:36,187 - Split https://nav.al/why-you-need-to-be-in-silicon-valley into 2 docs\n",
      "2023-03-27 19:26:36,188 - Split https://nav.al/y-combinator-vs-graduate-school into 1 docs\n",
      "2023-03-27 19:26:36,189 - Split https://nav.al/the-ipad-is-important into 1 docs\n",
      "2023-03-27 19:26:36,190 - Split https://nav.al/upcoming-sxsw-panel into 1 docs\n",
      "2023-03-27 19:26:36,191 - Split https://nav.al/who-has-time-for-meetings into 2 docs\n",
      "2023-03-27 19:26:36,191 - Split https://nav.al/why-private-investors-are-herd-animals into 2 docs\n",
      "2023-03-27 19:26:36,192 - Split https://nav.al/privacy-violations into 1 docs\n",
      "2023-03-27 19:26:36,193 - Split https://nav.al/funding-markets-develop-in-reverse into 2 docs\n",
      "2023-03-27 19:26:36,195 - Split https://nav.al/the-unbundling-of-the-venture-capital-industry into 4 docs\n",
      "2023-03-27 19:26:36,195 - Split https://nav.al/there-is-no-angel-bubble-there-are-many-angel-bubbles into 6 docs\n",
      "2023-03-27 19:26:36,197 - Split https://nav.al/google-should-pull-an-android-on-facebook into 2 docs\n",
      "2023-03-27 19:26:36,198 - Split https://nav.al/towards-a-literate-nation into 2 docs\n",
      "2023-03-27 19:26:36,198 - Split https://nav.al/why-you-cant-hire into 2 docs\n",
      "2023-03-27 19:26:36,199 - Split https://nav.al/build-a-team-that-ships into 1 docs\n",
      "2023-03-27 19:26:36,200 - Split https://nav.al/a-venture-sla into 3 docs\n",
      "2023-03-27 19:26:36,201 - Split https://nav.al/american-spring into 4 docs\n",
      "2023-03-27 19:26:36,201 - Split https://nav.al/american-fall into 4 docs\n",
      "2023-03-27 19:26:36,202 - Split https://nav.al/seek-wealth into 6 docs\n",
      "2023-03-27 19:26:36,203 - Split https://nav.al/ethical-wealth into 3 docs\n",
      "2023-03-27 19:26:36,205 - Split https://nav.al/free-markets into 4 docs\n",
      "2023-03-27 19:26:36,208 - Split https://nav.al/money-luck into 5 docs\n",
      "2023-03-27 19:26:36,209 - Split https://nav.al/luck-destiny into 4 docs\n",
      "2023-03-27 19:26:36,209 - Split https://nav.al/renting-time into 5 docs\n",
      "2023-03-27 19:26:36,210 - Split https://nav.al/salary-freedom into 3 docs\n",
      "2023-03-27 19:26:36,211 - Split https://nav.al/product-scale into 3 docs\n",
      "2023-03-27 19:26:36,212 - Split https://nav.al/possible-careers into 5 docs\n",
      "2023-03-27 19:26:36,213 - Split https://nav.al/long-term into 6 docs\n",
      "2023-03-27 19:26:36,214 - Split https://nav.al/intelligence-energy-integrity into 5 docs\n",
      "2023-03-27 19:26:36,214 - Split https://nav.al/rational-optimists into 5 docs\n",
      "2023-03-27 19:26:36,215 - Split https://nav.al/specific-knowledge into 6 docs\n",
      "2023-03-27 19:26:36,216 - Split https://nav.al/creative-technical into 5 docs\n",
      "2023-03-27 19:26:36,217 - Split https://nav.al/build-sell into 5 docs\n",
      "2023-03-27 19:26:36,217 - Split https://nav.al/love-read into 4 docs\n",
      "2023-03-27 19:26:36,218 - Split https://nav.al/math-logic into 3 docs\n",
      "2023-03-27 19:26:36,219 - Split https://nav.al/skill-business into 5 docs\n",
      "2023-03-27 19:26:36,220 - Split https://nav.al/accountability-leverage into 4 docs\n",
      "2023-03-27 19:26:36,220 - Split https://nav.al/accountability-equity into 5 docs\n",
      "2023-03-27 19:26:36,221 - Split https://nav.al/labor-capital into 4 docs\n",
      "2023-03-27 19:26:36,222 - Split https://nav.al/product-media into 5 docs\n",
      "2023-03-27 19:26:36,223 - Split https://nav.al/egalitarian-leverage into 5 docs\n",
      "2023-03-27 19:26:36,223 - Split https://nav.al/business-models into 6 docs\n",
      "2023-03-27 19:26:36,224 - Split https://nav.al/laborer-tech into 5 docs\n",
      "2023-03-27 19:26:36,225 - Split https://nav.al/judgment into 6 docs\n",
      "2023-03-27 19:26:36,226 - Split https://nav.al/hourly-rate into 3 docs\n",
      "2023-03-27 19:26:36,226 - Split https://nav.al/work-hard into 4 docs\n",
      "2023-03-27 19:26:36,227 - Split https://nav.al/meetings into 3 docs\n",
      "2023-03-27 19:26:36,228 - Split https://nav.al/redefining into 2 docs\n",
      "2023-03-27 19:26:36,229 - Split https://nav.al/competition-authenticity into 4 docs\n",
      "2023-03-27 19:26:36,229 - Split https://nav.al/stupid-games into 2 docs\n",
      "2023-03-27 19:26:36,230 - Split https://nav.al/eventually into 3 docs\n",
      "2023-03-27 19:26:36,230 - Split https://nav.al/reject-advice into 2 docs\n",
      "2023-03-27 19:26:36,231 - Split https://nav.al/finally-wealthy into 4 docs\n",
      "2023-03-27 19:26:36,232 - Split https://nav.al/rich-quick into 5 docs\n",
      "2023-03-27 19:26:36,233 - Split https://nav.al/productize-yourself into 2 docs\n",
      "2023-03-27 19:26:36,234 - Split https://nav.al/accountability into 3 docs\n",
      "2023-03-27 19:26:36,234 - Split https://nav.al/working-ourselves into 4 docs\n",
      "2023-03-27 19:26:36,235 - Split https://nav.al/ethics into 3 docs\n",
      "2023-03-27 19:26:36,236 - Split https://nav.al/envy into 3 docs\n",
      "2023-03-27 19:26:36,237 - Split https://nav.al/principal-agent into 6 docs\n",
      "2023-03-27 19:26:36,238 - Split https://nav.al/kelly-criterion into 2 docs\n",
      "2023-03-27 19:26:36,238 - Split https://nav.al/short into 2 docs\n",
      "2023-03-27 19:26:36,239 - Split https://nav.al/relationships into 2 docs\n",
      "2023-03-27 19:26:36,240 - Split https://nav.al/schelling-point into 2 docs\n",
      "2023-03-27 19:26:36,241 - Split https://nav.al/price-discrimination into 1 docs\n",
      "2023-03-27 19:26:36,242 - Split https://nav.al/surplus into 1 docs\n",
      "2023-03-27 19:26:36,242 - Split https://nav.al/npv into 1 docs\n",
      "2023-03-27 19:26:36,243 - Split https://nav.al/externalities into 2 docs\n",
      "2023-03-27 19:26:36,247 - Split https://nav.al/rich into 179 docs\n",
      "2023-03-27 19:26:36,249 - Split https://nav.al/finding-time into 9 docs\n",
      "2023-03-27 19:26:36,250 - Split https://nav.al/philosopher into 2 docs\n",
      "2023-03-27 19:26:36,251 - Split https://nav.al/material into 2 docs\n",
      "2023-03-27 19:26:36,253 - Split https://nav.al/math into 2 docs\n",
      "2023-03-27 19:26:36,254 - Split https://nav.al/skill into 1 docs\n",
      "2023-03-27 19:26:36,255 - Split https://nav.al/desire into 1 docs\n",
      "2023-03-27 19:26:36,256 - Split https://nav.al/smart into 3 docs\n",
      "2023-03-27 19:26:36,256 - Split https://nav.al/inefficient into 2 docs\n",
      "2023-03-27 19:26:36,257 - Split https://nav.al/least into 2 docs\n",
      "2023-03-27 19:26:36,259 - Split https://nav.al/addiction into 2 docs\n",
      "2023-03-27 19:26:36,260 - Split https://nav.al/unacceptable into 2 docs\n",
      "2023-03-27 19:26:36,260 - Split https://nav.al/peace into 2 docs\n",
      "2023-03-27 19:26:36,261 - Split https://nav.al/peace-motion into 2 docs\n",
      "2023-03-27 19:26:36,262 - Split https://nav.al/truth into 2 docs\n",
      "2023-03-27 19:26:36,263 - Split https://nav.al/silent into 1 docs\n",
      "2023-03-27 19:26:36,264 - Split https://nav.al/consensus into 2 docs\n",
      "2023-03-27 19:26:36,265 - Split https://nav.al/angel-2 into 26 docs\n",
      "2023-03-27 19:26:36,266 - Split https://nav.al/angel-1 into 36 docs\n",
      "2023-03-27 19:26:36,268 - Split https://nav.al/kapil into 37 docs\n",
      "2023-03-27 19:26:36,270 - Split https://nav.al/matt-ridley into 27 docs\n",
      "2023-03-27 19:26:36,271 - Split https://nav.al/matt-ridley-2 into 29 docs\n",
      "2023-03-27 19:26:36,272 - Split https://nav.al/the-box into 4 docs\n",
      "2023-03-27 19:26:36,273 - Split https://nav.al/science-2 into 2 docs\n",
      "2023-03-27 19:26:36,274 - Split https://nav.al/think into 2 docs\n",
      "2023-03-27 19:26:36,275 - Split https://nav.al/nullius into 2 docs\n",
      "2023-03-27 19:26:36,275 - Split https://nav.al/reach into 2 docs\n",
      "2023-03-27 19:26:36,276 - Split https://nav.al/read into 2 docs\n",
      "2023-03-27 19:26:36,277 - Split https://nav.al/happiness into 21 docs\n",
      "2023-03-27 19:26:36,278 - Split https://nav.al/knowledge into 2 docs\n",
      "2023-03-27 19:26:36,279 - Split https://nav.al/people into 2 docs\n",
      "2023-03-27 19:26:36,280 - Split https://nav.al/predict into 2 docs\n",
      "2023-03-27 19:26:36,281 - Split https://nav.al/understand into 1 docs\n",
      "2023-03-27 19:26:36,282 - Split https://nav.al/explanations into 2 docs\n",
      "2023-03-27 19:26:36,282 - Split https://nav.al/vary into 3 docs\n",
      "2023-03-27 19:26:36,284 - Split https://nav.al/end into 2 docs\n",
      "2023-03-27 19:26:36,284 - Split https://nav.al/settled into 3 docs\n",
      "2023-03-27 19:26:36,285 - Split https://nav.al/methods into 2 docs\n",
      "2023-03-27 19:26:36,286 - Split https://nav.al/conjectural into 3 docs\n",
      "2023-03-27 19:26:36,287 - Split https://nav.al/discrete into 2 docs\n",
      "2023-03-27 19:26:36,288 - Split https://nav.al/substrate into 2 docs\n",
      "2023-03-27 19:26:36,289 - Split https://nav.al/prove into 2 docs\n",
      "2023-03-27 19:26:36,290 - Split https://nav.al/probability into 2 docs\n",
      "2023-03-27 19:26:36,291 - Split https://nav.al/light into 3 docs\n",
      "2023-03-27 19:26:36,292 - Split https://nav.al/multiverse into 2 docs\n",
      "2023-03-27 19:26:36,293 - Split https://nav.al/unseen into 2 docs\n",
      "2023-03-27 19:26:36,293 - Split https://nav.al/expand into 1 docs\n",
      "2023-03-27 19:26:36,295 - Split https://nav.al/error into 2 docs\n",
      "2023-03-27 19:26:36,296 - Split https://nav.al/predictions into 2 docs\n",
      "2023-03-27 19:26:36,297 - Split https://nav.al/bold into 2 docs\n",
      "2023-03-27 19:26:36,298 - Split https://nav.al/advances into 1 docs\n",
      "2023-03-27 19:26:36,299 - Split https://nav.al/theories into 3 docs\n",
      "2023-03-27 19:26:36,300 - Split https://nav.al/ignorance into 2 docs\n",
      "2023-03-27 19:26:36,301 - Split https://nav.al/extrapolate into 2 docs\n",
      "2023-03-27 19:26:36,303 - Split https://nav.al/pessimism into 2 docs\n",
      "2023-03-27 19:26:36,304 - Split https://nav.al/optimism into 2 docs\n",
      "2023-03-27 19:26:36,307 - Split https://nav.al/infinity into 51 docs\n",
      "2023-03-27 19:26:36,308 - Split https://nav.al/theory into 2 docs\n",
      "2023-03-27 19:26:36,308 - Split https://nav.al/justified into 2 docs\n",
      "2023-03-27 19:26:36,309 - Split https://nav.al/gravity into 3 docs\n",
      "2023-03-27 19:26:36,310 - Split https://nav.al/evolution into 2 docs\n",
      "2023-03-27 19:26:36,311 - Split https://nav.al/exceptional into 2 docs\n",
      "2023-03-27 19:26:36,312 - Split https://nav.al/species into 2 docs\n",
      "2023-03-27 19:26:36,313 - Split https://nav.al/agi into 2 docs\n",
      "2023-03-27 19:26:36,313 - Split https://nav.al/mind-blowing into 2 docs\n",
      "2023-03-27 19:26:36,314 - Split https://nav.al/aliens into 1 docs\n",
      "2023-03-27 19:26:36,315 - Split https://nav.al/intelligent into 3 docs\n",
      "2023-03-27 19:26:36,316 - Split https://nav.al/existence into 1 docs\n",
      "2023-03-27 19:26:36,316 - Split https://nav.al/program into 1 docs\n",
      "2023-03-27 19:26:36,317 - Split https://nav.al/far-away into 2 docs\n",
      "2023-03-27 19:26:36,318 - Split https://nav.al/resources into 2 docs\n",
      "2023-03-27 19:26:36,319 - Split https://nav.al/ideas into 3 docs\n",
      "2023-03-27 19:26:36,319 - Split https://nav.al/einstein into 1 docs\n",
      "2023-03-27 19:26:36,320 - Split https://nav.al/credibility into 2 docs\n",
      "2023-03-27 19:26:36,321 - Split https://nav.al/decentralization into 3 docs\n",
      "2023-03-27 19:26:36,322 - Split https://nav.al/compromise into 3 docs\n",
      "2023-03-27 19:26:36,322 - Split https://nav.al/feedback into 2 docs\n",
      "2023-03-27 19:26:36,323 - Split https://nav.al/social into 2 docs\n",
      "2023-03-27 19:26:36,323 - Split https://nav.al/failure into 2 docs\n",
      "2023-03-27 19:26:36,324 - Split https://nav.al/infinite-resources into 3 docs\n",
      "2023-03-27 19:26:36,325 - Split https://nav.al/caveman into 3 docs\n",
      "2023-03-27 19:26:36,326 - Split https://nav.al/infinity-2 into 44 docs\n",
      "2023-03-27 19:26:36,328 - Split https://nav.al/vitalik into 41 docs\n",
      "2023-03-27 19:26:36,329 - Split https://nav.al/vitalik-2 into 22 docs\n",
      "2023-03-27 19:26:36,330 - Split https://nav.al/david-deutsch into 34 docs\n",
      "2023-03-27 19:26:36,331 - Split http://www.paulgraham.com/getideas.html into 1 docs\n",
      "2023-03-27 19:26:36,332 - Split http://www.paulgraham.com/read.html into 2 docs\n",
      "2023-03-27 19:26:36,333 - Split http://www.paulgraham.com/want.html into 2 docs\n",
      "2023-03-27 19:26:36,333 - Split http://www.paulgraham.com/alien.html into 3 docs\n",
      "2023-03-27 19:26:36,334 - Split http://www.paulgraham.com/users.html into 9 docs\n",
      "2023-03-27 19:26:36,336 - Split http://www.paulgraham.com/heresy.html into 9 docs\n",
      "2023-03-27 19:26:36,337 - Split http://www.paulgraham.com/words.html into 5 docs\n",
      "2023-03-27 19:26:36,338 - Split http://www.paulgraham.com/goodtaste.html into 5 docs\n",
      "2023-03-27 19:26:36,339 - Split http://www.paulgraham.com/smart.html into 6 docs\n",
      "2023-03-27 19:26:36,340 - Split http://www.paulgraham.com/weird.html into 2 docs\n",
      "2023-03-27 19:26:36,341 - Split http://www.paulgraham.com/hwh.html into 13 docs\n",
      "2023-03-27 19:26:36,342 - Split http://www.paulgraham.com/own.html into 10 docs\n",
      "2023-03-27 19:26:36,343 - Split http://www.paulgraham.com/fn.html into 6 docs\n",
      "2023-03-27 19:26:36,343 - Split http://www.paulgraham.com/newideas.html into 6 docs\n",
      "2023-03-27 19:26:36,344 - Split http://www.paulgraham.com/nft.html into 2 docs\n",
      "2023-03-27 19:26:36,345 - Split http://www.paulgraham.com/real.html into 4 docs\n",
      "2023-03-27 19:26:36,346 - Split http://www.paulgraham.com/richnow.html into 10 docs\n",
      "2023-03-27 19:26:36,347 - Split http://www.paulgraham.com/simply.html into 2 docs\n",
      "2023-03-27 19:26:36,348 - Split http://www.paulgraham.com/donate.html into 2 docs\n",
      "2023-03-27 19:26:36,350 - Split http://www.paulgraham.com/worked.html into 51 docs\n",
      "2023-03-27 19:26:36,352 - Split http://www.paulgraham.com/earnest.html into 7 docs\n",
      "2023-03-27 19:26:36,353 - Split http://www.paulgraham.com/ace.html into 14 docs\n",
      "2023-03-27 19:26:36,354 - Split http://www.paulgraham.com/airbnbs.html into 5 docs\n",
      "2023-03-27 19:26:36,355 - Split http://www.paulgraham.com/think.html into 15 docs\n",
      "2023-03-27 19:26:36,357 - Split http://www.paulgraham.com/early.html into 10 docs\n",
      "2023-03-27 19:26:36,359 - Split http://www.paulgraham.com/wtax.html into 2 docs\n",
      "2023-03-27 19:26:36,361 - Split http://www.paulgraham.com/conformism.html into 9 docs\n",
      "2023-03-27 19:26:36,362 - Split http://www.paulgraham.com/orth.html into 4 docs\n",
      "2023-03-27 19:26:36,363 - Split http://www.paulgraham.com/cred.html into 1 docs\n",
      "2023-03-27 19:26:36,364 - Split http://www.paulgraham.com/useful.html into 11 docs\n",
      "2023-03-27 19:26:36,365 - Split http://www.paulgraham.com/noob.html into 2 docs\n",
      "2023-03-27 19:26:36,366 - Split http://www.paulgraham.com/fh.html into 6 docs\n",
      "2023-03-27 19:26:36,367 - Split http://www.paulgraham.com/mod.html into 3 docs\n",
      "2023-03-27 19:26:36,368 - Split http://www.paulgraham.com/fp.html into 1 docs\n",
      "2023-03-27 19:26:36,370 - Split http://www.paulgraham.com/kids.html into 6 docs\n",
      "2023-03-27 19:26:36,371 - Split http://www.paulgraham.com/lesson.html into 16 docs\n",
      "2023-03-27 19:26:36,372 - Split http://www.paulgraham.com/nov.html into 2 docs\n",
      "2023-03-27 19:26:36,373 - Split http://www.paulgraham.com/genius.html into 11 docs\n",
      "2023-03-27 19:26:36,373 - Split http://www.paulgraham.com/sun.html into 2 docs\n",
      "2023-03-27 19:26:36,374 - Split http://www.paulgraham.com/pow.html into 1 docs\n",
      "2023-03-27 19:26:36,375 - Split http://www.paulgraham.com/disc.html into 1 docs\n",
      "2023-03-27 19:26:36,376 - Split http://www.paulgraham.com/pgh.html into 11 docs\n",
      "2023-03-27 19:26:36,377 - Split http://www.paulgraham.com/vb.html into 7 docs\n",
      "2023-03-27 19:26:36,377 - Split http://www.paulgraham.com/ineq.html into 14 docs\n",
      "2023-03-27 19:26:36,379 - Split http://www.paulgraham.com/re.html into 29 docs\n",
      "2023-03-27 19:26:36,380 - Split http://www.paulgraham.com/jessica.html into 8 docs\n",
      "2023-03-27 19:26:36,381 - Split http://www.paulgraham.com/bias.html into 3 docs\n",
      "2023-03-27 19:26:36,382 - Split http://www.paulgraham.com/talk.html into 3 docs\n",
      "2023-03-27 19:26:36,383 - Split http://www.paulgraham.com/aord.html into 6 docs\n",
      "2023-03-27 19:26:36,383 - Split http://www.paulgraham.com/safe.html into 3 docs\n",
      "2023-03-27 19:26:36,384 - Split http://www.paulgraham.com/name.html into 3 docs\n",
      "2023-03-27 19:26:36,385 - Split http://www.paulgraham.com/altair.html into 2 docs\n",
      "2023-03-27 19:26:36,385 - Split http://www.paulgraham.com/ronco.html into 3 docs\n",
      "2023-03-27 19:26:36,386 - Split http://www.paulgraham.com/work.html into 2 docs\n",
      "2023-03-27 19:26:36,387 - Split http://www.paulgraham.com/corpdev.html into 5 docs\n",
      "2023-03-27 19:26:36,388 - Split http://www.paulgraham.com/95.html into 4 docs\n",
      "2023-03-27 19:26:36,388 - Split http://www.paulgraham.com/ecw.html into 5 docs\n",
      "2023-03-27 19:26:36,389 - Split http://www.paulgraham.com/know.html into 3 docs\n",
      "2023-03-27 19:26:36,390 - Split http://www.paulgraham.com/pinch.html into 7 docs\n",
      "2023-03-27 19:26:36,391 - Split http://www.paulgraham.com/mean.html into 5 docs\n",
      "2023-03-27 19:26:36,392 - Split http://www.paulgraham.com/before.html into 18 docs\n",
      "2023-03-27 19:26:36,394 - Split http://www.paulgraham.com/fr.html into 42 docs\n",
      "2023-03-27 19:26:36,395 - Split http://www.paulgraham.com/herd.html into 5 docs\n",
      "2023-03-27 19:26:36,396 - Split http://www.paulgraham.com/convince.html into 15 docs\n",
      "2023-03-27 19:26:36,397 - Split http://www.paulgraham.com/ds.html into 18 docs\n",
      "2023-03-27 19:26:36,398 - Split http://www.paulgraham.com/invtrend.html into 12 docs\n",
      "2023-03-27 19:26:36,399 - Split http://www.paulgraham.com/startupideas.html into 28 docs\n",
      "2023-03-27 19:26:36,400 - Split http://www.paulgraham.com/hw.html into 2 docs\n",
      "2023-03-27 19:26:36,401 - Split http://www.paulgraham.com/growth.html into 22 docs\n",
      "2023-03-27 19:26:36,402 - Split http://www.paulgraham.com/swan.html into 9 docs\n",
      "2023-03-27 19:26:36,403 - Split http://www.paulgraham.com/todo.html into 1 docs\n",
      "2023-03-27 19:26:36,404 - Split http://www.paulgraham.com/speak.html into 5 docs\n",
      "2023-03-27 19:26:36,405 - Split http://www.paulgraham.com/ycstart.html into 6 docs\n",
      "2023-03-27 19:26:36,406 - Split http://www.paulgraham.com/property.html into 4 docs\n",
      "2023-03-27 19:26:36,407 - Split http://www.paulgraham.com/ambitious.html into 15 docs\n",
      "2023-03-27 19:26:36,407 - Split http://www.paulgraham.com/word.html into 4 docs\n",
      "2023-03-27 19:26:36,408 - Split http://www.paulgraham.com/schlep.html into 4 docs\n",
      "2023-03-27 19:26:36,409 - Split http://www.paulgraham.com/vw.html into 4 docs\n",
      "2023-03-27 19:26:36,410 - Split http://www.paulgraham.com/hubs.html into 8 docs\n",
      "2023-03-27 19:26:36,411 - Split http://www.paulgraham.com/patentpledge.html into 3 docs\n",
      "2023-03-27 19:26:36,412 - Split http://www.paulgraham.com/airbnb.html into 6 docs\n",
      "2023-03-27 19:26:36,413 - Split http://www.paulgraham.com/control.html into 3 docs\n",
      "2023-03-27 19:26:36,413 - Split http://www.paulgraham.com/tablets.html into 3 docs\n",
      "2023-03-27 19:26:36,414 - Split http://www.paulgraham.com/founders.html into 4 docs\n",
      "2023-03-27 19:26:36,415 - Split http://www.paulgraham.com/superangels.html into 14 docs\n",
      "2023-03-27 19:26:36,416 - Split http://www.paulgraham.com/seesv.html into 5 docs\n",
      "2023-03-27 19:26:36,417 - Split http://www.paulgraham.com/hiresfund.html into 3 docs\n",
      "2023-03-27 19:26:36,418 - Split http://www.paulgraham.com/yahoo.html into 9 docs\n",
      "2023-03-27 19:26:36,419 - Split http://www.paulgraham.com/future.html into 16 docs\n",
      "2023-03-27 19:26:36,420 - Split http://www.paulgraham.com/addiction.html into 6 docs\n",
      "2023-03-27 19:26:36,421 - Split http://www.paulgraham.com/top.html into 5 docs\n",
      "2023-03-27 19:26:36,421 - Split http://www.paulgraham.com/selfindulgence.html into 3 docs\n",
      "2023-03-27 19:26:36,422 - Split http://www.paulgraham.com/organic.html into 4 docs\n",
      "2023-03-27 19:26:36,423 - Split http://www.paulgraham.com/apple.html into 9 docs\n",
      "2023-03-27 19:26:36,424 - Split http://www.paulgraham.com/really.html into 20 docs\n",
      "2023-03-27 19:26:36,425 - Split http://www.paulgraham.com/discover.html into 6 docs\n",
      "2023-03-27 19:26:36,426 - Split http://www.paulgraham.com/publishing.html into 8 docs\n",
      "2023-03-27 19:26:36,427 - Split http://www.paulgraham.com/nthings.html into 6 docs\n",
      "2023-03-27 19:26:36,428 - Split http://www.paulgraham.com/determination.html into 7 docs\n",
      "2023-03-27 19:26:36,429 - Split http://www.paulgraham.com/kate.html into 4 docs\n",
      "2023-03-27 19:26:36,429 - Split http://www.paulgraham.com/segway.html into 2 docs\n",
      "2023-03-27 19:26:36,430 - Split http://www.paulgraham.com/ramenprofitable.html into 8 docs\n",
      "2023-03-27 19:26:36,431 - Split http://www.paulgraham.com/makersschedule.html into 5 docs\n",
      "2023-03-27 19:26:36,433 - Split http://www.paulgraham.com/revolution.html into 10 docs\n",
      "2023-03-27 19:26:36,434 - Split http://www.paulgraham.com/twitter.html into 1 docs\n",
      "2023-03-27 19:26:36,434 - Split http://www.paulgraham.com/foundervisa.html into 2 docs\n",
      "2023-03-27 19:26:36,435 - Split http://www.paulgraham.com/5founders.html into 3 docs\n",
      "2023-03-27 19:26:36,436 - Split http://www.paulgraham.com/relres.html into 4 docs\n",
      "2023-03-27 19:26:36,437 - Split http://www.paulgraham.com/angelinvesting.html into 16 docs\n",
      "2023-03-27 19:26:36,438 - Split http://www.paulgraham.com/convergence.html into 7 docs\n",
      "2023-03-27 19:26:36,439 - Split http://www.paulgraham.com/maybe.html into 8 docs\n",
      "2023-03-27 19:26:36,440 - Split http://www.paulgraham.com/hackernews.html into 12 docs\n",
      "2023-03-27 19:26:36,441 - Split http://www.paulgraham.com/13sentences.html into 6 docs\n",
      "2023-03-27 19:26:36,442 - Split http://www.paulgraham.com/identity.html into 4 docs\n",
      "2023-03-27 19:26:36,443 - Split http://www.paulgraham.com/credentials.html into 10 docs\n",
      "2023-03-27 19:26:36,443 - Split http://www.paulgraham.com/divergence.html into 6 docs\n",
      "2023-03-27 19:26:36,444 - Split http://www.paulgraham.com/highres.html into 7 docs\n",
      "2023-03-27 19:26:36,445 - Split http://www.paulgraham.com/artistsship.html into 6 docs\n",
      "2023-03-27 19:26:36,446 - Split http://www.paulgraham.com/badeconomy.html into 5 docs\n",
      "2023-03-27 19:26:36,447 - Split http://www.paulgraham.com/fundraising.html into 20 docs\n",
      "2023-03-27 19:26:36,448 - Split http://www.paulgraham.com/prcmc.html into 6 docs\n",
      "2023-03-27 19:26:36,449 - Split http://www.paulgraham.com/cities.html into 14 docs\n",
      "2023-03-27 19:26:36,450 - Split http://www.paulgraham.com/distraction.html into 5 docs\n",
      "2023-03-27 19:26:36,452 - Split http://www.paulgraham.com/lies.html into 21 docs\n",
      "2023-03-27 19:26:36,453 - Split http://www.paulgraham.com/good.html into 12 docs\n",
      "2023-03-27 19:26:36,454 - Split http://www.paulgraham.com/googles.html into 6 docs\n",
      "2023-03-27 19:26:36,455 - Split http://www.paulgraham.com/heroes.html into 11 docs\n",
      "2023-03-27 19:26:36,456 - Split http://www.paulgraham.com/disagree.html into 7 docs\n",
      "2023-03-27 19:26:36,457 - Split http://www.paulgraham.com/boss.html into 10 docs\n",
      "2023-03-27 19:26:36,458 - Split http://www.paulgraham.com/ycombinator.html into 8 docs\n",
      "2023-03-27 19:26:36,458 - Split http://www.paulgraham.com/trolls.html into 4 docs\n",
      "2023-03-27 19:26:36,459 - Split http://www.paulgraham.com/newthings.html into 5 docs\n",
      "2023-03-27 19:26:36,460 - Split http://www.paulgraham.com/startuphubs.html into 6 docs\n",
      "2023-03-27 19:26:36,461 - Split http://www.paulgraham.com/webstartups.html into 14 docs\n",
      "2023-03-27 19:26:36,462 - Split http://www.paulgraham.com/philosophy.html into 20 docs\n",
      "2023-03-27 19:26:36,463 - Split http://www.paulgraham.com/colleges.html into 9 docs\n",
      "2023-03-27 19:26:36,464 - Split http://www.paulgraham.com/die.html into 8 docs\n",
      "2023-03-27 19:26:36,465 - Split http://www.paulgraham.com/head.html into 8 docs\n",
      "2023-03-27 19:26:36,466 - Split http://www.paulgraham.com/stuff.html into 5 docs\n",
      "2023-03-27 19:26:36,467 - Split http://www.paulgraham.com/equity.html into 5 docs\n",
      "2023-03-27 19:26:36,468 - Split http://www.paulgraham.com/unions.html into 3 docs\n",
      "2023-03-27 19:26:36,469 - Split http://www.paulgraham.com/guidetoinvestors.html into 25 docs\n",
      "2023-03-27 19:26:36,470 - Split http://www.paulgraham.com/judgement.html into 3 docs\n",
      "2023-03-27 19:26:36,471 - Split http://www.paulgraham.com/microsoft.html into 5 docs\n",
      "2023-03-27 19:26:36,472 - Split http://www.paulgraham.com/notnot.html into 24 docs\n",
      "2023-03-27 19:26:36,473 - Split http://www.paulgraham.com/wisdom.html into 15 docs\n",
      "2023-03-27 19:26:36,474 - Split http://www.paulgraham.com/foundersatwork.html into 4 docs\n",
      "2023-03-27 19:26:36,475 - Split http://www.paulgraham.com/goodart.html into 14 docs\n",
      "2023-03-27 19:26:36,476 - Split http://www.paulgraham.com/startupmistakes.html into 22 docs\n",
      "2023-03-27 19:26:36,478 - Split http://www.paulgraham.com/mit.html into 25 docs\n",
      "2023-03-27 19:26:36,479 - Split http://www.paulgraham.com/investors.html into 12 docs\n",
      "2023-03-27 19:26:36,480 - Split http://www.paulgraham.com/copy.html into 4 docs\n",
      "2023-03-27 19:26:36,480 - Split http://www.paulgraham.com/island.html into 3 docs\n",
      "2023-03-27 19:26:36,482 - Split http://www.paulgraham.com/marginal.html into 24 docs\n",
      "2023-03-27 19:26:36,483 - Split http://www.paulgraham.com/america.html into 20 docs\n",
      "2023-03-27 19:26:36,484 - Split http://www.paulgraham.com/siliconvalley.html into 15 docs\n",
      "2023-03-27 19:26:36,486 - Split http://www.paulgraham.com/startuplessons.html into 19 docs\n",
      "2023-03-27 19:26:36,487 - Split http://www.paulgraham.com/randomness.html into 3 docs\n",
      "2023-03-27 19:26:36,488 - Split http://www.paulgraham.com/softwarepatents.html into 19 docs\n",
      "2023-03-27 19:26:36,489 - Split http://www.paulgraham.com/6631327.html into 3 docs\n",
      "2023-03-27 19:26:36,490 - Split http://www.paulgraham.com/whyyc.html into 2 docs\n",
      "2023-03-27 19:26:36,491 - Split http://www.paulgraham.com/love.html into 18 docs\n",
      "2023-03-27 19:26:36,492 - Split http://www.paulgraham.com/procrastination.html into 7 docs\n",
      "2023-03-27 19:26:36,493 - Split http://www.paulgraham.com/web20.html into 13 docs\n",
      "2023-03-27 19:26:36,495 - Split http://www.paulgraham.com/startupfunding.html into 35 docs\n",
      "2023-03-27 19:26:36,496 - Split http://www.paulgraham.com/vcsqueeze.html into 7 docs\n",
      "2023-03-27 19:26:36,497 - Split http://www.paulgraham.com/ideas.html into 16 docs\n",
      "2023-03-27 19:26:36,498 - Split http://www.paulgraham.com/sfp.html into 11 docs\n",
      "2023-03-27 19:26:36,499 - Split http://www.paulgraham.com/inequality.html into 12 docs\n",
      "2023-03-27 19:26:36,501 - Split http://www.paulgraham.com/ladder.html into 3 docs\n",
      "2023-03-27 19:26:36,504 - Split http://www.paulgraham.com/opensource.html into 17 docs\n",
      "2023-03-27 19:26:36,506 - Split http://www.paulgraham.com/hiring.html into 19 docs\n",
      "2023-03-27 19:26:36,507 - Split http://www.paulgraham.com/submarine.html into 10 docs\n",
      "2023-03-27 19:26:36,508 - Split http://www.paulgraham.com/bronze.html into 13 docs\n",
      "2023-03-27 19:26:36,509 - Split http://www.paulgraham.com/mac.html into 4 docs\n",
      "2023-03-27 19:26:36,509 - Split http://www.paulgraham.com/writing44.html into 2 docs\n",
      "2023-03-27 19:26:36,510 - Split http://www.paulgraham.com/college.html into 15 docs\n",
      "2023-03-27 19:26:36,511 - Split http://www.paulgraham.com/venturecapital.html into 6 docs\n",
      "2023-03-27 19:26:36,513 - Split http://www.paulgraham.com/start.html into 37 docs\n",
      "2023-03-27 19:26:36,514 - Split http://www.paulgraham.com/hs.html into 20 docs\n",
      "2023-03-27 19:26:36,515 - Split http://www.paulgraham.com/usa.html into 8 docs\n",
      "2023-03-27 19:26:36,516 - Split http://www.paulgraham.com/charisma.html into 7 docs\n",
      "2023-03-27 19:26:36,517 - Split http://www.paulgraham.com/polls.html into 3 docs\n",
      "2023-03-27 19:26:36,518 - Split http://www.paulgraham.com/laundry.html into 17 docs\n",
      "2023-03-27 19:26:36,519 - Split http://www.paulgraham.com/bubble.html into 15 docs\n",
      "2023-03-27 19:26:36,520 - Split http://www.paulgraham.com/essay.html into 18 docs\n",
      "2023-03-27 19:26:36,521 - Split http://www.paulgraham.com/pypar.html into 2 docs\n",
      "2023-03-27 19:26:36,522 - Split http://www.paulgraham.com/gh.html into 21 docs\n",
      "2023-03-27 19:26:36,524 - Split http://www.paulgraham.com/gap.html into 23 docs\n",
      "2023-03-27 19:26:36,526 - Split http://www.paulgraham.com/wealth.html into 35 docs\n",
      "2023-03-27 19:26:36,527 - Split http://www.paulgraham.com/gba.html into 8 docs\n",
      "2023-03-27 19:26:36,528 - Split http://www.paulgraham.com/say.html into 22 docs\n",
      "2023-03-27 19:26:36,529 - Split http://www.paulgraham.com/ffb.html into 4 docs\n",
      "2023-03-27 19:26:36,530 - Split http://www.paulgraham.com/hp.html into 22 docs\n",
      "2023-03-27 19:26:36,530 - Split http://www.paulgraham.com/iflisp.html into 2 docs\n",
      "2023-03-27 19:26:36,532 - Split http://www.paulgraham.com/hundred.html into 20 docs\n",
      "2023-03-27 19:26:36,533 - Split http://www.paulgraham.com/nerds.html into 22 docs\n",
      "2023-03-27 19:26:36,534 - Split http://www.paulgraham.com/better.html into 18 docs\n",
      "2023-03-27 19:26:36,535 - Split http://www.paulgraham.com/desres.html into 11 docs\n",
      "2023-03-27 19:26:36,536 - Split http://www.paulgraham.com/spam.html into 22 docs\n",
      "2023-03-27 19:26:36,538 - Split http://www.paulgraham.com/icad.html into 23 docs\n",
      "2023-03-27 19:26:36,539 - Split http://www.paulgraham.com/power.html into 12 docs\n",
      "2023-03-27 19:26:36,539 - Split http://www.paulgraham.com/fix.html into 1 docs\n",
      "2023-03-27 19:26:36,541 - Split http://www.paulgraham.com/taste.html into 18 docs\n",
      "2023-03-27 19:26:36,541 - Split http://www.paulgraham.com/noop.html into 3 docs\n",
      "2023-03-27 19:26:36,542 - Split http://www.paulgraham.com/diff.html into 3 docs\n",
      "2023-03-27 19:26:36,544 - Split http://www.paulgraham.com/road.html into 47 docs\n",
      "2023-03-27 19:26:36,544 - Split http://www.paulgraham.com/rootsoflisp.html into 2 docs\n",
      "2023-03-27 19:26:36,545 - Split http://www.paulgraham.com/langdes.html into 12 docs\n",
      "2023-03-27 19:26:36,546 - Split http://www.paulgraham.com/popular.html into 30 docs\n",
      "2023-03-27 19:26:36,547 - Split http://www.paulgraham.com/javacover.html into 6 docs\n",
      "2023-03-27 19:26:36,548 - Split http://www.paulgraham.com/avg.html into 18 docs\n",
      "2023-03-27 19:26:36,549 - Split http://www.paulgraham.com/lwba.html into 1 docs\n",
      "2023-03-27 19:26:36,549 - Split http://www.paulgraham.com/https://sep.yimg.com/ty/cdn/paulgraham/acl1.txt?t=1674645050& into 0 docs\n",
      "2023-03-27 19:26:36,550 - Split http://www.paulgraham.com/https://sep.yimg.com/ty/cdn/paulgraham/acl2.txt?t=1674645050& into 0 docs\n",
      "2023-03-27 19:26:36,551 - Split http://www.paulgraham.com/progbot.html into 4 docs\n",
      "2023-03-27 19:26:36,551 - Split http://www.paulgraham.com/prop62.html into 1 docs\n",
      "2023-03-27 19:26:36,552 - Split https://pmarchive.com/guide_to_startups_part1.html into 9 docs\n",
      "2023-03-27 19:26:36,553 - Split https://pmarchive.com/guide_to_startups_part2.html into 10 docs\n",
      "2023-03-27 19:26:36,555 - Split https://pmarchive.com/guide_to_startups_part3.html into 10 docs\n",
      "2023-03-27 19:26:36,556 - Split https://pmarchive.com/guide_to_startups_part4.html into 10 docs\n",
      "2023-03-27 19:26:36,557 - Split https://pmarchive.com/guide_to_startups_part5.html into 9 docs\n",
      "2023-03-27 19:26:36,558 - Split https://pmarchive.com/guide_to_startups_part6.html into 8 docs\n",
      "2023-03-27 19:26:36,558 - Split https://pmarchive.com/guide_to_startups_part7.html into 6 docs\n",
      "2023-03-27 19:26:36,559 - Split https://pmarchive.com/guide_to_startups_part8.html into 12 docs\n",
      "2023-03-27 19:26:36,561 - Split https://pmarchive.com/truth_about_vcs_part1.html into 7 docs\n",
      "2023-03-27 19:26:36,561 - Split https://pmarchive.com/truth_about_vcs_part2.html into 6 docs\n",
      "2023-03-27 19:26:36,562 - Split https://pmarchive.com/truth_about_vcs_part3.html into 7 docs\n",
      "2023-03-27 19:26:36,563 - Split https://pmarchive.com/how_to_hire_the_best_people.html into 12 docs\n",
      "2023-03-27 19:26:36,565 - Split https://pmarchive.com/serial_entrepreneurs_and_todays_silicon_valley.html into 3 docs\n",
      "2023-03-27 19:26:36,566 - Split https://pmarchive.com/psychology_of_entrepreneurial_misjudgment.html into 18 docs\n",
      "2023-03-27 19:26:36,568 - Split https://pmarchive.com/age_and_the_entrepreneur.html into 10 docs\n",
      "2023-03-27 19:26:36,569 - Split https://pmarchive.com/luck_and_the_entrepreneur.html into 7 docs\n",
      "2023-03-27 19:26:36,570 - Split https://pmarchive.com/guide_to_personal_productivity.html into 14 docs\n",
      "2023-03-27 19:26:36,571 - Split https://pmarchive.com/guide_to_career_planning_part0.html into 1 docs\n",
      "2023-03-27 19:26:36,572 - Split https://pmarchive.com/guide_to_career_planning_part1.html into 8 docs\n",
      "2023-03-27 19:26:36,573 - Split https://pmarchive.com/guide_to_career_planning_part2.html into 16 docs\n",
      "2023-03-27 19:26:36,574 - Split https://pmarchive.com/guide_to_career_planning_part3.html into 8 docs\n",
      "2023-03-27 19:26:36,575 - Split https://pmarchive.com/guide_to_big_companies_part1.html into 5 docs\n",
      "2023-03-27 19:26:36,576 - Split https://pmarchive.com/guide_to_big_companies_part2.html into 11 docs\n",
      "2023-03-27 19:26:36,577 - Split https://pmarchive.com/no_such_thing_as_web_20.html into 5 docs\n",
      "2023-03-27 19:26:36,578 - Split https://pmarchive.com/top_sci-fi_novelists_of_the_00s_so_far.html into 9 docs\n",
      "2023-03-27 19:26:36,579 - Split https://pmarchive.com/why_ning.html into 8 docs\n",
      "2023-03-27 19:26:36,579 - Split https://pmarchive.com/best_book_for_tech_entrepreneurs_this_year.html into 2 docs\n",
      "2023-03-27 19:26:36,580 - Split https://pmarchive.com/three_kinds_of_platforms_you_meet_on_the_internet.html into 22 docs\n",
      "2023-03-27 19:26:36,581 - Split https://pmarchive.com/blues_through_jazz.html into 1 docs\n",
      "2023-03-27 19:26:36,582 - Split https://pmarchive.com/11_lessons_learned_about_blogging.html into 8 docs\n",
      "2023-03-27 19:26:36,583 - Split https://pmarchive.com/ok_it_IS_a_bubble.html into 5 docs\n",
      "2023-03-27 19:26:36,583 - Split https://pmarchive.com/counterpoint_ben_horowitz.html into 4 docs\n",
      "2023-03-27 19:26:36,584 - Split https://pmarchive.com/an_hour_and_a_half_with_barack_obama.html into 7 docs\n",
      "2023-03-27 19:26:36,585 - Split https://lethain.com/onboarding-peer-executives/ into 10 docs\n",
      "2023-03-27 19:26:36,586 - Split https://lethain.com/leaving-the-executive-job/ into 12 docs\n",
      "2023-03-27 19:26:36,592 - Split https://lethain.com/using-cultural-survey-data/ into 10 docs\n",
      "2023-03-27 19:26:36,624 - Split https://lethain.com/engineering-onboarding-programs/ into 11 docs\n",
      "2023-03-27 19:26:36,642 - Split https://lethain.com/engineering-in-mergers-and-acquisition/ into 19 docs\n",
      "2023-03-27 19:26:36,684 - Split https://lethain.com/building-exec-network/ into 9 docs\n",
      "2023-03-27 19:26:36,696 - Split https://lethain.com/who-runs-eng-process/ into 11 docs\n",
      "2023-03-27 19:26:36,697 - Split https://lethain.com/sabbatical-2023/ into 4 docs\n",
      "2023-03-27 19:26:36,698 - Split https://lethain.com/eng-strategies/ into 24 docs\n",
      "2023-03-27 19:26:36,757 - Split https://lethain.com/better-micromanage-than-disengaged/ into 8 docs\n",
      "2023-03-27 19:26:36,757 - Split https://lethain.com/culture-vs-systems/ into 3 docs\n",
      "2023-03-27 19:26:36,758 - Split https://lethain.com/setting-engineering-org-values/ into 15 docs\n",
      "2023-03-27 19:26:36,759 - Split https://lethain.com/safe-defaults/ into 3 docs\n",
      "2023-03-27 19:26:36,760 - Split https://lethain.com/internal-comms-execs/ into 7 docs\n",
      "2023-03-27 19:26:36,761 - Split https://lethain.com/cost-centers/ into 3 docs\n",
      "2023-03-27 19:26:36,762 - Split https://lethain.com/eng-org-meetings/ into 10 docs\n",
      "2023-03-27 19:26:36,763 - Split https://lethain.com/underperforming-executive/ into 3 docs\n",
      "2023-03-27 19:26:36,763 - Split https://lethain.com/2023-in-review/ into 3 docs\n",
      "2023-03-27 19:26:36,764 - Split https://lethain.com/trying-plausibleio/ into 6 docs\n",
      "2023-03-27 19:26:36,766 - Split https://lethain.com/getting-engineering-executive-job/ into 17 docs\n",
      "2023-03-27 19:26:36,767 - Split https://lethain.com/executive-linkedin-profile/ into 10 docs\n",
      "2023-03-27 19:26:36,767 - Split https://lethain.com/capitalize-engineering-costs/ into 3 docs\n",
      "2023-03-27 19:26:36,768 - Split https://lethain.com/trying-tailscale/ into 5 docs\n",
      "2023-03-27 19:26:36,769 - Split https://lethain.com/measuring-engineering-organizations/ into 12 docs\n",
      "2023-03-27 19:26:36,770 - Split https://lethain.com/compliance-regime-convergance/ into 4 docs\n",
      "2023-03-27 19:26:36,771 - Split https://lethain.com/lessons-not-worth-learning/ into 4 docs\n",
      "2023-03-27 19:26:36,772 - Split https://lethain.com/2022-in-review/ into 7 docs\n",
      "2023-03-27 19:26:36,773 - Split https://lethain.com/when-not-to-roll-out-business-reviews/ into 1 docs\n",
      "2023-03-27 19:26:36,774 - Split https://lethain.com/company-team-self/ into 5 docs\n",
      "2023-03-27 19:26:36,775 - Split https://lethain.com/twitter/ into 5 docs\n",
      "2023-03-27 19:26:36,775 - Split https://lethain.com/flying-wedge/ into 4 docs\n",
      "2023-03-27 19:26:36,776 - Split https://lethain.com/work-hard-work-smart/ into 3 docs\n",
      "2023-03-27 19:26:36,777 - Split https://lethain.com/time-and-energy/ into 5 docs\n",
      "2023-03-27 19:26:36,778 - Split https://lethain.com/mailbag-not-measurable-whether-hire-exec/ into 3 docs\n",
      "2023-03-27 19:26:36,779 - Split https://lethain.com/reminiscing/ into 2 docs\n",
      "2023-03-27 19:26:36,780 - Split https://lethain.com/fewer-happier-incident-heroes/ into 2 docs\n",
      "2023-03-27 19:26:36,782 - Split https://lethain.com/one-on-ones-with-executives/ into 4 docs\n",
      "2023-03-27 19:26:36,783 - Split https://lethain.com/exercise-draw-three-maps/ into 2 docs\n",
      "2023-03-27 19:26:36,784 - Split https://lethain.com/bar-raising-hiring-committees-hiring-quality/ into 6 docs\n",
      "2023-03-27 19:26:36,785 - Split https://lethain.com/how-to-estimate-disk-space/ into 5 docs\n",
      "2023-03-27 19:26:36,785 - Split https://lethain.com/bytebytego-common-interview-algorithms/ into 1 docs\n",
      "2023-03-27 19:26:36,786 - Split https://lethain.com/profit-and-loss-statement/ into 7 docs\n",
      "2023-03-27 19:26:36,787 - Split https://lethain.com/downturn-career-decisions/ into 3 docs\n",
      "2023-03-27 19:26:36,788 - Split https://lethain.com/plagarism-idea-theft-writing-online/ into 5 docs\n",
      "2023-03-27 19:26:36,789 - Split https://lethain.com/mail-bag-did-i-become-manager-too-soon/ into 3 docs\n",
      "2023-03-27 19:26:36,790 - Split https://lethain.com/moving-the-finish-line/ into 3 docs\n",
      "2023-03-27 19:26:36,791 - Split https://lethain.com/migration-isnt-failing-due-to-lack-of-staffing/ into 4 docs\n",
      "2023-03-27 19:26:36,792 - Split https://lethain.com/long-tenure/ into 1 docs\n",
      "2023-03-27 19:26:36,793 - Split https://lethain.com/founding-uber-sre/ into 15 docs\n",
      "2023-03-27 19:26:36,794 - Split https://lethain.com/platforms-change-but-cool-uris-dont/ into 3 docs\n",
      "2023-03-27 19:26:36,795 - Split https://lethain.com/interim-assignments/ into 3 docs\n",
      "2023-03-27 19:26:36,795 - Split https://lethain.com/stripe-product-led-developer-centric-growth/ into 2 docs\n",
      "2023-03-27 19:26:36,796 - Split https://lethain.com/mail-bag-resources-for-engineering-directors/ into 1 docs\n",
      "2023-03-27 19:26:36,797 - Split https://lethain.com/daily-twitter-snapshot/ into 1 docs\n",
      "2023-03-27 19:26:36,798 - Split https://lethain.com/should-you-prioritize-infrastructure-costs/ into 3 docs\n",
      "2023-03-27 19:26:36,799 - Split https://lethain.com/what-is-innovation/ into 4 docs\n",
      "2023-03-27 19:26:36,800 - Split https://lethain.com/hard-to-work-with/ into 4 docs\n",
      "2023-03-27 19:26:36,801 - Split https://lethain.com/infra-eng-next-project/ into 2 docs\n",
      "2023-03-27 19:26:36,802 - Split https://lethain.com/trunk-and-branches/ into 7 docs\n",
      "2023-03-27 19:26:36,803 - Split https://lethain.com/trying-git-scraping/ into 3 docs\n",
      "2023-03-27 19:26:36,803 - Split https://lethain.com/less-scalable-work/ into 3 docs\n",
      "2023-03-27 19:26:36,804 - Split https://lethain.com/mental-models-mix-match/ into 3 docs\n",
      "2023-03-27 19:26:36,805 - Split https://lethain.com/things-learned-hiring-data-science-leader/ into 2 docs\n",
      "2023-03-27 19:26:36,805 - Split https://lethain.com/starting-angel-investment/ into 3 docs\n",
      "2023-03-27 19:26:36,806 - Split https://lethain.com/why-not-indie-tech-book-publisher/ into 7 docs\n",
      "2023-03-27 19:26:36,807 - Split https://lethain.com/inspection/ into 5 docs\n",
      "2023-03-27 19:26:36,808 - Split https://lethain.com/thesis-engineering-onboarding-products/ into 2 docs\n",
      "2023-03-27 19:26:36,809 - Split https://lethain.com/2021-in-review/ into 5 docs\n",
      "2023-03-27 19:26:36,810 - Split https://lethain.com/terminal-level-rulebook/ into 2 docs\n",
      "2023-03-27 19:26:36,811 - Split https://lethain.com/should-you-write-a-book/ into 3 docs\n",
      "2023-03-27 19:26:36,812 - Split https://lethain.com/notes-on-the-kool-aid-factory-planning-issue/ into 3 docs\n",
      "2023-03-27 19:26:36,812 - Split https://lethain.com/how-to-find-engineering-leadership-roles/ into 1 docs\n",
      "2023-03-27 19:26:36,813 - Split https://lethain.com/how-to-safely-think-in-systems/ into 5 docs\n",
      "2023-03-27 19:26:36,814 - Split https://lethain.com/personal-finances/ into 4 docs\n",
      "2023-03-27 19:26:36,816 - Split https://lethain.com/hiring-foundation-eng-leader/ into 3 docs\n",
      "2023-03-27 19:26:36,817 - Split https://lethain.com/closing-calls/ into 2 docs\n",
      "2023-03-27 19:26:36,818 - Split https://lethain.com/create-capacity/ into 3 docs\n",
      "2023-03-27 19:26:36,818 - Split https://lethain.com/getting-to-yes/ into 3 docs\n",
      "2023-03-27 19:26:36,819 - Split https://lethain.com/pockets-of-rest/ into 2 docs\n",
      "2023-03-27 19:26:36,820 - Split https://lethain.com/posts/2021/work-friends/ into 3 docs\n",
      "2023-03-27 19:26:36,821 - Split https://lethain.com/posts/2021/an-interlude/ into 5 docs\n",
      "2023-03-27 19:26:36,822 - Split https://lethain.com/mailbag-should-we-call-them-architects/ into 3 docs\n",
      "2023-03-27 19:26:36,822 - Split https://lethain.com/migrating-blog/ into 2 docs\n",
      "2023-03-27 19:26:36,823 - Split https://lethain.com/mailbag-unhappy-users-internal-platform/ into 5 docs\n",
      "2023-03-27 19:26:36,824 - Split https://lethain.com/measures-of-engineering-impact/ into 3 docs\n",
      "2023-03-27 19:26:36,825 - Split https://lethain.com/exuberant-sketches/ into 2 docs\n",
      "2023-03-27 19:26:36,826 - Split https://lethain.com/self-publishing-staff-engineer/ into 11 docs\n",
      "2023-03-27 19:26:36,826 - Split https://lethain.com/socializing-strategy/ into 3 docs\n",
      "2023-03-27 19:26:36,827 - Split https://lethain.com/discouraging-perfection/ into 2 docs\n",
      "2023-03-27 19:26:36,828 - Split https://lethain.com/regretted-attrition/ into 3 docs\n",
      "2023-03-27 19:26:36,829 - Split https://lethain.com/staff-engineer/ into 4 docs\n",
      "2023-03-27 19:26:36,829 - Split https://lethain.com/why-not-create-staffeng-community/ into 2 docs\n",
      "2023-03-27 19:26:36,830 - Split https://lethain.com/tech-influencer/ into 11 docs\n",
      "2023-03-27 19:26:36,831 - Split https://lethain.com/present-to-executives/ into 8 docs\n",
      "2023-03-27 19:26:36,833 - Split https://lethain.com/staff-eng-early-edition/ into 2 docs\n",
      "2023-03-27 19:26:36,834 - Split https://lethain.com/pacing-and-isolating-change/ into 2 docs\n",
      "2023-03-27 19:26:36,834 - Split https://lethain.com/tech-lead-managers/ into 3 docs\n",
      "2023-03-27 19:26:36,835 - Split https://lethain.com/interesting-work-happens-at-the-edges/ into 3 docs\n",
      "2023-03-27 19:26:36,836 - Split https://lethain.com/tech-review-for-staff-engineer/ into 2 docs\n",
      "2023-03-27 19:26:36,837 - Split https://lethain.com/blurb-for-staff-engineer/ into 2 docs\n",
      "2023-03-27 19:26:36,838 - Split https://lethain.com/2020-in-review/ into 9 docs\n",
      "2023-03-27 19:26:36,838 - Split https://lethain.com/weak-and-strong-team-concepts/ into 4 docs\n",
      "2023-03-27 19:26:36,839 - Split https://lethain.com/what-do-staff-engineers-actually-do/ into 10 docs\n",
      "2023-03-27 19:26:36,840 - Split https://lethain.com/managing-staff-plus-engineers/ into 1 docs\n",
      "2023-03-27 19:26:36,841 - Split https://lethain.com/good-engineering-strategy-is-boring/ into 6 docs\n",
      "2023-03-27 19:26:36,841 - Split https://lethain.com/mailbag-advice-five-years/ into 6 docs\n",
      "2023-03-27 19:26:36,842 - Split https://lethain.com/interviewing-staff-plus-roles/ into 4 docs\n",
      "2023-03-27 19:26:36,843 - Split https://lethain.com/finding-your-staff-sponsor/ into 6 docs\n",
      "2023-03-27 19:26:36,844 - Split https://lethain.com/developer-meta-productivity-tools/ into 7 docs\n",
      "2023-03-27 19:26:36,844 - Split https://lethain.com/renegotiate-first-vendor-contract/ into 2 docs\n",
      "2023-03-27 19:26:36,845 - Split https://lethain.com/surplus-rules-eng-strategy/ into 3 docs\n",
      "2023-03-27 19:26:36,846 - Split https://lethain.com/care-and-feeding-engineering-strategy/ into 2 docs\n",
      "2023-03-27 19:26:36,846 - Split https://lethain.com/things-that-arent-engineering-strategy/ into 3 docs\n",
      "2023-03-27 19:26:36,848 - Split https://lethain.com/engineering-strategy/ into 9 docs\n",
      "2023-03-27 19:26:36,848 - Split https://lethain.com/developer-surveys/ into 3 docs\n",
      "2023-03-27 19:26:36,850 - Split https://lethain.com/managing-technical-quality/ into 23 docs\n",
      "2023-03-27 19:26:36,850 - Split https://lethain.com/finding-the-right-company/ into 8 docs\n",
      "2023-03-27 19:26:36,851 - Split https://lethain.com/deciding-to-switch/ into 6 docs\n",
      "2023-03-27 19:26:36,852 - Split https://lethain.com/techwriters/ into 2 docs\n",
      "2023-03-27 19:26:36,852 - Split https://lethain.com/being-visible/ into 4 docs\n",
      "2023-03-27 19:26:36,853 - Split https://lethain.com/staff-projects/ into 6 docs\n",
      "2023-03-27 19:26:36,854 - Split https://lethain.com/work-on-what-matters/ into 10 docs\n",
      "2023-03-27 19:26:36,856 - Split https://lethain.com/qr-codes-in-books/ into 2 docs\n",
      "2023-03-27 19:26:36,857 - Split https://lethain.com/network-of-peers/ into 5 docs\n",
      "2023-03-27 19:26:36,857 - Split https://lethain.com/performative-leadership/ into 2 docs\n",
      "2023-03-27 19:26:36,858 - Split https://lethain.com/grand-migration/ into 2 docs\n",
      "2023-03-27 19:26:36,859 - Split https://lethain.com/promo-pathologies/ into 3 docs\n",
      "2023-03-27 19:26:36,860 - Split https://lethain.com/promo-packets/ into 4 docs\n",
      "2023-03-27 19:26:36,861 - Split https://lethain.com/saint-exupery-of-metrics/ into 2 docs\n",
      "2023-03-27 19:26:36,861 - Split https://lethain.com/common-hiring-manager-mistakes/ into 7 docs\n",
      "2023-03-27 19:26:36,862 - Split https://lethain.com/screenrc/ into 2 docs\n",
      "2023-03-27 19:26:36,863 - Split https://lethain.com/create-space-for-others/ into 5 docs\n",
      "2023-03-27 19:26:36,864 - Split https://lethain.com/staff-plus-interview-process/ into 3 docs\n",
      "2023-03-27 19:26:36,865 - Split https://lethain.com/external-office-hours/ into 3 docs\n",
      "2023-03-27 19:26:36,866 - Split https://lethain.com/does-the-staff-title-matter/ into 6 docs\n",
      "2023-03-27 19:26:36,867 - Split https://lethain.com/where-should-staff-plus-eng-report/ into 5 docs\n",
      "2023-03-27 19:26:36,867 - Split https://lethain.com/stuff-learned-about-dei-2020/ into 10 docs\n",
      "2023-03-27 19:26:36,868 - Split https://lethain.com/how-to-practice-backend-engineering/ into 1 docs\n",
      "2023-03-27 19:26:36,869 - Split https://lethain.com/values-oasis/ into 4 docs\n",
      "2023-03-27 19:26:36,870 - Split https://lethain.com/my-career-story/ into 10 docs\n",
      "2023-03-27 19:26:36,870 - Split https://lethain.com/mentoring-from-privilege/ into 2 docs\n",
      "2023-03-27 19:26:36,871 - Split https://lethain.com/black-lives-matter/ into 3 docs\n",
      "2023-03-27 19:26:36,872 - Split https://lethain.com/to-lead-follow/ into 3 docs\n",
      "2023-03-27 19:26:36,872 - Split https://lethain.com/showing-value/ into 4 docs\n",
      "2023-03-27 19:26:36,873 - Split https://lethain.com/staffeng-april-updates/ into 4 docs\n",
      "2023-03-27 19:26:36,874 - Split https://lethain.com/appropriate-programming-problems/ into 5 docs\n",
      "2023-03-27 19:26:36,875 - Split https://lethain.com/minding-our-stories/ into 5 docs\n",
      "2023-03-27 19:26:36,876 - Split https://lethain.com/testing-in-google-cloud-build/ into 2 docs\n",
      "2023-03-27 19:26:36,877 - Split https://lethain.com/staff-engineer-archetypes/ into 8 docs\n",
      "2023-03-27 19:26:36,877 - Split https://lethain.com/contentful/ into 5 docs\n",
      "2023-03-27 19:26:36,878 - Split https://lethain.com/build-vs-buy/ into 7 docs\n",
      "2023-03-27 19:26:36,880 - Split https://lethain.com/staying-aligned-with-authority/ into 5 docs\n",
      "2023-03-27 19:26:36,881 - Split https://lethain.com/getting-in-the-room/ into 3 docs\n",
      "2023-03-27 19:26:36,882 - Split https://lethain.com/learn-to-never-be-wrong/ into 6 docs\n",
      "2023-03-27 19:26:36,885 - Split https://lethain.com/staff-eng-kickoff/ into 3 docs\n",
      "2023-03-27 19:26:36,886 - Split https://lethain.com/hotspotting/ into 2 docs\n",
      "2023-03-27 19:26:36,887 - Split https://lethain.com/vtt-compactor/ into 1 docs\n",
      "2023-03-27 19:26:36,888 - Split https://lethain.com/staff-plus-eng-resources/ into 3 docs\n",
      "2023-03-27 19:26:36,889 - Split https://lethain.com/how-to-start-distributed-engineering-office/ into 9 docs\n",
      "2023-03-27 19:26:36,889 - Split https://lethain.com/interviewing-senior-eng-leaders/ into 6 docs\n",
      "2023-03-27 19:26:36,891 - Split https://lethain.com/mailbag-beyond-career-level/ into 4 docs\n",
      "2023-03-27 19:26:36,893 - Split https://lethain.com/crowdsourcing-cto-vpe-learning-circles/ into 4 docs\n",
      "2023-03-27 19:26:36,895 - Split https://lethain.com/tech-company/ into 4 docs\n",
      "2023-03-27 19:26:36,896 - Split https://lethain.com/share-stories-not-advice/ into 2 docs\n",
      "2023-03-27 19:26:36,898 - Split https://lethain.com/executive-assistants/ into 7 docs\n",
      "2023-03-27 19:26:36,899 - Split https://lethain.com/learning-circle-code-of-conduct/ into 2 docs\n",
      "2023-03-27 19:26:36,901 - Split https://lethain.com/cfp-examples/ into 4 docs\n",
      "2023-03-27 19:26:36,902 - Split https://lethain.com/joining-calm/ into 2 docs\n",
      "2023-03-27 19:26:36,902 - Split https://lethain.com/eng-brand/ into 11 docs\n",
      "2023-03-27 19:26:36,903 - Split https://lethain.com/more-great-memos/ into 1 docs\n",
      "2023-03-27 19:26:36,904 - Split https://lethain.com/first-ninety-days-cto-vpe/ into 8 docs\n",
      "2023-03-27 19:26:36,905 - Split https://lethain.com/acquihire-tips/ into 12 docs\n",
      "2023-03-27 19:26:36,906 - Split https://lethain.com/digg-acquihire/ into 9 docs\n",
      "2023-03-27 19:26:36,907 - Split https://lethain.com/2019-in-review/ into 10 docs\n",
      "2023-03-27 19:26:36,907 - Split https://lethain.com/incident-response-programs-and-your-startup/ into 14 docs\n",
      "2023-03-27 19:26:36,908 - Split https://lethain.com/mail-bag-december-2019/ into 7 docs\n",
      "2023-03-27 19:26:36,910 - Split https://lethain.com/platform-product-fit/ into 8 docs\n",
      "2023-03-27 19:26:36,910 - Split https://lethain.com/expanding-on-sre/ into 5 docs\n",
      "2023-03-27 19:26:36,911 - Split https://lethain.com/building-evolutionary-architectures/ into 7 docs\n",
      "2023-03-27 19:26:36,912 - Split https://lethain.com/learn-when-you-reflect/ into 3 docs\n",
      "2023-03-27 19:26:36,913 - Split https://lethain.com/slack-distribution/ into 8 docs\n",
      "2023-03-27 19:26:36,914 - Split https://lethain.com/slack-firestore/ into 5 docs\n",
      "2023-03-27 19:26:36,916 - Split https://lethain.com/slack-reacji-events/ into 5 docs\n",
      "2023-03-27 19:26:36,917 - Split https://lethain.com/slack-app-home-python/ into 6 docs\n",
      "2023-03-27 19:26:36,918 - Split https://lethain.com/creating-slack-app-python/ into 10 docs\n",
      "2023-03-27 19:26:36,919 - Split https://lethain.com/python-hmac-sha256/ into 2 docs\n",
      "2023-03-27 19:26:36,919 - Split https://lethain.com/forecasting-synthetic-metrics/ into 7 docs\n",
      "2023-03-27 19:26:36,920 - Split https://lethain.com/weekly-updates/ into 3 docs\n",
      "2023-03-27 19:26:36,921 - Split https://lethain.com/healthchecks/ into 9 docs\n",
      "2023-03-27 19:26:36,922 - Split https://lethain.com/aep-five-months-later/ into 2 docs\n",
      "2023-03-27 19:26:36,923 - Split https://lethain.com/monocle-studios/ into 8 docs\n",
      "2023-03-27 19:26:36,924 - Split https://lethain.com/nobody-cares-about-quality/ into 3 docs\n",
      "2023-03-27 19:26:36,925 - Split https://lethain.com/forty-year-career/ into 11 docs\n",
      "2023-03-27 19:26:36,926 - Split https://lethain.com/handbook-relational-db-design-on-data-modeling/ into 5 docs\n",
      "2023-03-27 19:26:36,927 - Split https://lethain.com/offsites/ into 1 docs\n",
      "2023-03-27 19:26:36,928 - Split https://lethain.com/datahub/ into 7 docs\n",
      "2023-03-27 19:26:36,929 - Split https://lethain.com/fault-domains/ into 5 docs\n",
      "2023-03-27 19:26:36,931 - Split https://lethain.com/distributed-systems-vocabulary/ into 3 docs\n",
      "2023-03-27 19:26:36,934 - Split https://lethain.com/reclaim-unreasonable-software/ into 6 docs\n",
      "2023-03-27 19:26:36,936 - Split https://lethain.com/literal-programming-inverted/ into 3 docs\n",
      "2023-03-27 19:26:36,937 - Split https://lethain.com/head-in-the-clouds/ into 8 docs\n",
      "2023-03-27 19:26:36,939 - Split https://lethain.com/dont-follow-the-sun/ into 3 docs\n",
      "2023-03-27 19:26:36,941 - Split https://lethain.com/reliability-program/ into 3 docs\n",
      "2023-03-27 19:26:36,942 - Split https://lethain.com/notes-escaping-the-build-trap/ into 24 docs\n",
      "2023-03-27 19:26:36,943 - Split https://lethain.com/fostering-program-engagement/ into 4 docs\n",
      "2023-03-27 19:26:36,946 - Split https://lethain.com/programs-owning-the-unownable/ into 4 docs\n",
      "2023-03-27 19:26:36,947 - Split https://lethain.com/systems-lib-as-cloud-function/ into 4 docs\n",
      "2023-03-27 19:26:36,949 - Split https://lethain.com/path-to-eng-manager-of-managers/ into 6 docs\n",
      "2023-03-27 19:26:36,951 - Split https://lethain.com/learned-writing-book/ into 8 docs\n",
      "2023-03-27 19:26:36,952 - Split https://lethain.com/upward-facing-window-privilege/ into 6 docs\n",
      "2023-03-27 19:26:36,953 - Split https://lethain.com/elegant-puzzle-release/ into 1 docs\n",
      "2023-03-27 19:26:36,955 - Split https://lethain.com/iterative-elimination-tournaments/ into 2 docs\n",
      "2023-03-27 19:26:36,957 - Split https://lethain.com/how-to-invest-technical-infrastructure/ into 9 docs\n",
      "2023-03-27 19:26:36,959 - Split https://lethain.com/government-api-design/ into 3 docs\n",
      "2023-03-27 19:26:36,960 - Split https://lethain.com/innovate-deprecate/ into 3 docs\n",
      "2023-03-27 19:26:36,961 - Split https://lethain.com/magnitudes-of-exploration/ into 6 docs\n",
      "2023-03-27 19:26:36,963 - Split https://lethain.com/fire-fixation/ into 2 docs\n",
      "2023-03-27 19:26:36,964 - Split https://lethain.com/special-topics-org-design/ into 3 docs\n",
      "2023-03-27 19:26:36,966 - Split https://lethain.com/how-to-evolve-eng-org/ into 6 docs\n",
      "2023-03-27 19:26:36,967 - Split https://lethain.com/predictability-tax/ into 2 docs\n",
      "2023-03-27 19:26:36,969 - Split https://lethain.com/no-value/ into 3 docs\n",
      "2023-03-27 19:26:36,970 - Split https://lethain.com/limiting-wip/ into 5 docs\n",
      "2023-03-27 19:26:36,971 - Split https://lethain.com/binder/ into 2 docs\n",
      "2023-03-27 19:26:36,973 - Split https://lethain.com/modeling-reliability/ into 8 docs\n",
      "2023-03-27 19:26:36,975 - Split https://lethain.com/2019-feb-mgmt-books/ into 4 docs\n",
      "2023-03-27 19:26:36,976 - Split https://lethain.com/growing-with-your-company/ into 5 docs\n",
      "2023-03-27 19:26:36,978 - Split https://lethain.com/meeting-people/ into 7 docs\n",
      "2023-03-27 19:26:36,981 - Split https://lethain.com/elegant-puzzle/ into 1 docs\n",
      "2023-03-27 19:26:36,983 - Split https://lethain.com/metrics-for-the-unmeasurable/ into 6 docs\n",
      "2023-03-27 19:26:36,985 - Split https://lethain.com/examples-delightful-developer-experiences/ into 11 docs\n",
      "2023-03-27 19:26:36,987 - Split https://lethain.com/good-process-is-evolved/ into 2 docs\n",
      "2023-03-27 19:26:36,988 - Split https://lethain.com/policy-process-programs/ into 1 docs\n",
      "2023-03-27 19:26:36,990 - Split https://lethain.com/notes-sicp/ into 6 docs\n",
      "2023-03-27 19:26:36,991 - Split https://lethain.com/2018-in-review/ into 4 docs\n",
      "2023-03-27 19:26:36,993 - Split https://lethain.com/infrastructure-planning/ into 4 docs\n",
      "2023-03-27 19:26:36,994 - Split https://lethain.com/timeless-way-of-building/ into 6 docs\n",
      "2023-03-27 19:26:36,995 - Split https://lethain.com/python-graphql-tutorial/ into 4 docs\n",
      "2023-03-27 19:26:36,996 - Split https://lethain.com/headcount-dilemmas/ into 5 docs\n",
      "2023-03-27 19:26:36,997 - Split https://lethain.com/talent-distributions/ into 4 docs\n",
      "2023-03-27 19:26:36,999 - Split https://lethain.com/landing-in-jet-program/ into 5 docs\n",
      "2023-03-27 19:26:37,000 - Split https://lethain.com/capturing-resources/ into 6 docs\n",
      "2023-03-27 19:26:37,003 - Split https://lethain.com/blog-update-oct-2018/ into 5 docs\n",
      "2023-03-27 19:26:37,005 - Split https://lethain.com/pyramid-principle/ into 10 docs\n",
      "2023-03-27 19:26:37,006 - Split https://lethain.com/systems-jupyter-notebook/ into 2 docs\n",
      "2023-03-27 19:26:37,007 - Split https://lethain.com/career-narratives/ into 5 docs\n",
      "2023-03-27 19:26:37,008 - Split https://lethain.com/saying-no/ into 6 docs\n",
      "2023-03-27 19:26:37,010 - Split https://lethain.com/work-policy-not-exceptions/ into 5 docs\n",
      "2023-03-27 19:26:37,012 - Split https://lethain.com/modeling-hiring-funnel-systems/ into 3 docs\n",
      "2023-03-27 19:26:37,014 - Split https://lethain.com/systems-thinking/ into 3 docs\n",
      "2023-03-27 19:26:37,016 - Split https://lethain.com/notes-philosophy-software-design/ into 4 docs\n",
      "2023-03-27 19:26:37,018 - Split https://lethain.com/designing-interview-loops/ into 1 docs\n",
      "2023-03-27 19:26:37,019 - Split https://lethain.com/communities-of-learning/ into 4 docs\n",
      "2023-03-27 19:26:37,021 - Split https://lethain.com/time-management/ into 1 docs\n",
      "2023-03-27 19:26:37,022 - Split https://lethain.com/intro-product-management/ into 3 docs\n",
      "2023-03-27 19:26:37,024 - Split https://lethain.com/specialized-roles/ into 2 docs\n",
      "2023-03-27 19:26:37,025 - Split https://lethain.com/career-levels-and-more/ into 7 docs\n",
      "2023-03-27 19:26:37,026 - Split https://lethain.com/perf-management-system/ into 7 docs\n",
      "2023-03-27 19:26:37,027 - Split https://lethain.com/first-team/ into 3 docs\n",
      "2023-03-27 19:26:37,028 - Split https://lethain.com/presenting-to-executives/ into 2 docs\n",
      "2023-03-27 19:26:37,029 - Split https://lethain.com/hiring-funnel/ into 2 docs\n",
      "2023-03-27 19:26:37,030 - Split https://lethain.com/scaling-consistency/ into 3 docs\n",
      "2023-03-27 19:26:37,030 - Split https://lethain.com/succession-planning/ into 2 docs\n",
      "2023-03-27 19:26:37,031 - Split https://lethain.com/identify-your-controls/ into 2 docs\n",
      "2023-03-27 19:26:37,032 - Split https://lethain.com/membership-opportunity/ into 4 docs\n",
      "2023-03-27 19:26:37,033 - Split https://lethain.com/service-cookbooks/ into 2 docs\n",
      "2023-03-27 19:26:37,034 - Split https://lethain.com/sizing-engineering-teams/ into 1 docs\n",
      "2023-03-27 19:26:37,035 - Split https://lethain.com/book-concept-systems-eng-leadership/ into 2 docs\n",
      "2023-03-27 19:26:37,036 - Split https://lethain.com/selecting-project-leads/ into 3 docs\n",
      "2023-03-27 19:26:37,036 - Split https://lethain.com/strategies-visions/ into 7 docs\n",
      "2023-03-27 19:26:37,037 - Split https://lethain.com/braindump-approach-writing-technical-book/ into 2 docs\n",
      "2023-03-27 19:26:37,038 - Split https://lethain.com/guiding-broad-change-with-metrics/ into 2 docs\n",
      "2023-03-27 19:26:37,039 - Split https://lethain.com/goals-and-baselines/ into 4 docs\n",
      "2023-03-27 19:26:37,039 - Split https://lethain.com/digg-v4/ into 9 docs\n",
      "2023-03-27 19:26:37,040 - Split https://lethain.com/rails-for-engineering-leadership/ into 2 docs\n",
      "2023-03-27 19:26:37,041 - Split https://lethain.com/case-against-top-down-global-optimization/ into 5 docs\n",
      "2023-03-27 19:26:37,042 - Split https://lethain.com/durably-excellent-teams/ into 3 docs\n",
      "2023-03-27 19:26:37,042 - Split https://lethain.com/organizational-risk/ into 2 docs\n",
      "2023-03-27 19:26:37,043 - Split https://lethain.com/dfsmr/ into 2 docs\n",
      "2023-03-27 19:26:37,044 - Split https://lethain.com/reasoning-about-big-balls-of-mud/ into 2 docs\n",
      "2023-03-27 19:26:37,045 - Split https://lethain.com/internal-candidates-for-senior-management/ into 2 docs\n",
      "2023-03-27 19:26:37,046 - Split https://lethain.com/setting-organizational-direction/ into 4 docs\n",
      "2023-03-27 19:26:37,046 - Split https://lethain.com/model-document-share/ into 3 docs\n",
      "2023-03-27 19:26:37,047 - Split https://lethain.com/migrations/ into 6 docs\n",
      "2023-03-27 19:26:37,049 - Split https://lethain.com/redis-protocol/ into 2 docs\n",
      "2023-03-27 19:26:37,050 - Split https://lethain.com/some-of-my-favorite-technical-papers/ into 29 docs\n",
      "2023-03-27 19:26:37,051 - Split https://lethain.com/close-out-solve-or-delegate/ into 2 docs\n",
      "2023-03-27 19:26:37,051 - Split https://lethain.com/managing-growth-plates/ into 3 docs\n",
      "2023-03-27 19:26:37,052 - Split https://lethain.com/good-strategy-bad-strategy/ into 1 docs\n",
      "2023-03-27 19:26:37,053 - Split https://lethain.com/how-write-group-emails-at-work/ into 5 docs\n",
      "2023-03-27 19:26:37,054 - Split https://lethain.com/refactoring-programmatically/ into 4 docs\n",
      "2023-03-27 19:26:37,055 - Split https://lethain.com/seth-godin-the-dip/ into 2 docs\n",
      "2023-03-27 19:26:37,056 - Split https://lethain.com/product-management-infra-engineering/ into 9 docs\n",
      "2023-03-27 19:26:37,056 - Split https://lethain.com/global-secondary-indexes/ into 5 docs\n",
      "2023-03-27 19:26:37,057 - Split https://lethain.com/experimenting-with-content-and-distribution/ into 4 docs\n",
      "2023-03-27 19:26:37,058 - Split https://lethain.com/inclusion-in-the-first-shift/ into 4 docs\n",
      "2023-03-27 19:26:37,059 - Split https://lethain.com/vulnerability/ into 3 docs\n",
      "2023-03-27 19:26:37,059 - Split https://lethain.com/physics-of-cloud-expansion/ into 7 docs\n",
      "2023-03-27 19:26:37,060 - Split https://lethain.com/async-processing-with-sync-semantics/ into 3 docs\n",
      "2023-03-27 19:26:37,061 - Split https://lethain.com/cold-sourcing/ into 8 docs\n",
      "2023-03-27 19:26:37,062 - Split https://lethain.com/roles-over-rocket-ships/ into 4 docs\n",
      "2023-03-27 19:26:37,063 - Split https://lethain.com/things-learned-in-2017/ into 3 docs\n",
      "2023-03-27 19:26:37,064 - Split https://lethain.com/analyzing-cross-service-requests-apache-beam/ into 3 docs\n",
      "2023-03-27 19:26:37,065 - Split https://lethain.com/from-lambda-to-kappa-dataflow-paradigms/ into 5 docs\n",
      "2023-03-27 19:26:37,066 - Split https://lethain.com/tools-for-operating-a-growing-org/ into 5 docs\n",
      "2023-03-27 19:26:37,067 - Split https://lethain.com/sketching-failure-injection-on-kubernetes/ into 1 docs\n",
      "2023-03-27 19:26:37,067 - Split https://lethain.com/simple-continuous-deployment-on-gke-with-gke-ci/ into 2 docs\n",
      "2023-03-27 19:26:37,068 - Split https://lethain.com/trying-google-container-engine/ into 3 docs\n",
      "2023-03-27 19:26:37,069 - Split https://lethain.com/pierceable-abstractions/ into 3 docs\n",
      "2023-03-27 19:26:37,070 - Split https://lethain.com/orchestrating-periodic-tasks/ into 2 docs\n",
      "2023-03-27 19:26:37,070 - Split https://lethain.com/increment-has-launched/ into 2 docs\n",
      "2023-03-27 19:26:37,071 - Split https://lethain.com/fifth-blog-rewrite/ into 2 docs\n",
      "2023-03-27 19:26:37,072 - Split https://lethain.com/running-an-engineering-reorg/ into 4 docs\n",
      "2023-03-27 19:26:37,073 - Split https://lethain.com/partnering-with-your-manager/ into 2 docs\n",
      "2023-03-27 19:26:37,074 - Split https://lethain.com/technology-inheritance/ into 2 docs\n",
      "2023-03-27 19:26:37,074 - Split https://lethain.com/infrastructure-between-cost-center-and-before-ego-trip/ into 2 docs\n",
      "2023-03-27 19:26:37,076 - Split https://lethain.com/braindump-on-load-generation/ into 9 docs\n",
      "2023-03-27 19:26:37,076 - Split https://lethain.com/finding-managerial-scope/ into 3 docs\n",
      "2023-03-27 19:26:37,077 - Split https://lethain.com/usable-qa-environments/ into 4 docs\n",
      "2023-03-27 19:26:37,078 - Split https://lethain.com/serverless-gatekeeping-and-profit-margins/ into 7 docs\n",
      "2023-03-27 19:26:37,083 - Split https://lethain.com/productivity-in-the-age-of-hypergrowth/ into 9 docs\n",
      "2023-03-27 19:26:37,097 - Split https://lethain.com/you-should-take-take-more-vacation/ into 3 docs\n",
      "2023-03-27 19:26:37,099 - Split https://lethain.com/acing-architecture-interview/ into 16 docs\n",
      "2023-03-27 19:26:37,100 - Split https://lethain.com/fail-open-layer-policy/ into 3 docs\n",
      "2023-03-27 19:26:37,101 - Split https://lethain.com/envoy-design/ into 6 docs\n",
      "2023-03-27 19:26:37,102 - Split https://lethain.com/qos-cost-quotas/ into 6 docs\n",
      "2023-03-27 19:26:37,103 - Split https://lethain.com/running-humane-interview-process/ into 9 docs\n",
      "2023-03-27 19:26:37,104 - Split https://lethain.com/healing-team-burnout/ into 2 docs\n",
      "2023-03-27 19:26:37,105 - Split https://lethain.com/rewriting-irrational-exuberance-in-go/ into 2 docs\n",
      "2023-03-27 19:26:37,106 - Split https://lethain.com/philosophy-of-management/ into 5 docs\n",
      "2023-03-27 19:26:37,107 - Split https://lethain.com/adding-value-as-an-engineering-manager/ into 7 docs\n",
      "2023-03-27 19:26:37,108 - Split https://lethain.com/lessons-from-developing-software-oriented-architectures/ into 6 docs\n",
      "2023-03-27 19:26:37,109 - Split https://lethain.com/building-a-software-deployment-pipeline/ into 2 docs\n",
      "2023-03-27 19:26:37,110 - Split https://lethain.com/irrational-exuberances-fourth-coming/ into 2 docs\n",
      "2023-03-27 19:26:37,111 - Split https://lethain.com/company-culture-and-managing-freedoms/ into 3 docs\n",
      "2023-03-27 19:26:37,117 - Split https://lethain.com/reflection-on-rethinkdb/ into 4 docs\n",
      "2023-03-27 19:26:37,118 - Split https://lethain.com/doing-it-harder-and-hero-programming/ into 5 docs\n",
      "2023-03-27 19:26:37,119 - Split https://lethain.com/configuration-driven-behavior/ into 3 docs\n",
      "2023-03-27 19:26:37,120 - Split https://lethain.com/extracting-metadata-from-html-documents-with-extraction/ into 1 docs\n",
      "2023-03-27 19:26:37,121 - Split https://lethain.com/social-hierarchies-in-engineering-organizations/ into 2 docs\n",
      "2023-03-27 19:26:37,122 - Split https://lethain.com/creating-multi-worksheet-excel-docs-with-pythons-xlwt/ into 3 docs\n",
      "2023-03-27 19:26:37,122 - Split https://lethain.com/building-technical-leverage/ into 2 docs\n",
      "2023-03-27 19:26:37,123 - Split https://lethain.com/hosting-paper-reading-group/ into 2 docs\n",
      "2023-03-27 19:26:37,214 - Split https://lethain.com/why-pagination-was-hard-at-digg/ into 5 docs\n",
      "2023-03-27 19:26:37,215 - Split https://lethain.com/slack-and-hope-for-middle-management/ into 2 docs\n",
      "2023-03-27 19:26:37,216 - Split https://lethain.com/digg-v4-architecture-process/ into 6 docs\n",
      "2023-03-27 19:26:37,217 - Split https://lethain.com/writing-analytics-and-analysis/ into 4 docs\n",
      "2023-03-27 19:26:37,218 - Split https://lethain.com/storing-bounded-timeboxes-in-redis/ into 3 docs\n",
      "2023-03-27 19:26:37,219 - Split https://lethain.com/using-flot-js-with-digg-streaming-api/ into 3 docs\n",
      "2023-03-27 19:26:37,220 - Split https://lethain.com/introduction-to-architecting-systems-for-scale/ into 11 docs\n",
      "2023-03-27 19:26:37,220 - Split https://lethain.com/how-to-filter-bots-from-analytics/ into 3 docs\n",
      "2023-03-27 19:26:37,221 - Split https://lethain.com/dont-make-me-think-steve-krug-review/ into 2 docs\n",
      "2023-03-27 19:26:37,222 - Split https://lethain.com/irrational-exuberance-analytics-implementing-writing-workflow/ into 4 docs\n",
      "2023-03-27 19:26:37,223 - Split https://lethain.com/irrational-exuberance-returns-for-the-third-time/ into 6 docs\n",
      "2023-03-27 19:26:37,223 - Split https://lethain.com/being-defensive/ into 1 docs\n",
      "2023-03-27 19:26:37,224 - Split https://lethain.com/python-datastructures-backed-by-redis/ into 3 docs\n",
      "2023-03-27 19:26:37,225 - Split https://lethain.com/djangodash-and-drinkfindr/ into 1 docs\n",
      "2023-03-27 19:26:37,226 - Split https://lethain.com/notes-on-redis-memory-usage/ into 5 docs\n",
      "2023-03-27 19:26:37,226 - Split https://lethain.com/supercolumn-relationships-with-lazyboy/ into 5 docs\n",
      "2023-03-27 19:26:37,227 - Split https://lethain.com/tailing-in-python/ into 1 docs\n",
      "2023-03-27 19:26:37,228 - Split https://lethain.com/callbacks-as-an-ad-hoc-and-informal-pipeline/ into 4 docs\n",
      "2023-03-27 19:26:37,229 - Split https://lethain.com/porting-django-s-urlpatterns-to-node-js/ into 2 docs\n",
      "2023-03-27 19:26:37,229 - Split https://lethain.com/retiring-and-releasing-codernote-com/ into 1 docs\n",
      "2023-03-27 19:26:37,230 - Split https://lethain.com/the-day-i-broke-production/ into 4 docs\n",
      "2023-03-27 19:26:37,231 - Split https://lethain.com/looking-for-a-new-agenda/ into 2 docs\n",
      "2023-03-27 19:26:37,232 - Split https://lethain.com/log-collection-server-with-node-js/ into 3 docs\n",
      "2023-03-27 19:26:37,232 - Split https://lethain.com/debugging-crashes-with-small-scripts/ into 2 docs\n",
      "2023-03-27 19:26:37,234 - Split https://lethain.com/a-python-markdown-extension-for-embedding-graphviz/ into 1 docs\n",
      "2023-03-27 19:26:37,234 - Split https://lethain.com/a-photo-album-with-python-and-pil/ into 2 docs\n",
      "2023-03-27 19:26:37,235 - Split https://lethain.com/refactoring-testing-our-dynamo-clone/ into 6 docs\n",
      "2023-03-27 19:26:37,236 - Split https://lethain.com/quick-notes-for-starting-2010/ into 4 docs\n",
      "2023-03-27 19:26:37,237 - Split https://lethain.com/nagios-monitoring-for-erlang/ into 1 docs\n",
      "2023-03-27 19:26:37,237 - Split https://lethain.com/replicating-receive-after-in-an-erlang-gen_server/ into 1 docs\n",
      "2023-03-27 19:26:37,238 - Split https://lethain.com/durable-writes-consistent-reads/ into 9 docs\n",
      "2023-03-27 19:26:37,239 - Split https://lethain.com/hands-on-review-of-the-dynamo-paper/ into 8 docs\n",
      "2023-03-27 19:26:37,240 - Split https://lethain.com/recurring-events-and-message-passing/ into 5 docs\n",
      "2023-03-27 19:26:37,241 - Split https://lethain.com/scalable-scraping-in-clojure/ into 7 docs\n",
      "2023-03-27 19:26:37,242 - Split https://lethain.com/a-couple-of-clojure-agent-examples/ into 5 docs\n",
      "2023-03-27 19:26:37,243 - Split https://lethain.com/writing-files-in-clojure/ into 2 docs\n",
      "2023-03-27 19:26:37,244 - Split https://lethain.com/reading-file-in-clojure/ into 2 docs\n",
      "2023-03-27 19:26:37,244 - Split https://lethain.com/setting-up-tla-tools-on-os-x/ into 1 docs\n",
      "2023-03-27 19:26:37,245 - Split https://lethain.com/comments-on-why-engineers-should-formal-methods/ into 3 docs\n",
      "2023-03-27 19:26:37,246 - Split https://lethain.com/money-or-meaning-spending-our-wealth-of-time/ into 8 docs\n",
      "2023-03-27 19:26:37,247 - Split https://lethain.com/cleaning-up-erlang_markdown/ into 6 docs\n",
      "2023-03-27 19:26:37,247 - Split https://lethain.com/a-failed-stack-based-markdown-interpreter/ into 3 docs\n",
      "2023-03-27 19:26:37,248 - Split https://lethain.com/proposal-for-authenticating-web-callbacks/ into 2 docs\n",
      "2023-03-27 19:26:37,249 - Split https://lethain.com/generating-rss-feeds-via-beepbeep/ into 2 docs\n",
      "2023-03-27 19:26:37,250 - Split https://lethain.com/how-pitance-versions-documents-in-couchdb/ into 2 docs\n",
      "2023-03-27 19:26:37,251 - Split https://lethain.com/erlang-brush-for-syntaxhighlighter/ into 1 docs\n",
      "2023-03-27 19:26:37,253 - Split https://lethain.com/pitance-template-and-snippet-infrastructure/ into 2 docs\n",
      "2023-03-27 19:26:37,254 - Split https://lethain.com/load-balancing-across-erlang-process-groups/ into 2 docs\n",
      "2023-03-27 19:26:37,255 - Split https://lethain.com/paper-review-of-hints-on-computer-system-design/ into 5 docs\n",
      "2023-03-27 19:26:37,256 - Split https://lethain.com/paper-review-of-a-transaction-model/ into 6 docs\n",
      "2023-03-27 19:26:37,257 - Split https://lethain.com/success-and-dancing-shoes/ into 2 docs\n",
      "2023-03-27 19:26:37,258 - Split https://lethain.com/how-to-version-files-in-php/ into 3 docs\n",
      "2023-03-27 19:26:37,259 - Split https://lethain.com/freebase-hackday-and-image-game/ into 2 docs\n",
      "2023-03-27 19:26:37,260 - Split https://lethain.com/beepbeep-couchdb-and-a-trivial-blog/ into 7 docs\n",
      "2023-03-27 19:26:37,261 - Split https://lethain.com/using-ajax-with-the-beepbeep-microframework/ into 3 docs\n",
      "2023-03-27 19:26:37,262 - Split https://lethain.com/getting-started-with-beepbeep/ into 5 docs\n",
      "2023-03-27 19:26:37,263 - Split https://lethain.com/yui-dialogs-ie-z-index-and-tragedy/ into 2 docs\n",
      "2023-03-27 19:26:37,264 - Split https://lethain.com/feedback-loops-in-software-development/ into 7 docs\n",
      "2023-03-27 19:26:37,264 - Split https://lethain.com/recycling-hacker-fear-mongering/ into 4 docs\n",
      "2023-03-27 19:26:37,265 - Split https://lethain.com/skew-the-frontend-engineer-s-misery/ into 7 docs\n",
      "2023-03-27 19:26:37,266 - Split https://lethain.com/os-x-textfield-encoding-maybe-issue/ into 2 docs\n",
      "2023-03-27 19:26:37,267 - Split https://lethain.com/findjango-redesign-slides-for-django-nyc/ into 1 docs\n",
      "2023-03-27 19:26:37,268 - Split https://lethain.com/how-to-remotely-admin-servers-via-twitter/ into 2 docs\n",
      "2023-03-27 19:26:37,269 - Split https://lethain.com/findjango-a-week-of-progress/ into 3 docs\n",
      "2023-03-27 19:26:37,270 - Split https://lethain.com/making-django-apps-run-on-and-off-gae/ into 3 docs\n",
      "2023-03-27 19:26:37,270 - Split https://lethain.com/technical-debt-and-peanut-butter-jars/ into 1 docs\n",
      "2023-03-27 19:26:37,271 - Split https://lethain.com/introducing-findjango-a-django-search-vertical/ into 2 docs\n",
      "2023-03-27 19:26:37,272 - Split https://lethain.com/solango-and-tomcat-6-on-ubuntu-intrepid/ into 4 docs\n",
      "2023-03-27 19:26:37,273 - Split https://lethain.com/deploying-django-springsteen-on-google-app-engine/ into 6 docs\n",
      "2023-03-27 19:26:37,274 - Split https://lethain.com/custom-reranking-of-results-and-django-springsteen/ into 4 docs\n",
      "2023-03-27 19:26:37,275 - Split https://lethain.com/django-springsteen-and-distributed-search/ into 6 docs\n",
      "2023-03-27 19:26:37,276 - Split https://lethain.com/leaving-dreamhost/ into 2 docs\n",
      "2023-03-27 19:26:37,276 - Split https://lethain.com/smaller-header-jobsyndicate-printable-articles/ into 3 docs\n",
      "2023-03-27 19:26:37,277 - Split https://lethain.com/measuring-server-performance-single-vs-multi/ into 3 docs\n",
      "2023-03-27 19:26:37,278 - Split https://lethain.com/rewriting-parameterized-urls-with-nginx/ into 2 docs\n",
      "2023-03-27 19:26:37,279 - Split https://lethain.com/overview-of-single-vs-multi-server-architecture/ into 5 docs\n",
      "2023-03-27 19:26:37,279 - Split https://lethain.com/when-psycopg2-can-t-import-tz/ into 1 docs\n",
      "2023-03-27 19:26:37,280 - Split https://lethain.com/the-django-and-ubuntu-intrepid-almanac/ into 13 docs\n",
      "2023-03-27 19:26:37,281 - Split https://lethain.com/using-threadpools-in-python/ into 4 docs\n",
      "2023-03-27 19:26:37,283 - Split https://lethain.com/setting-up-couchdb-lucene-on-os-x-some-issues/ into 3 docs\n",
      "2023-03-27 19:26:37,284 - Split https://lethain.com/we-re-all-sinners-and-cosiners/ into 1 docs\n",
      "2023-03-27 19:26:37,284 - Split https://lethain.com/visualizing-keyterms-with-boss-and-processing/ into 1 docs\n",
      "2023-03-27 19:26:37,285 - Split https://lethain.com/cull-lingering-erlang-heart-processes/ into 2 docs\n",
      "2023-03-27 19:26:37,286 - Split https://lethain.com/hard-and-soft-fluffy-and-brittle/ into 6 docs\n",
      "2023-03-27 19:26:37,287 - Split https://lethain.com/simple-unittesting-in-php/ into 3 docs\n",
      "2023-03-27 19:26:37,288 - Split https://lethain.com/stripping-illegal-characters-from-xml-in-python/ into 2 docs\n",
      "2023-03-27 19:26:37,288 - Split https://lethain.com/handling-very-large-csv-and-xml-files-in-python/ into 4 docs\n",
      "2023-03-27 19:26:37,289 - Split https://lethain.com/a-filter-to-display-neighbors-in-a-list/ into 2 docs\n",
      "2023-03-27 19:26:37,290 - Split https://lethain.com/genetic-programming-a-novel-failure/ into 11 docs\n",
      "2023-03-27 19:26:37,291 - Split https://lethain.com/genetic-algorithms-cool-name-damn-simple/ into 7 docs\n",
      "2023-03-27 19:26:37,292 - Split https://lethain.com/moving-into-2009/ into 3 docs\n",
      "2023-03-27 19:26:37,293 - Split https://lethain.com/the-subtle-joys-of-generic-methods/ into 4 docs\n",
      "2023-03-27 19:26:37,294 - Split https://lethain.com/a-command-line-tool-for-loading-couchdb-documents/ into 2 docs\n",
      "2023-03-27 19:26:37,294 - Split https://lethain.com/full-text-search-in-couchdb-using-couchdb/ into 3 docs\n",
      "2023-03-27 19:26:37,295 - Split https://lethain.com/blogging-as-people/ into 6 docs\n",
      "2023-03-27 19:26:37,296 - Split https://lethain.com/intro-to-http-server-simple-cgi/ into 2 docs\n",
      "2023-03-27 19:26:37,297 - Split https://lethain.com/finally-waving-the-white-flag-to-objective-c-2-0/ into 4 docs\n",
      "2023-03-27 19:26:37,298 - Split https://lethain.com/fixing-what-ails-lifeflow/ into 4 docs\n",
      "2023-03-27 19:26:37,299 - Split https://lethain.com/prevent-cron-cancer-with-a-file-based-mutex/ into 2 docs\n",
      "2023-03-27 19:26:37,309 - Split https://lethain.com/parallel-http-requests-in-python/ into 2 docs\n",
      "2023-03-27 19:26:37,316 - Split https://lethain.com/reading-xml-files-on-the-iphone/ into 1 docs\n",
      "2023-03-27 19:26:37,318 - Split https://lethain.com/a-different-approach-to-local_settings-py/ into 2 docs\n",
      "2023-03-27 19:26:37,319 - Split https://lethain.com/xml-twig-for-large-xml-files-in-perl/ into 4 docs\n",
      "2023-03-27 19:26:37,320 - Split https://lethain.com/python-brightkite-for-using-brightkite-in-python/ into 4 docs\n",
      "2023-03-27 19:26:37,321 - Split https://lethain.com/introducing-a-tutorial-and-touchdefense/ into 1 docs\n",
      "2023-03-27 19:26:37,326 - Split https://lethain.com/the-blogging-hypochondriac/ into 4 docs\n",
      "2023-03-27 19:26:37,329 - Split https://lethain.com/the-fate-of-pop-and-hip-hop-in-2008/ into 3 docs\n",
      "2023-03-27 19:26:37,330 - Split https://lethain.com/xml-simple-for-non-perlers/ into 3 docs\n",
      "2023-03-27 19:26:37,331 - Split https://lethain.com/you-only-learn-the-first-time/ into 4 docs\n",
      "2023-03-27 19:26:37,333 - Split https://lethain.com/bad-ideas-and-regular-expressions-in-templates/ into 3 docs\n",
      "2023-03-27 19:26:37,334 - Split https://lethain.com/deploying-django-with-fabric/ into 5 docs\n",
      "2023-03-27 19:26:37,335 - Split https://lethain.com/development-to-deployment-in-django/ into 5 docs\n",
      "2023-03-27 19:26:37,337 - Split https://lethain.com/creating-slideshows-with-cocos2d-iphone/ into 6 docs\n",
      "2023-03-27 19:26:37,338 - Split https://lethain.com/customize-site-style-by-user-with-django-userskins/ into 3 docs\n",
      "2023-03-27 19:26:37,338 - Split https://lethain.com/user-registration-apps-for-django/ into 4 docs\n",
      "2023-03-27 19:26:37,340 - Split https://lethain.com/advice-to-programmers-in-college/ into 11 docs\n",
      "2023-03-27 19:26:37,341 - Split https://lethain.com/touch-detection-in-cocos2d-iphone/ into 5 docs\n",
      "2023-03-27 19:26:37,342 - Split https://lethain.com/being-a-local-maximum/ into 2 docs\n",
      "2023-03-27 19:26:37,343 - Split https://lethain.com/hss-and-yui-compressor-in-aym-cms/ into 3 docs\n",
      "2023-03-27 19:26:37,344 - Split https://lethain.com/r-i-p-your-resume-site-to-awesome/ into 2 docs\n",
      "2023-03-27 19:26:37,344 - Split https://lethain.com/taming-audittrail-proliferation/ into 2 docs\n",
      "2023-03-27 19:26:37,345 - Split https://lethain.com/choosing-between-audittrail-and-django-rcsfield/ into 2 docs\n",
      "2023-03-27 19:26:37,346 - Split https://lethain.com/setting-up-django-rcsfield/ into 5 docs\n",
      "2023-03-27 19:26:37,347 - Split https://lethain.com/restricting-user-signups-in-django/ into 2 docs\n",
      "2023-03-27 19:26:37,347 - Split https://lethain.com/failing-a-contract/ into 4 docs\n",
      "2023-03-27 19:26:37,348 - Split https://lethain.com/the-magical-source-of-yui-get-s-power/ into 2 docs\n",
      "2023-03-27 19:26:37,349 - Split https://lethain.com/notes-on-cocos2d-iphone-development/ into 6 docs\n",
      "2023-03-27 19:26:37,350 - Split https://lethain.com/suffer-less-by-using-django-dev-server-as-a-proxy/ into 3 docs\n",
      "2023-03-27 19:26:37,351 - Split https://lethain.com/writing-for-consumption/ into 2 docs\n",
      "2023-03-27 19:26:37,352 - Split https://lethain.com/starting-again-keeping-simple/ into 2 docs\n",
      "2023-03-27 19:26:37,353 - Split https://lethain.com/as-you-type-slug-uniqueness-validation/ into 2 docs\n",
      "2023-03-27 19:26:37,354 - Split https://lethain.com/layers-of-authentication/ into 5 docs\n",
      "2023-03-27 19:26:37,355 - Split https://lethain.com/custom-django-views-for-happier-ajax/ into 5 docs\n",
      "2023-03-27 19:26:37,356 - Split https://lethain.com/using-automator-to-scale-images-horizontally/ into 2 docs\n",
      "2023-03-27 19:26:37,357 - Split https://lethain.com/redesign-of-lethain-com/ into 3 docs\n",
      "2023-03-27 19:26:37,358 - Split https://lethain.com/intro-to-unintrusive-javascript-with-django/ into 19 docs\n",
      "2023-03-27 19:26:37,359 - Split https://lethain.com/aymcms-com-your-one-stop-aym-cms-solution/ into 1 docs\n",
      "2023-03-27 19:26:37,360 - Split https://lethain.com/making-static-dynamic-again-aym-cms/ into 2 docs\n",
      "2023-03-27 19:26:37,360 - Split https://lethain.com/intricate-static-websites-with-django-templates/ into 5 docs\n",
      "2023-03-27 19:26:37,361 - Split https://lethain.com/sparklines-js-port-to-python/ into 2 docs\n",
      "2023-03-27 19:26:37,362 - Split https://lethain.com/yes-you-do-care-about-cappuccino/ into 5 docs\n",
      "2023-03-27 19:26:37,363 - Split https://lethain.com/extending-mahou-gotchas-and-snippets/ into 5 docs\n",
      "2023-03-27 19:26:37,365 - Split https://lethain.com/extracting-data-from-google-analytics-reports/ into 2 docs\n",
      "2023-03-27 19:26:37,366 - Split https://lethain.com/extending-classes-in-cappuccino/ into 3 docs\n",
      "2023-03-27 19:26:37,368 - Split https://lethain.com/writing-mahou-a-cappuccino-image-search/ into 6 docs\n",
      "2023-03-27 19:26:37,369 - Split https://lethain.com/startups-and-assembly-lines/ into 10 docs\n",
      "2023-03-27 19:26:37,370 - Split https://lethain.com/migrating-the-this-week-in-django-concept/ into 2 docs\n",
      "2023-03-27 19:26:37,371 - Split https://lethain.com/poor-wireless-connectivity-for-macbook/ into 2 docs\n",
      "2023-03-27 19:26:37,372 - Split https://lethain.com/naming-and-casing-convention-in-pyobjc/ into 2 docs\n",
      "2023-03-27 19:26:37,373 - Split https://lethain.com/introducing-kappa-a-twitter-client/ into 4 docs\n",
      "2023-03-27 19:26:37,374 - Split https://lethain.com/i-live-in-new-jersey/ into 2 docs\n",
      "2023-03-27 19:26:37,375 - Split https://lethain.com/dynamic-ad-targeting-with-django-monetize/ into 7 docs\n",
      "2023-03-27 19:26:37,376 - Split https://lethain.com/transcending-search-as-you-type-stickiness/ into 5 docs\n",
      "2023-03-27 19:26:37,377 - Split https://lethain.com/epic-pyobjc-part-5-resources-and-farewell/ into 3 docs\n",
      "2023-03-27 19:26:37,378 - Split https://lethain.com/epic-pyobjc-part-4-drag-drop-multiple-nibs/ into 15 docs\n",
      "2023-03-27 19:26:37,379 - Split https://lethain.com/epic-pyobjc-part-3-browsing-caching-indicating/ into 10 docs\n",
      "2023-03-27 19:26:37,380 - Split https://lethain.com/epic-pyobjc-part-2-adding-a-library-bindings/ into 13 docs\n",
      "2023-03-27 19:26:37,381 - Split https://lethain.com/an-epic-introduction-to-pyobjc-and-cocoa/ into 15 docs\n",
      "2023-03-27 19:26:37,383 - Split https://lethain.com/writing-titles-under-ninety-five-characters/ into 3 docs\n",
      "2023-03-27 19:26:37,384 - Split https://lethain.com/deleting-from-nsoutlineview-with-the-delete-key/ into 2 docs\n",
      "2023-03-27 19:26:37,386 - Split https://lethain.com/how-to-use-selectors-in-pyobjc/ into 2 docs\n",
      "2023-03-27 19:26:37,387 - Split https://lethain.com/an-introduction-to-using-couchdb-with-django/ into 9 docs\n",
      "2023-03-27 19:26:37,388 - Split https://lethain.com/global-popularity-of-programming-languages/ into 1 docs\n",
      "2023-03-27 19:26:37,390 - Split https://lethain.com/an-introduction-to-compassionate-screenscraping/ into 10 docs\n",
      "2023-03-27 19:26:37,391 - Split https://lethain.com/a-syntax-coloring-template-filter-for-django/ into 2 docs\n",
      "2023-03-27 19:26:37,393 - Split https://lethain.com/a-year-later-home-from-japan/ into 3 docs\n",
      "2023-03-27 19:26:37,394 - Split https://lethain.com/python-content-scraper-for-onemanga-com/ into 3 docs\n",
      "2023-03-27 19:26:37,394 - Split https://lethain.com/reading-the-nudist-on-the-late-shift-in-2008/ into 4 docs\n",
      "2023-03-27 19:26:37,395 - Split https://lethain.com/cocoa-drag-and-drop-text-into-the-dock-icon/ into 3 docs\n",
      "2023-03-27 19:26:37,396 - Split https://lethain.com/how-to-write-a-wrapper-library/ into 5 docs\n",
      "2023-03-27 19:26:37,397 - Split https://lethain.com/bossarray-for-list-like-yahoo-search-results/ into 2 docs\n",
      "2023-03-27 19:26:37,398 - Split https://lethain.com/replacing-django-s-orm-with-sqlalchemy/ into 7 docs\n",
      "2023-03-27 19:26:37,399 - Split https://lethain.com/replacing-django-s-template-language-with-jinja2/ into 2 docs\n",
      "2023-03-27 19:26:37,400 - Split https://lethain.com/an-introduction-to-django-s-loose-coupling/ into 2 docs\n",
      "2023-03-27 19:26:37,403 - Split https://lethain.com/reflections-on-a-year-of-blogging-and-japan/ into 9 docs\n",
      "2023-03-27 19:26:37,404 - Split https://lethain.com/last-day-of-elementary-school-and-classes/ into 2 docs\n",
      "2023-03-27 19:26:37,404 - Split https://lethain.com/stripping-reddit-from-hackernews-with-boss-mashup/ into 4 docs\n",
      "2023-03-27 19:26:37,406 - Split https://lethain.com/polishing-up-our-django-boss-search-service/ into 5 docs\n",
      "2023-03-27 19:26:37,406 - Split https://lethain.com/search-recipes-for-yahoo-s-boss-in-python/ into 4 docs\n",
      "2023-03-27 19:26:37,407 - Split https://lethain.com/yahoo-s-build-your-own-search-service-in-django/ into 6 docs\n",
      "2023-03-27 19:26:37,408 - Split https://lethain.com/release-of-lifeflow-0-91/ into 6 docs\n",
      "2023-03-27 19:26:37,409 - Split https://lethain.com/advice-for-alts-considering-a-second-year/ into 4 docs\n",
      "2023-03-27 19:26:37,410 - Split https://lethain.com/a-thursday-elementary-school/ into 5 docs\n",
      "2023-03-27 19:26:37,411 - Split https://lethain.com/an-introduction-to-a-week-in-japan/ into 2 docs\n",
      "2023-03-27 19:26:37,412 - Split https://lethain.com/rest-textile-and-html-in-markdown/ into 2 docs\n",
      "2023-03-27 19:26:37,413 - Split https://lethain.com/updates-to-sparklines-js/ into 2 docs\n",
      "2023-03-27 19:26:37,414 - Split https://lethain.com/sparklines-in-javascript-with-sparklines-js/ into 1 docs\n",
      "2023-03-27 19:26:37,415 - Split https://lethain.com/json-object-oriented-views-and-starting-a-real-app/ into 5 docs\n",
      "2023-03-27 19:26:37,417 - Split https://lethain.com/ambush-code-review-learns-code-diffs/ into 3 docs\n",
      "2023-03-27 19:26:37,418 - Split https://lethain.com/overview-of-using-django-on-the-google-app-engine/ into 8 docs\n",
      "2023-03-27 19:26:37,419 - Split https://lethain.com/a-sunday-project-ambush-code-review/ into 2 docs\n",
      "2023-03-27 19:26:37,420 - Split https://lethain.com/wielding-django-up-to-speed/ into 4 docs\n",
      "2023-03-27 19:26:37,420 - Split https://lethain.com/a-django-anti-pattern-rolling-your-own-rest/ into 2 docs\n",
      "2023-03-27 19:26:37,421 - Split https://lethain.com/wielding-django-part-1-minimalism/ into 4 docs\n",
      "2023-03-27 19:26:37,423 - Split https://lethain.com/working-on-lifeflow-s-public-face/ into 3 docs\n",
      "2023-03-27 19:26:37,424 - Split https://lethain.com/release-of-lifeflow-version-0-90/ into 4 docs\n",
      "2023-03-27 19:26:37,425 - Split https://lethain.com/deployment-scripts-with-beautifulsoup/ into 3 docs\n",
      "2023-03-27 19:26:37,426 - Split https://lethain.com/processed-tower-defense-1-0/ into 3 docs\n",
      "2023-03-27 19:26:37,427 - Split https://lethain.com/things-i-ll-miss-in-japan/ into 4 docs\n",
      "2023-03-27 19:26:37,428 - Split https://lethain.com/strangest-javascript-bug-ive-ever-seen/ into 1 docs\n",
      "2023-03-27 19:26:37,429 - Split https://lethain.com/looking-for-recyclings-lost-sex-appeal/ into 4 docs\n",
      "2023-03-27 19:26:37,431 - Split https://lethain.com/updates-to-processed-tower-defense/ into 4 docs\n",
      "2023-03-27 19:26:37,432 - Split https://lethain.com/may-in-review/ into 3 docs\n",
      "2023-03-27 19:26:37,434 - Split https://lethain.com/processing-js-no-tsukaikata/ into 2 docs\n",
      "2023-03-27 19:26:37,435 - Split https://lethain.com/spoken-languages--blub--and-convenience/ into 6 docs\n",
      "2023-03-27 19:26:37,435 - Split https://lethain.com/music-from-the-itunes-store--1/ into 5 docs\n",
      "2023-03-27 19:26:37,436 - Split https://lethain.com/improvements-to-lifeflow-editor/ into 2 docs\n",
      "2023-03-27 19:26:37,437 - Split https://lethain.com/updating-processing-js-graphics-via-ajax/ into 4 docs\n",
      "2023-03-27 19:26:37,438 - Split https://lethain.com/design-of-processed-tower-defense/ into 5 docs\n",
      "2023-03-27 19:26:37,439 - Split https://lethain.com/three-processing-js-examples/ into 3 docs\n",
      "2023-03-27 19:26:37,440 - Split https://lethain.com/using-javascript-to-control-processing/ into 3 docs\n",
      "2023-03-27 19:26:37,440 - Split https://lethain.com/getting-started-with-processing-js/ into 4 docs\n",
      "2023-03-27 19:26:37,441 - Split https://lethain.com/our-yellow-woods-and-a-story/ into 3 docs\n",
      "2023-03-27 19:26:37,442 - Split https://lethain.com/writing-join-in-erlang/ into 2 docs\n",
      "2023-03-27 19:26:37,443 - Split https://lethain.com/photographing-japan/ into 2 docs\n",
      "2023-03-27 19:26:37,443 - Split https://lethain.com/spring-haiku-and-tanka/ into 2 docs\n",
      "2023-03-27 19:26:37,444 - Split https://lethain.com/thoughts-on-dating-erlang/ into 7 docs\n",
      "2023-03-27 19:26:37,445 - Split https://lethain.com/designing-elesma/ into 5 docs\n",
      "2023-03-27 19:26:37,446 - Split https://lethain.com/a-week-in-the-job/ into 6 docs\n",
      "2023-03-27 19:26:37,446 - Split https://lethain.com/opening-files-with-associated-app-in-cocoa/ into 2 docs\n",
      "2023-03-27 19:26:37,448 - Split https://lethain.com/tip-your-hat-to-accessors-and-mutators/ into 4 docs\n",
      "2023-03-27 19:26:37,449 - Split https://lethain.com/handling-files-with-coredata/ into 7 docs\n",
      "2023-03-27 19:26:37,450 - Split https://lethain.com/catching-up-on-some-thoughts/ into 6 docs\n",
      "2023-03-27 19:26:37,451 - Split https://lethain.com/tools-languages-and-squeak/ into 2 docs\n",
      "2023-03-27 19:26:37,451 - Split https://lethain.com/quick-reflections-on-jet-in-haiku/ into 1 docs\n",
      "2023-03-27 19:26:37,452 - Split https://lethain.com/one-to-many-relationships-in-coredata/ into 2 docs\n",
      "2023-03-27 19:26:37,453 - Split https://lethain.com/on-writing/ into 7 docs\n",
      "2023-03-27 19:26:37,454 - Split https://lethain.com/filtering-arrays-in-objective-c/ into 3 docs\n",
      "2023-03-27 19:26:37,455 - Split https://lethain.com/teaching-elementary-classes-as-an-alt/ into 9 docs\n",
      "2023-03-27 19:26:37,455 - Split https://lethain.com/my-first-sickday-in-japan/ into 3 docs\n",
      "2023-03-27 19:26:37,456 - Split https://lethain.com/midnight-philosophy-in-the-garden-of-good-and-evil/ into 2 docs\n",
      "2023-03-27 19:26:37,457 - Split https://lethain.com/seeking-some-music-i-cant-find/ into 4 docs\n",
      "2023-03-27 19:26:37,458 - Split https://lethain.com/some-biased-analysis-of-music-videos/ into 10 docs\n",
      "2023-03-27 19:26:37,458 - Split https://lethain.com/using-our-own-software/ into 4 docs\n",
      "2023-03-27 19:26:37,459 - Split https://lethain.com/using-optional-parameters-in-django-urls/ into 2 docs\n",
      "2023-03-27 19:26:37,460 - Split https://lethain.com/technical-aspects-of-the-life-flow-editor/ into 5 docs\n",
      "2023-03-27 19:26:37,461 - Split https://lethain.com/introducting-the-lifeflow-editor/ into 5 docs\n",
      "2023-03-27 19:26:37,461 - Split https://lethain.com/why-was-the-syllabus-born/ into 8 docs\n",
      "2023-03-27 19:26:37,462 - Split https://lethain.com/hegemony-and-anti-capitalist-bias-european-textboo/ into 4 docs\n",
      "2023-03-27 19:26:37,463 - Split https://lethain.com/5-chartered-bus-tokyo/ into 5 docs\n",
      "2023-03-27 19:26:37,463 - Split https://lethain.com/standard-workflow-publishing-lifeflow/ into 2 docs\n",
      "2023-03-27 19:26:37,464 - Split https://lethain.com/replacing-karma-social-model-whuffie/ into 3 docs\n",
      "2023-03-27 19:26:37,465 - Split https://lethain.com/lessons-caught-spam/ into 3 docs\n",
      "2023-03-27 19:26:37,466 - Split https://lethain.com/translating-entries-other-languages-lifeflow/ into 4 docs\n",
      "2023-03-27 19:26:37,467 - Split https://lethain.com/historical-perspective-jet-program-2008/ into 4 docs\n",
      "2023-03-27 19:26:37,468 - Split https://lethain.com/causes-and-cures-malware/ into 5 docs\n",
      "2023-03-27 19:26:37,469 - Split https://lethain.com/failures-proactive-communication-other-generic-com/ into 5 docs\n",
      "2023-03-27 19:26:37,469 - Split https://lethain.com/reflections-old-year-new-japanese/ into 1 docs\n",
      "2023-03-27 19:26:37,470 - Split https://lethain.com/opinionated-programming-languages-huddled-masses-a/ into 4 docs\n",
      "2023-03-27 19:26:37,471 - Split https://lethain.com/lesson-plan-my-winter-vacation/ into 2 docs\n",
      "2023-03-27 19:26:37,471 - Split https://lethain.com/new-style-including-resources-entries-lifeflow/ into 2 docs\n",
      "2023-03-27 19:26:37,472 - Split https://lethain.com/adding-arbitrary-mods-lifeflow/ into 4 docs\n",
      "2023-03-27 19:26:37,473 - Split https://lethain.com/introduction-kamioka-cho-hida-shi-gifu-ken-japan/ into 5 docs\n",
      "2023-03-27 19:26:37,474 - Split https://lethain.com/odors-shoes-curious-os-x-104/ into 2 docs\n",
      "2023-03-27 19:26:37,474 - Split https://lethain.com/driving-left-side/ into 2 docs\n",
      "2023-03-27 19:26:37,475 - Split https://lethain.com/dont-repeat-yourself-bloggers-dynamic-blog-context/ into 5 docs\n",
      "2023-03-27 19:26:37,475 - Split https://lethain.com/cleanly-extending-python-markdown-syntax-highlight/ into 3 docs\n",
      "2023-03-27 19:26:37,476 - Split https://lethain.com/customizing-lifeflow-quickly-with-skins/ into 2 docs\n",
      "2023-03-27 19:26:37,477 - Split https://lethain.com/installing-development-deployment-lifeflow-django-/ into 7 docs\n",
      "2023-03-27 19:26:37,478 - Split https://lethain.com/reflections-old-year-and-new-one/ into 4 docs\n",
      "2023-03-27 19:26:37,478 - Split https://lethain.com/music-recommendations-snow-pictures/ into 1 docs\n",
      "2023-03-27 19:26:37,479 - Split https://lethain.com/implementing-threaded-comments-lifeflow/ into 3 docs\n",
      "2023-03-27 19:26:37,480 - Split https://lethain.com/actors-common-lisp/ into 2 docs\n",
      "2023-03-27 19:26:37,481 - Split https://lethain.com/miyajima-and-hiroshima/ into 2 docs\n",
      "2023-03-27 19:26:37,481 - Split https://lethain.com/merry-christmas-2007/ into 1 docs\n",
      "2023-03-27 19:26:37,482 - Split https://lethain.com/two-faced-django-part-7-pyfacebook-and-fbjs-ajax/ into 4 docs\n",
      "2023-03-27 19:26:37,483 - Split https://lethain.com/two-faced-django-live-install/ into 1 docs\n",
      "2023-03-27 19:26:37,484 - Split https://lethain.com/two-faced-django-part-six-pyfacebook/ into 9 docs\n",
      "2023-03-27 19:26:37,485 - Split https://lethain.com/two-faced-django-part-5-jquery-ajax/ into 5 docs\n",
      "2023-03-27 19:26:37,486 - Split https://lethain.com/4-airplanes/ into 4 docs\n",
      "2023-03-27 19:26:37,487 - Split https://lethain.com/two-faced-django-implementing-most-webapp/ into 4 docs\n",
      "2023-03-27 19:26:37,488 - Split https://lethain.com/two-faced-django-part-3-newforms/ into 2 docs\n",
      "2023-03-27 19:26:37,489 - Split https://lethain.com/two-faced-django-part-2-models-and-django-testing/ into 7 docs\n",
      "2023-03-27 19:26:37,490 - Split https://lethain.com/two-faced-django-part-1-building-project-exists-si/ into 6 docs\n",
      "2023-03-27 19:26:37,491 - Split https://lethain.com/3-shuttle-busses/ into 6 docs\n",
      "2023-03-27 19:26:37,491 - Split https://lethain.com/education-self-responsibility-and-manure/ into 5 docs\n",
      "2023-03-27 19:26:37,492 - Split https://lethain.com/2-traffic-jams/ into 2 docs\n",
      "2023-03-27 19:26:37,493 - Split https://lethain.com/0-introduction/ into 2 docs\n",
      "2023-03-27 19:26:37,493 - Split https://lethain.com/using-jquery-django-autocomplete-fields/ into 2 docs\n",
      "2023-03-27 19:26:37,494 - Split https://lethain.com/using-pyfacebook-without-facebook-middleware/ into 4 docs\n",
      "2023-03-27 19:26:37,495 - Split https://lethain.com/you-are-beautiful-all-times-yppah/ into 2 docs\n",
      "2023-03-27 19:26:37,495 - Split https://lethain.com/context-parameter-calculating-truth/ into 3 docs\n",
      "2023-03-27 19:26:37,496 - Split https://lethain.com/those-annoying-habits/ into 3 docs\n",
      "2023-03-27 19:26:37,497 - Split https://lethain.com/defining-your-web-aesthetic/ into 1 docs\n",
      "2023-03-27 19:26:37,498 - Split https://lethain.com/introducing-my-japanese-kitchen/ into 3 docs\n",
      "2023-03-27 19:26:37,498 - Split https://lethain.com/hiking-tengaisan/ into 2 docs\n",
      "2023-03-27 19:26:37,499 - Split https://lethain.com/reliable-mealtime-friends/ into 2 docs\n",
      "2023-03-27 19:26:37,500 - Split https://lethain.com/grocery-shopping-japan/ into 7 docs\n",
      "2023-03-27 19:26:37,501 - Split https://lethain.com/getting-cold-kamioka/ into 2 docs\n",
      "2023-03-27 19:26:37,501 - Split https://lethain.com/teaching-adult-english-classes/ into 6 docs\n",
      "2023-03-27 19:26:37,502 - Split https://lethain.com/getting-started-shoes-os-x/ into 8 docs\n",
      "2023-03-27 19:26:37,503 - Split https://lethain.com/expectations-and-reality-lowly-alt/ into 8 docs\n",
      "2023-03-27 19:26:37,504 - Split https://lethain.com/faq-about-jet/ into 7 docs\n",
      "2023-03-27 19:26:37,505 - Split https://lethain.com/back-action/ into 2 docs\n",
      "2023-03-27 19:26:37,505 - Split https://lethain.com/eating-cornflakes/ into 3 docs\n",
      "2023-03-27 19:26:37,506 - Split https://lethain.com/leaving-tokyo-arriving-kamioka/ into 7 docs\n",
      "2023-03-27 19:26:37,507 - Split https://lethain.com/america-american-bubble-flight-japan/ into 6 docs\n",
      "2023-03-27 19:26:37,508 - Split https://lethain.com/jet-pre-departure-atlanta/ into 5 docs\n",
      "2023-03-27 19:26:37,508 - Split https://lethain.com/heading-toward-atlanta/ into 4 docs\n",
      "2023-03-27 19:26:37,509 - Split https://lethain.com/applying-jet-programme/ into 6 docs\n",
      "2023-03-27 19:26:37,510 - Split https://lethain.com/failure-implicit-conventions-determining-function-/ into 5 docs\n",
      "2023-03-27 19:26:37,511 - Split https://lethain.com/review-building-scalable-web-sites-cal-henderson/ into 3 docs\n",
      "2023-03-27 19:26:37,511 - Split https://lethain.com/dreamier-dream-server-nginx/ into 7 docs\n",
      "2023-03-27 19:26:37,512 - Split https://lethain.com/apachelighttpd-confusion/ into 1 docs\n",
      "2023-03-27 19:26:37,513 - Split https://lethain.com/adding-social-bookmarking-django-app/ into 2 docs\n",
      "2023-03-27 19:26:37,514 - Split https://lethain.com/syntax-highlighting-markdown-and-pinch-automagick/ into 4 docs\n",
      "2023-03-27 19:26:37,515 - Split https://lethain.com/music-video-movie-once-dilemma/ into 4 docs\n",
      "2023-03-27 19:26:37,516 - Split https://lethain.com/creating-my-dream-server-django/ into 9 docs\n",
      "2023-03-27 19:26:37,516 - Split https://lethain.com/new-look-lifeflow-deployment-dreamhost/ into 1 docs\n",
      "2023-03-27 19:26:37,517 - Split https://lethain.com/puddle-city-racing-lights-windmill/ into 3 docs\n",
      "2023-03-27 19:26:37,518 - Split https://lethain.com/youtube-scalability/ into 2 docs\n",
      "2023-03-27 19:26:37,519 - Split https://lethain.com/stability-issues/ into 2 docs\n",
      "2023-03-27 19:26:37,520 - Split https://lethain.com/how-migrate-data-across-model-changes/ into 2 docs\n",
      "2023-03-27 19:26:37,521 - Split https://lethain.com/writing-custom-contexts-django/ into 1 docs\n",
      "2023-03-27 19:26:37,522 - Split https://lethain.com/examining-web-analytics-to-implement-repost/ into 3 docs\n",
      "2023-03-27 19:26:37,523 - Split https://lethain.com/a-django-middleware-for-google-analytics-repost/ into 9 docs\n",
      "2023-03-27 19:26:37,526 - Split https://lethain.com/anti-objects-and-reflexive-decisions-repost/ into 10 docs\n",
      "2023-03-27 19:26:37,529 - Split https://lethain.com/a-comp-sci-degree-is-what-you-make-of-it-repost/ into 9 docs\n",
      "2023-03-27 19:26:37,533 - Split https://lethain.com/is-the-jvm-the-next-assembly-i-hope-not-repost/ into 9 docs\n",
      "2023-03-27 19:26:37,535 - Split https://lethain.com/good-to-great-paul-graham-and-ayn-rand-repost/ into 5 docs\n",
      "2023-03-27 19:26:37,536 - Split https://lethain.com/reflections-on-django-repost/ into 1 docs\n",
      "2023-03-27 19:26:37,536 - Split https://lethain.com/finding-our-programming-flow-repost/ into 2 docs\n"
     ]
    }
   ],
   "source": [
    "text_splitter = RecursiveCharacterTextSplitter(chunk_size=1500, chunk_overlap=50)\n",
    "\n",
    "docs, metadata = [], []\n",
    "\n",
    "for i, page in df.iterrows():\n",
    "    splits = text_splitter.split_text(page['text'])\n",
    "    # for split in splits:\n",
    "    #     docs.append(split)\n",
    "    #     metadata.append({'source': split, 'url': page['url']})\n",
    "    docs.extend(splits)\n",
    "    metadata.extend([{'source': page['url']}] * len(splits))  # This Q&A chain relies on the url being in the 'source' key\n",
    "    logger.info(f'Split {page[\"url\"]} into {len(splits)} docs')"
   ]
  },
  {
   "cell_type": "code",
   "execution_count": 58,
   "metadata": {},
   "outputs": [
    {
     "data": {
      "text/plain": [
       "['very intentionally) following this rule: get great people, worry about steering the boat later. When I first read Graham’s statement about being certain about being able to find a money making idea if he had the right founders, I was pretty hesitant. Indeed, I found the statement to come off as slightly arrogant. After reading more of his works, and of a number of other books and articles (and also monitoring the success of the Y-Combinator companies), it seems more and more that what he said is true: with the right people, the boat may as well steer itself.Alright, now weave Ayn Rand into this web for usIf we look at the heroes in Ayn Rand’s novels, they are all extremely competent, driven by a need to conform to incredibly high standards, and exceptionally selfless (and they are all men, because Ayn Rand believed women existed to worship men, which is pointedly not</strong/> an argument ever made by either Paul Graham or Jim Collins; on a slightly</em/> different note the Passions of Ayn Rand is a great book and I recommend it to everyone).Rand’s heroes deeply desire to work with one another (as evidenced by their joint retreat to form their own country at the end of Atlas Shrugged), and they are eternally frustrated when working with others who are not the “right” kind. Dorothy Taggert finds the one competent lineworker, and desperately attempts to promote him into a position of authority; she does this because she knows the Good to Great</em/> secret, that the “right”',\n",
       " 'the Good to Great</em/> secret, that the “right” people are going to be “right” regardless of any current skills, they’ll pick up the training, but the “wrong” people will never pick up the attitude and standards.Ending ThoughtsThis has admittedly been a fairly disjoint article, the connections simply jumped into my head earlier today while reading, and have now leaped from my head onto these pages. Hopefully now that I have put it out there, I will receive some interesting feedback. Initially I wanted to connect Mihaly Csikszentmihalyi into the web, but I realized that that</em/> connection was really</em/> tenuous, and mostly the consequence of my enduring interest in his work (rather than the result of a strong parallel of concepts, although the autotelic concept–so finely honed by Mihaly–is prevalent in Good to Great).I really would recommend anyone to read through Good to Great</em/>, its a pleasant read, and probably wouldn’t take more than 4-8 hours to read, depending on your reading speed (its about 240 pages, but not particularly dense or difficult reading).',\n",
       " 'This is a transplant from the original Irrational Exuberance, and was written in mid 2007: nearly two years ago. It was my first article to be read outside of my immediate group of friends and was picked up on Reddit programming. It is unquestionably quaint, but I only started proofreading my blog entries in the past six months, so I won’t profess a particularly strong attachment to perfection.\\nA friend recently asked me to throw together my thoughts on using Django as a development framework, so here is an attempt to oblige him, and also solidify my opinion on Django in general. For the past two (maybe three…) weeks Django has been at the forefront of my day, each and every day, for most of the day. When I began, I had never used Django before, but at this point I have read a fair quantity of its source (which is something of a requirement, when you want to do something tricky, as their documentation–especially on newer components–is spotty), and would consider myself fairly competent at using the framework. So, without further ado, here we go.',\n",
       " 'I have been meaning to write an entry about programming and what we can learn about programming from Mihaly Csikszentmihalyi\\'s book \"Flow\". Initially I was intending to write a rather scholarly article about it, but my work towards that end has lost momentum, so here--out of the desire to put forth something on this topic--is a less-ambitiously-groundbreaking-than-intended entry about learning to program better, and to enjoy it more fully, by applying the lessons of \"Flow\". Mihaly puts forth eight criteria that are typical indicators of being in the state of flow. They are:\\nI think anyone who enjoys programming can see themselves in some of those criteria. How often have you sat down and lost track of time, and come back to reality five hours later with this calm (although, sometimes raging) sense of accomplishment? This may happen to you frequently, or not, but lets think about what we can do to encourage it happening as much as possible.',\n",
       " \"The rest (5-8) are more descriptive than perscriptive, but they are still interesting to consider. In particular, I enjoy the seeming paradox of number seven. We learn to value ourselves based on what we are capable of, but at the actual time we are creating, we are unaware of ourselves (lost in the act of programming). Amazing to imagine oneself simply ceasing to exist sometimes, and THAT is when we do our best work--when we don't exist. A bit humbling in some ways (also strikes me as very much Zen Buddhist).I strongly recommend running out and reading Flow. Its great. Also, you might want to check out Blink by Malcolm Gladwell at at the same time. It hits some of the same stuff from a very different (but still interesting) angle. I'd love to hear any responses or comments!\"]"
      ]
     },
     "execution_count": 58,
     "metadata": {},
     "output_type": "execute_result"
    }
   ],
   "source": [
    "docs[-5:]"
   ]
  },
  {
   "cell_type": "code",
   "execution_count": 59,
   "metadata": {},
   "outputs": [
    {
     "data": {
      "text/plain": [
       "[{'source': 'https://lethain.com/good-to-great-paul-graham-and-ayn-rand-repost/'},\n",
       " {'source': 'https://lethain.com/good-to-great-paul-graham-and-ayn-rand-repost/'},\n",
       " {'source': 'https://lethain.com/reflections-on-django-repost/'},\n",
       " {'source': 'https://lethain.com/finding-our-programming-flow-repost/'},\n",
       " {'source': 'https://lethain.com/finding-our-programming-flow-repost/'}]"
      ]
     },
     "execution_count": 59,
     "metadata": {},
     "output_type": "execute_result"
    }
   ],
   "source": [
    "metadata[-5:]"
   ]
  },
  {
   "cell_type": "markdown",
   "metadata": {},
   "source": [
    "## Set up pinecone index"
   ]
  },
  {
   "cell_type": "code",
   "execution_count": 28,
   "metadata": {},
   "outputs": [],
   "source": [
    "pinecone.init(api_key=os.getenv('PINECONE_API_KEY_BOARD'), environment=PINECONE_ENV)"
   ]
  },
  {
   "cell_type": "code",
   "execution_count": 30,
   "metadata": {},
   "outputs": [
    {
     "data": {
      "text/plain": [
       "{'dimension': 1536,\n",
       " 'index_fullness': 0.0,\n",
       " 'namespaces': {},\n",
       " 'total_vector_count': 0}"
      ]
     },
     "execution_count": 30,
     "metadata": {},
     "output_type": "execute_result"
    }
   ],
   "source": [
    "# Create index\n",
    "index_name = 'board'\n",
    "index = pinecone.Index(index_name)\n",
    "\n",
    "# Delete and recreate index\n",
    "# pinecone.delete_index(index_name)\n",
    "pinecone.create_index(index_name, dimension=1536, metric='cosine', pod_type='p2.x1')\n",
    "index.describe_index_stats()"
   ]
  },
  {
   "cell_type": "code",
   "execution_count": 60,
   "metadata": {},
   "outputs": [
    {
     "data": {
      "text/plain": [
       "{'dimension': 1536,\n",
       " 'index_fullness': 0.0,\n",
       " 'namespaces': {},\n",
       " 'total_vector_count': 0}"
      ]
     },
     "execution_count": 60,
     "metadata": {},
     "output_type": "execute_result"
    }
   ],
   "source": [
    "embeddings = OpenAIEmbeddings()\n",
    "\n",
    "# Load existing pinecone index\n",
    "store = Pinecone.from_existing_index(index_name=index_name, embedding=embeddings)\n",
    "index.describe_index_stats()"
   ]
  },
  {
   "cell_type": "code",
   "execution_count": 61,
   "metadata": {},
   "outputs": [
    {
     "name": "stderr",
     "output_type": "stream",
     "text": [
      "2023-03-27 19:28:04,350 - Adding chunk 1 of 68 (0 to 100))\n"
     ]
    },
    {
     "data": {
      "application/vnd.jupyter.widget-view+json": {
       "model_id": "31d1c27372544f898ddf78bd7e4bca61",
       "version_major": 2,
       "version_minor": 0
      },
      "text/plain": [
       "Upserted vectors:   0%|          | 0/100 [00:00<?, ?it/s]"
      ]
     },
     "metadata": {},
     "output_type": "display_data"
    },
    {
     "name": "stderr",
     "output_type": "stream",
     "text": [
      "2023-03-27 19:28:26,108 - Adding chunk 2 of 68 (100 to 200))\n"
     ]
    },
    {
     "data": {
      "application/vnd.jupyter.widget-view+json": {
       "model_id": "a41571b78fcc4aaeaad9e3598669e81a",
       "version_major": 2,
       "version_minor": 0
      },
      "text/plain": [
       "Upserted vectors:   0%|          | 0/100 [00:00<?, ?it/s]"
      ]
     },
     "metadata": {},
     "output_type": "display_data"
    },
    {
     "name": "stderr",
     "output_type": "stream",
     "text": [
      "2023-03-27 19:28:47,099 - Adding chunk 3 of 68 (200 to 300))\n"
     ]
    },
    {
     "data": {
      "application/vnd.jupyter.widget-view+json": {
       "model_id": "5e97b71107f64b368bc791c1f36a30a2",
       "version_major": 2,
       "version_minor": 0
      },
      "text/plain": [
       "Upserted vectors:   0%|          | 0/100 [00:00<?, ?it/s]"
      ]
     },
     "metadata": {},
     "output_type": "display_data"
    },
    {
     "name": "stderr",
     "output_type": "stream",
     "text": [
      "2023-03-27 19:29:05,352 - Adding chunk 4 of 68 (300 to 400))\n"
     ]
    },
    {
     "data": {
      "application/vnd.jupyter.widget-view+json": {
       "model_id": "0938664c355944508408d59dcd3b7646",
       "version_major": 2,
       "version_minor": 0
      },
      "text/plain": [
       "Upserted vectors:   0%|          | 0/100 [00:00<?, ?it/s]"
      ]
     },
     "metadata": {},
     "output_type": "display_data"
    },
    {
     "name": "stderr",
     "output_type": "stream",
     "text": [
      "2023-03-27 19:29:25,025 - Adding chunk 5 of 68 (400 to 500))\n"
     ]
    },
    {
     "data": {
      "application/vnd.jupyter.widget-view+json": {
       "model_id": "a0c8717c77ae4ab6af1920bc46e498a0",
       "version_major": 2,
       "version_minor": 0
      },
      "text/plain": [
       "Upserted vectors:   0%|          | 0/100 [00:00<?, ?it/s]"
      ]
     },
     "metadata": {},
     "output_type": "display_data"
    },
    {
     "name": "stderr",
     "output_type": "stream",
     "text": [
      "2023-03-27 19:29:51,340 - Adding chunk 6 of 68 (500 to 600))\n"
     ]
    },
    {
     "data": {
      "application/vnd.jupyter.widget-view+json": {
       "model_id": "2cc26c95f5784f349c45430a6b2ede32",
       "version_major": 2,
       "version_minor": 0
      },
      "text/plain": [
       "Upserted vectors:   0%|          | 0/100 [00:00<?, ?it/s]"
      ]
     },
     "metadata": {},
     "output_type": "display_data"
    },
    {
     "name": "stderr",
     "output_type": "stream",
     "text": [
      "2023-03-27 19:30:12,532 - Adding chunk 7 of 68 (600 to 700))\n"
     ]
    },
    {
     "data": {
      "application/vnd.jupyter.widget-view+json": {
       "model_id": "c7e9a8d9fca2477a9bb90dac7ea8a26d",
       "version_major": 2,
       "version_minor": 0
      },
      "text/plain": [
       "Upserted vectors:   0%|          | 0/100 [00:00<?, ?it/s]"
      ]
     },
     "metadata": {},
     "output_type": "display_data"
    },
    {
     "name": "stderr",
     "output_type": "stream",
     "text": [
      "2023-03-27 19:30:32,798 - Adding chunk 8 of 68 (700 to 800))\n"
     ]
    },
    {
     "data": {
      "application/vnd.jupyter.widget-view+json": {
       "model_id": "5c0118f619514ff5825d052a9e3b2075",
       "version_major": 2,
       "version_minor": 0
      },
      "text/plain": [
       "Upserted vectors:   0%|          | 0/100 [00:00<?, ?it/s]"
      ]
     },
     "metadata": {},
     "output_type": "display_data"
    },
    {
     "name": "stderr",
     "output_type": "stream",
     "text": [
      "2023-03-27 19:30:53,174 - Adding chunk 9 of 68 (800 to 900))\n"
     ]
    },
    {
     "data": {
      "application/vnd.jupyter.widget-view+json": {
       "model_id": "7a9ee4d52f8d47d6b5c6d1300b1b4aaa",
       "version_major": 2,
       "version_minor": 0
      },
      "text/plain": [
       "Upserted vectors:   0%|          | 0/100 [00:00<?, ?it/s]"
      ]
     },
     "metadata": {},
     "output_type": "display_data"
    },
    {
     "name": "stderr",
     "output_type": "stream",
     "text": [
      "2023-03-27 19:31:14,863 - Adding chunk 10 of 68 (900 to 1000))\n"
     ]
    },
    {
     "data": {
      "application/vnd.jupyter.widget-view+json": {
       "model_id": "1cabc694e81a45be9c51f77c47bb54d4",
       "version_major": 2,
       "version_minor": 0
      },
      "text/plain": [
       "Upserted vectors:   0%|          | 0/100 [00:00<?, ?it/s]"
      ]
     },
     "metadata": {},
     "output_type": "display_data"
    },
    {
     "name": "stderr",
     "output_type": "stream",
     "text": [
      "2023-03-27 19:31:36,183 - Adding chunk 11 of 68 (1000 to 1100))\n"
     ]
    },
    {
     "data": {
      "application/vnd.jupyter.widget-view+json": {
       "model_id": "dec347b55158448483b3ddf6a08d24dd",
       "version_major": 2,
       "version_minor": 0
      },
      "text/plain": [
       "Upserted vectors:   0%|          | 0/100 [00:00<?, ?it/s]"
      ]
     },
     "metadata": {},
     "output_type": "display_data"
    },
    {
     "name": "stderr",
     "output_type": "stream",
     "text": [
      "2023-03-27 19:31:59,638 - Adding chunk 12 of 68 (1100 to 1200))\n"
     ]
    },
    {
     "data": {
      "application/vnd.jupyter.widget-view+json": {
       "model_id": "60cec1984b934e5db7340f1b8862d628",
       "version_major": 2,
       "version_minor": 0
      },
      "text/plain": [
       "Upserted vectors:   0%|          | 0/100 [00:00<?, ?it/s]"
      ]
     },
     "metadata": {},
     "output_type": "display_data"
    },
    {
     "name": "stderr",
     "output_type": "stream",
     "text": [
      "2023-03-27 19:32:17,816 - Adding chunk 13 of 68 (1200 to 1300))\n"
     ]
    },
    {
     "data": {
      "application/vnd.jupyter.widget-view+json": {
       "model_id": "6a425e1c8e5d4acca6e5fc87c81df5b9",
       "version_major": 2,
       "version_minor": 0
      },
      "text/plain": [
       "Upserted vectors:   0%|          | 0/100 [00:00<?, ?it/s]"
      ]
     },
     "metadata": {},
     "output_type": "display_data"
    },
    {
     "name": "stderr",
     "output_type": "stream",
     "text": [
      "2023-03-27 19:32:38,598 - Adding chunk 14 of 68 (1300 to 1400))\n"
     ]
    },
    {
     "data": {
      "application/vnd.jupyter.widget-view+json": {
       "model_id": "19969f52174843eaad6fe6a19c21552a",
       "version_major": 2,
       "version_minor": 0
      },
      "text/plain": [
       "Upserted vectors:   0%|          | 0/100 [00:00<?, ?it/s]"
      ]
     },
     "metadata": {},
     "output_type": "display_data"
    },
    {
     "name": "stderr",
     "output_type": "stream",
     "text": [
      "2023-03-27 19:33:03,783 - Adding chunk 15 of 68 (1400 to 1500))\n"
     ]
    },
    {
     "data": {
      "application/vnd.jupyter.widget-view+json": {
       "model_id": "5ccd308669fa4ba1ac89add01f3ccd6d",
       "version_major": 2,
       "version_minor": 0
      },
      "text/plain": [
       "Upserted vectors:   0%|          | 0/100 [00:00<?, ?it/s]"
      ]
     },
     "metadata": {},
     "output_type": "display_data"
    },
    {
     "name": "stderr",
     "output_type": "stream",
     "text": [
      "2023-03-27 19:33:23,166 - Adding chunk 16 of 68 (1500 to 1600))\n"
     ]
    },
    {
     "data": {
      "application/vnd.jupyter.widget-view+json": {
       "model_id": "61f5e97b1a484a72945efdb645c16790",
       "version_major": 2,
       "version_minor": 0
      },
      "text/plain": [
       "Upserted vectors:   0%|          | 0/100 [00:00<?, ?it/s]"
      ]
     },
     "metadata": {},
     "output_type": "display_data"
    },
    {
     "name": "stderr",
     "output_type": "stream",
     "text": [
      "2023-03-27 19:33:46,006 - Adding chunk 17 of 68 (1600 to 1700))\n"
     ]
    },
    {
     "data": {
      "application/vnd.jupyter.widget-view+json": {
       "model_id": "27968554bea24aa69ea7af9a69b6a1b3",
       "version_major": 2,
       "version_minor": 0
      },
      "text/plain": [
       "Upserted vectors:   0%|          | 0/100 [00:00<?, ?it/s]"
      ]
     },
     "metadata": {},
     "output_type": "display_data"
    },
    {
     "name": "stderr",
     "output_type": "stream",
     "text": [
      "2023-03-27 19:34:10,143 - Adding chunk 18 of 68 (1700 to 1800))\n"
     ]
    },
    {
     "data": {
      "application/vnd.jupyter.widget-view+json": {
       "model_id": "57fb2f7d16394516b599cfab8f0ccd7f",
       "version_major": 2,
       "version_minor": 0
      },
      "text/plain": [
       "Upserted vectors:   0%|          | 0/100 [00:00<?, ?it/s]"
      ]
     },
     "metadata": {},
     "output_type": "display_data"
    },
    {
     "name": "stderr",
     "output_type": "stream",
     "text": [
      "2023-03-27 19:34:30,456 - Adding chunk 19 of 68 (1800 to 1900))\n"
     ]
    },
    {
     "data": {
      "application/vnd.jupyter.widget-view+json": {
       "model_id": "63febfe1acf1489dba7cddfee7c4c212",
       "version_major": 2,
       "version_minor": 0
      },
      "text/plain": [
       "Upserted vectors:   0%|          | 0/100 [00:00<?, ?it/s]"
      ]
     },
     "metadata": {},
     "output_type": "display_data"
    },
    {
     "name": "stderr",
     "output_type": "stream",
     "text": [
      "2023-03-27 19:34:52,963 - Adding chunk 20 of 68 (1900 to 2000))\n"
     ]
    },
    {
     "data": {
      "application/vnd.jupyter.widget-view+json": {
       "model_id": "a0eb565fe6324ebf88d056463ab7eed4",
       "version_major": 2,
       "version_minor": 0
      },
      "text/plain": [
       "Upserted vectors:   0%|          | 0/100 [00:00<?, ?it/s]"
      ]
     },
     "metadata": {},
     "output_type": "display_data"
    },
    {
     "name": "stderr",
     "output_type": "stream",
     "text": [
      "2023-03-27 19:35:12,425 - Adding chunk 21 of 68 (2000 to 2100))\n"
     ]
    },
    {
     "data": {
      "application/vnd.jupyter.widget-view+json": {
       "model_id": "bc0f53fd7b4f4fc6838ea13eb76d8f3d",
       "version_major": 2,
       "version_minor": 0
      },
      "text/plain": [
       "Upserted vectors:   0%|          | 0/100 [00:00<?, ?it/s]"
      ]
     },
     "metadata": {},
     "output_type": "display_data"
    },
    {
     "name": "stderr",
     "output_type": "stream",
     "text": [
      "2023-03-27 19:35:34,361 - Adding chunk 22 of 68 (2100 to 2200))\n"
     ]
    },
    {
     "data": {
      "application/vnd.jupyter.widget-view+json": {
       "model_id": "9246a31b77ee4c8d9bd20bbd56978249",
       "version_major": 2,
       "version_minor": 0
      },
      "text/plain": [
       "Upserted vectors:   0%|          | 0/100 [00:00<?, ?it/s]"
      ]
     },
     "metadata": {},
     "output_type": "display_data"
    },
    {
     "name": "stderr",
     "output_type": "stream",
     "text": [
      "2023-03-27 19:35:56,774 - Adding chunk 23 of 68 (2200 to 2300))\n"
     ]
    },
    {
     "data": {
      "application/vnd.jupyter.widget-view+json": {
       "model_id": "8aa3f3757bfb4fe1933808ad9c98eab2",
       "version_major": 2,
       "version_minor": 0
      },
      "text/plain": [
       "Upserted vectors:   0%|          | 0/100 [00:00<?, ?it/s]"
      ]
     },
     "metadata": {},
     "output_type": "display_data"
    },
    {
     "name": "stderr",
     "output_type": "stream",
     "text": [
      "2023-03-27 19:36:18,752 - Adding chunk 24 of 68 (2300 to 2400))\n"
     ]
    },
    {
     "data": {
      "application/vnd.jupyter.widget-view+json": {
       "model_id": "ada39c8340024c69ac705fc54a07b5de",
       "version_major": 2,
       "version_minor": 0
      },
      "text/plain": [
       "Upserted vectors:   0%|          | 0/100 [00:00<?, ?it/s]"
      ]
     },
     "metadata": {},
     "output_type": "display_data"
    },
    {
     "name": "stderr",
     "output_type": "stream",
     "text": [
      "2023-03-27 19:36:37,064 - Adding chunk 25 of 68 (2400 to 2500))\n"
     ]
    },
    {
     "data": {
      "application/vnd.jupyter.widget-view+json": {
       "model_id": "3bdacab65a9548938aa8bbce52e4f92f",
       "version_major": 2,
       "version_minor": 0
      },
      "text/plain": [
       "Upserted vectors:   0%|          | 0/100 [00:00<?, ?it/s]"
      ]
     },
     "metadata": {},
     "output_type": "display_data"
    },
    {
     "name": "stderr",
     "output_type": "stream",
     "text": [
      "2023-03-27 19:36:55,902 - Adding chunk 26 of 68 (2500 to 2600))\n"
     ]
    },
    {
     "data": {
      "application/vnd.jupyter.widget-view+json": {
       "model_id": "17f4711f2c9d4c709eb102be62dba9ad",
       "version_major": 2,
       "version_minor": 0
      },
      "text/plain": [
       "Upserted vectors:   0%|          | 0/100 [00:00<?, ?it/s]"
      ]
     },
     "metadata": {},
     "output_type": "display_data"
    },
    {
     "name": "stderr",
     "output_type": "stream",
     "text": [
      "2023-03-27 19:37:19,313 - Adding chunk 27 of 68 (2600 to 2700))\n"
     ]
    },
    {
     "data": {
      "application/vnd.jupyter.widget-view+json": {
       "model_id": "38525cf1037b44c0b812cd6977e17748",
       "version_major": 2,
       "version_minor": 0
      },
      "text/plain": [
       "Upserted vectors:   0%|          | 0/100 [00:00<?, ?it/s]"
      ]
     },
     "metadata": {},
     "output_type": "display_data"
    },
    {
     "name": "stderr",
     "output_type": "stream",
     "text": [
      "2023-03-27 19:37:39,599 - Adding chunk 28 of 68 (2700 to 2800))\n"
     ]
    },
    {
     "data": {
      "application/vnd.jupyter.widget-view+json": {
       "model_id": "e6ccde2113ca4d57a267f5c672a7ab0d",
       "version_major": 2,
       "version_minor": 0
      },
      "text/plain": [
       "Upserted vectors:   0%|          | 0/100 [00:00<?, ?it/s]"
      ]
     },
     "metadata": {},
     "output_type": "display_data"
    },
    {
     "name": "stderr",
     "output_type": "stream",
     "text": [
      "2023-03-27 19:38:01,710 - Adding chunk 29 of 68 (2800 to 2900))\n"
     ]
    },
    {
     "data": {
      "application/vnd.jupyter.widget-view+json": {
       "model_id": "bee695f3a2804c1ea407b8d188fef471",
       "version_major": 2,
       "version_minor": 0
      },
      "text/plain": [
       "Upserted vectors:   0%|          | 0/100 [00:00<?, ?it/s]"
      ]
     },
     "metadata": {},
     "output_type": "display_data"
    },
    {
     "name": "stderr",
     "output_type": "stream",
     "text": [
      "2023-03-27 19:38:23,253 - Adding chunk 30 of 68 (2900 to 3000))\n"
     ]
    },
    {
     "data": {
      "application/vnd.jupyter.widget-view+json": {
       "model_id": "db40fd93bc0b4904b130027e09b952ab",
       "version_major": 2,
       "version_minor": 0
      },
      "text/plain": [
       "Upserted vectors:   0%|          | 0/100 [00:00<?, ?it/s]"
      ]
     },
     "metadata": {},
     "output_type": "display_data"
    },
    {
     "name": "stderr",
     "output_type": "stream",
     "text": [
      "2023-03-27 19:38:44,271 - Adding chunk 31 of 68 (3000 to 3100))\n"
     ]
    },
    {
     "data": {
      "application/vnd.jupyter.widget-view+json": {
       "model_id": "0920c7cdb3d64b748556c95fcca42703",
       "version_major": 2,
       "version_minor": 0
      },
      "text/plain": [
       "Upserted vectors:   0%|          | 0/100 [00:00<?, ?it/s]"
      ]
     },
     "metadata": {},
     "output_type": "display_data"
    },
    {
     "name": "stderr",
     "output_type": "stream",
     "text": [
      "2023-03-27 19:39:04,420 - Adding chunk 32 of 68 (3100 to 3200))\n"
     ]
    },
    {
     "data": {
      "application/vnd.jupyter.widget-view+json": {
       "model_id": "13e404f7f36b44e2a817317711773bec",
       "version_major": 2,
       "version_minor": 0
      },
      "text/plain": [
       "Upserted vectors:   0%|          | 0/100 [00:00<?, ?it/s]"
      ]
     },
     "metadata": {},
     "output_type": "display_data"
    },
    {
     "name": "stderr",
     "output_type": "stream",
     "text": [
      "2023-03-27 19:39:27,833 - Adding chunk 33 of 68 (3200 to 3300))\n"
     ]
    },
    {
     "data": {
      "application/vnd.jupyter.widget-view+json": {
       "model_id": "5abd823f84414a65ba6d92d9a8079bdd",
       "version_major": 2,
       "version_minor": 0
      },
      "text/plain": [
       "Upserted vectors:   0%|          | 0/100 [00:00<?, ?it/s]"
      ]
     },
     "metadata": {},
     "output_type": "display_data"
    },
    {
     "name": "stderr",
     "output_type": "stream",
     "text": [
      "2023-03-27 19:39:49,067 - Adding chunk 34 of 68 (3300 to 3400))\n"
     ]
    },
    {
     "data": {
      "application/vnd.jupyter.widget-view+json": {
       "model_id": "d3b540784d234c749750e7503abd1f66",
       "version_major": 2,
       "version_minor": 0
      },
      "text/plain": [
       "Upserted vectors:   0%|          | 0/100 [00:00<?, ?it/s]"
      ]
     },
     "metadata": {},
     "output_type": "display_data"
    },
    {
     "name": "stderr",
     "output_type": "stream",
     "text": [
      "2023-03-27 19:40:11,127 - Adding chunk 35 of 68 (3400 to 3500))\n"
     ]
    },
    {
     "data": {
      "application/vnd.jupyter.widget-view+json": {
       "model_id": "9e39fb669d3945d780b778f5855c9f56",
       "version_major": 2,
       "version_minor": 0
      },
      "text/plain": [
       "Upserted vectors:   0%|          | 0/100 [00:00<?, ?it/s]"
      ]
     },
     "metadata": {},
     "output_type": "display_data"
    },
    {
     "name": "stderr",
     "output_type": "stream",
     "text": [
      "2023-03-27 19:40:30,514 - Adding chunk 36 of 68 (3500 to 3600))\n"
     ]
    },
    {
     "data": {
      "application/vnd.jupyter.widget-view+json": {
       "model_id": "0e7a0496a8e34cecb571eb02c9a0ad1d",
       "version_major": 2,
       "version_minor": 0
      },
      "text/plain": [
       "Upserted vectors:   0%|          | 0/100 [00:00<?, ?it/s]"
      ]
     },
     "metadata": {},
     "output_type": "display_data"
    },
    {
     "name": "stderr",
     "output_type": "stream",
     "text": [
      "2023-03-27 19:40:52,738 - Adding chunk 37 of 68 (3600 to 3700))\n"
     ]
    },
    {
     "data": {
      "application/vnd.jupyter.widget-view+json": {
       "model_id": "ba6d671ef7a84929889bc2fe9745afce",
       "version_major": 2,
       "version_minor": 0
      },
      "text/plain": [
       "Upserted vectors:   0%|          | 0/100 [00:00<?, ?it/s]"
      ]
     },
     "metadata": {},
     "output_type": "display_data"
    },
    {
     "name": "stderr",
     "output_type": "stream",
     "text": [
      "2023-03-27 19:41:14,464 - Adding chunk 38 of 68 (3700 to 3800))\n"
     ]
    },
    {
     "data": {
      "application/vnd.jupyter.widget-view+json": {
       "model_id": "1c4ffb013a8646db974875ffa1cf05f4",
       "version_major": 2,
       "version_minor": 0
      },
      "text/plain": [
       "Upserted vectors:   0%|          | 0/100 [00:00<?, ?it/s]"
      ]
     },
     "metadata": {},
     "output_type": "display_data"
    },
    {
     "name": "stderr",
     "output_type": "stream",
     "text": [
      "2023-03-27 19:41:33,724 - Adding chunk 39 of 68 (3800 to 3900))\n"
     ]
    },
    {
     "data": {
      "application/vnd.jupyter.widget-view+json": {
       "model_id": "d80028e11c41467ea8ed31de243ee221",
       "version_major": 2,
       "version_minor": 0
      },
      "text/plain": [
       "Upserted vectors:   0%|          | 0/100 [00:00<?, ?it/s]"
      ]
     },
     "metadata": {},
     "output_type": "display_data"
    },
    {
     "name": "stderr",
     "output_type": "stream",
     "text": [
      "2023-03-27 19:41:57,728 - Adding chunk 40 of 68 (3900 to 4000))\n"
     ]
    },
    {
     "data": {
      "application/vnd.jupyter.widget-view+json": {
       "model_id": "fc6b42bb27134256aa9fc15c64dd2d6c",
       "version_major": 2,
       "version_minor": 0
      },
      "text/plain": [
       "Upserted vectors:   0%|          | 0/100 [00:00<?, ?it/s]"
      ]
     },
     "metadata": {},
     "output_type": "display_data"
    },
    {
     "name": "stderr",
     "output_type": "stream",
     "text": [
      "2023-03-27 19:42:17,554 - Adding chunk 41 of 68 (4000 to 4100))\n"
     ]
    },
    {
     "data": {
      "application/vnd.jupyter.widget-view+json": {
       "model_id": "6a6eff9cbf244953992cfd7922230583",
       "version_major": 2,
       "version_minor": 0
      },
      "text/plain": [
       "Upserted vectors:   0%|          | 0/100 [00:00<?, ?it/s]"
      ]
     },
     "metadata": {},
     "output_type": "display_data"
    },
    {
     "name": "stderr",
     "output_type": "stream",
     "text": [
      "2023-03-27 19:42:38,107 - Adding chunk 42 of 68 (4100 to 4200))\n"
     ]
    },
    {
     "data": {
      "application/vnd.jupyter.widget-view+json": {
       "model_id": "7fa21347fd8d452db73f7d99edad483b",
       "version_major": 2,
       "version_minor": 0
      },
      "text/plain": [
       "Upserted vectors:   0%|          | 0/100 [00:00<?, ?it/s]"
      ]
     },
     "metadata": {},
     "output_type": "display_data"
    },
    {
     "name": "stderr",
     "output_type": "stream",
     "text": [
      "2023-03-27 19:43:00,277 - Adding chunk 43 of 68 (4200 to 4300))\n"
     ]
    },
    {
     "data": {
      "application/vnd.jupyter.widget-view+json": {
       "model_id": "bb73ec13d6a844e8a68df23bdac7c49d",
       "version_major": 2,
       "version_minor": 0
      },
      "text/plain": [
       "Upserted vectors:   0%|          | 0/100 [00:00<?, ?it/s]"
      ]
     },
     "metadata": {},
     "output_type": "display_data"
    },
    {
     "name": "stderr",
     "output_type": "stream",
     "text": [
      "2023-03-27 19:43:24,237 - Adding chunk 44 of 68 (4300 to 4400))\n"
     ]
    },
    {
     "data": {
      "application/vnd.jupyter.widget-view+json": {
       "model_id": "5f6c356789654671bc08fc453620126e",
       "version_major": 2,
       "version_minor": 0
      },
      "text/plain": [
       "Upserted vectors:   0%|          | 0/100 [00:00<?, ?it/s]"
      ]
     },
     "metadata": {},
     "output_type": "display_data"
    },
    {
     "name": "stderr",
     "output_type": "stream",
     "text": [
      "2023-03-27 19:43:46,561 - Adding chunk 45 of 68 (4400 to 4500))\n"
     ]
    },
    {
     "data": {
      "application/vnd.jupyter.widget-view+json": {
       "model_id": "fd2d4bb30ff0497ea1501932a762e102",
       "version_major": 2,
       "version_minor": 0
      },
      "text/plain": [
       "Upserted vectors:   0%|          | 0/100 [00:00<?, ?it/s]"
      ]
     },
     "metadata": {},
     "output_type": "display_data"
    },
    {
     "name": "stderr",
     "output_type": "stream",
     "text": [
      "2023-03-27 19:44:08,135 - Adding chunk 46 of 68 (4500 to 4600))\n"
     ]
    },
    {
     "data": {
      "application/vnd.jupyter.widget-view+json": {
       "model_id": "c0c849f9a5f14d77a6acfe6fbbb7a1ec",
       "version_major": 2,
       "version_minor": 0
      },
      "text/plain": [
       "Upserted vectors:   0%|          | 0/100 [00:00<?, ?it/s]"
      ]
     },
     "metadata": {},
     "output_type": "display_data"
    },
    {
     "name": "stderr",
     "output_type": "stream",
     "text": [
      "2023-03-27 19:44:29,443 - Adding chunk 47 of 68 (4600 to 4700))\n"
     ]
    },
    {
     "data": {
      "application/vnd.jupyter.widget-view+json": {
       "model_id": "b12a10cead7249128d743aed022eb6dd",
       "version_major": 2,
       "version_minor": 0
      },
      "text/plain": [
       "Upserted vectors:   0%|          | 0/100 [00:00<?, ?it/s]"
      ]
     },
     "metadata": {},
     "output_type": "display_data"
    },
    {
     "name": "stderr",
     "output_type": "stream",
     "text": [
      "2023-03-27 19:44:49,157 - Adding chunk 48 of 68 (4700 to 4800))\n"
     ]
    },
    {
     "data": {
      "application/vnd.jupyter.widget-view+json": {
       "model_id": "2fa96ea9894b45f19001edd761b9de56",
       "version_major": 2,
       "version_minor": 0
      },
      "text/plain": [
       "Upserted vectors:   0%|          | 0/100 [00:00<?, ?it/s]"
      ]
     },
     "metadata": {},
     "output_type": "display_data"
    },
    {
     "name": "stderr",
     "output_type": "stream",
     "text": [
      "2023-03-27 19:45:12,227 - Adding chunk 49 of 68 (4800 to 4900))\n"
     ]
    },
    {
     "data": {
      "application/vnd.jupyter.widget-view+json": {
       "model_id": "dac7099f264b4664bedf223cb3eeb37b",
       "version_major": 2,
       "version_minor": 0
      },
      "text/plain": [
       "Upserted vectors:   0%|          | 0/100 [00:00<?, ?it/s]"
      ]
     },
     "metadata": {},
     "output_type": "display_data"
    },
    {
     "name": "stderr",
     "output_type": "stream",
     "text": [
      "2023-03-27 19:45:32,907 - Adding chunk 50 of 68 (4900 to 5000))\n"
     ]
    },
    {
     "data": {
      "application/vnd.jupyter.widget-view+json": {
       "model_id": "184e2359c4da44b5986a18bf96a195df",
       "version_major": 2,
       "version_minor": 0
      },
      "text/plain": [
       "Upserted vectors:   0%|          | 0/100 [00:00<?, ?it/s]"
      ]
     },
     "metadata": {},
     "output_type": "display_data"
    },
    {
     "name": "stderr",
     "output_type": "stream",
     "text": [
      "2023-03-27 19:45:53,030 - Adding chunk 51 of 68 (5000 to 5100))\n"
     ]
    },
    {
     "data": {
      "application/vnd.jupyter.widget-view+json": {
       "model_id": "e6535ffea8c54feb874e64771d3ea820",
       "version_major": 2,
       "version_minor": 0
      },
      "text/plain": [
       "Upserted vectors:   0%|          | 0/100 [00:00<?, ?it/s]"
      ]
     },
     "metadata": {},
     "output_type": "display_data"
    },
    {
     "name": "stderr",
     "output_type": "stream",
     "text": [
      "2023-03-27 19:46:10,351 - Adding chunk 52 of 68 (5100 to 5200))\n"
     ]
    },
    {
     "data": {
      "application/vnd.jupyter.widget-view+json": {
       "model_id": "01eeda0952494a228ce6449f1fb5b5f1",
       "version_major": 2,
       "version_minor": 0
      },
      "text/plain": [
       "Upserted vectors:   0%|          | 0/100 [00:00<?, ?it/s]"
      ]
     },
     "metadata": {},
     "output_type": "display_data"
    },
    {
     "name": "stderr",
     "output_type": "stream",
     "text": [
      "2023-03-27 19:46:29,276 - Adding chunk 53 of 68 (5200 to 5300))\n"
     ]
    },
    {
     "data": {
      "application/vnd.jupyter.widget-view+json": {
       "model_id": "1345320af6ea4efaa858ca19f9c485da",
       "version_major": 2,
       "version_minor": 0
      },
      "text/plain": [
       "Upserted vectors:   0%|          | 0/100 [00:00<?, ?it/s]"
      ]
     },
     "metadata": {},
     "output_type": "display_data"
    },
    {
     "name": "stderr",
     "output_type": "stream",
     "text": [
      "2023-03-27 19:46:50,227 - Adding chunk 54 of 68 (5300 to 5400))\n"
     ]
    },
    {
     "data": {
      "application/vnd.jupyter.widget-view+json": {
       "model_id": "3567deb0f8f946bb984ba2403e0c7522",
       "version_major": 2,
       "version_minor": 0
      },
      "text/plain": [
       "Upserted vectors:   0%|          | 0/100 [00:00<?, ?it/s]"
      ]
     },
     "metadata": {},
     "output_type": "display_data"
    },
    {
     "name": "stderr",
     "output_type": "stream",
     "text": [
      "2023-03-27 19:47:10,697 - Adding chunk 55 of 68 (5400 to 5500))\n"
     ]
    },
    {
     "data": {
      "application/vnd.jupyter.widget-view+json": {
       "model_id": "ac74e1b50b3c4e5c813516b4fd05428b",
       "version_major": 2,
       "version_minor": 0
      },
      "text/plain": [
       "Upserted vectors:   0%|          | 0/100 [00:00<?, ?it/s]"
      ]
     },
     "metadata": {},
     "output_type": "display_data"
    },
    {
     "name": "stderr",
     "output_type": "stream",
     "text": [
      "2023-03-27 19:47:31,538 - Adding chunk 56 of 68 (5500 to 5600))\n"
     ]
    },
    {
     "data": {
      "application/vnd.jupyter.widget-view+json": {
       "model_id": "01c69ba0452a42719ebe883a201fec28",
       "version_major": 2,
       "version_minor": 0
      },
      "text/plain": [
       "Upserted vectors:   0%|          | 0/100 [00:00<?, ?it/s]"
      ]
     },
     "metadata": {},
     "output_type": "display_data"
    },
    {
     "name": "stderr",
     "output_type": "stream",
     "text": [
      "2023-03-27 19:47:52,160 - Adding chunk 57 of 68 (5600 to 5700))\n"
     ]
    },
    {
     "data": {
      "application/vnd.jupyter.widget-view+json": {
       "model_id": "57135a14d53e4705b313f7618dceb625",
       "version_major": 2,
       "version_minor": 0
      },
      "text/plain": [
       "Upserted vectors:   0%|          | 0/100 [00:00<?, ?it/s]"
      ]
     },
     "metadata": {},
     "output_type": "display_data"
    },
    {
     "name": "stderr",
     "output_type": "stream",
     "text": [
      "2023-03-27 19:48:10,036 - Adding chunk 58 of 68 (5700 to 5800))\n"
     ]
    },
    {
     "data": {
      "application/vnd.jupyter.widget-view+json": {
       "model_id": "cf26a341e87b40199c542b2b18c7df18",
       "version_major": 2,
       "version_minor": 0
      },
      "text/plain": [
       "Upserted vectors:   0%|          | 0/100 [00:00<?, ?it/s]"
      ]
     },
     "metadata": {},
     "output_type": "display_data"
    },
    {
     "name": "stderr",
     "output_type": "stream",
     "text": [
      "2023-03-27 19:48:30,796 - Adding chunk 59 of 68 (5800 to 5900))\n"
     ]
    },
    {
     "data": {
      "application/vnd.jupyter.widget-view+json": {
       "model_id": "14a115d777094d78997882dc4d4dee37",
       "version_major": 2,
       "version_minor": 0
      },
      "text/plain": [
       "Upserted vectors:   0%|          | 0/100 [00:00<?, ?it/s]"
      ]
     },
     "metadata": {},
     "output_type": "display_data"
    },
    {
     "name": "stderr",
     "output_type": "stream",
     "text": [
      "2023-03-27 19:48:50,347 - Adding chunk 60 of 68 (5900 to 6000))\n"
     ]
    },
    {
     "data": {
      "application/vnd.jupyter.widget-view+json": {
       "model_id": "f74a46e37db442e2913d2bc9aca4f925",
       "version_major": 2,
       "version_minor": 0
      },
      "text/plain": [
       "Upserted vectors:   0%|          | 0/100 [00:00<?, ?it/s]"
      ]
     },
     "metadata": {},
     "output_type": "display_data"
    },
    {
     "name": "stderr",
     "output_type": "stream",
     "text": [
      "2023-03-27 19:49:12,652 - Adding chunk 61 of 68 (6000 to 6100))\n"
     ]
    },
    {
     "data": {
      "application/vnd.jupyter.widget-view+json": {
       "model_id": "49b828909a6c4829aa146e323eb6b4da",
       "version_major": 2,
       "version_minor": 0
      },
      "text/plain": [
       "Upserted vectors:   0%|          | 0/100 [00:00<?, ?it/s]"
      ]
     },
     "metadata": {},
     "output_type": "display_data"
    },
    {
     "name": "stderr",
     "output_type": "stream",
     "text": [
      "2023-03-27 19:49:33,207 - Adding chunk 62 of 68 (6100 to 6200))\n"
     ]
    },
    {
     "data": {
      "application/vnd.jupyter.widget-view+json": {
       "model_id": "4b67f3322c834e5ea80530e05ea18840",
       "version_major": 2,
       "version_minor": 0
      },
      "text/plain": [
       "Upserted vectors:   0%|          | 0/100 [00:00<?, ?it/s]"
      ]
     },
     "metadata": {},
     "output_type": "display_data"
    },
    {
     "name": "stderr",
     "output_type": "stream",
     "text": [
      "2023-03-27 19:49:53,910 - Adding chunk 63 of 68 (6200 to 6300))\n"
     ]
    },
    {
     "data": {
      "application/vnd.jupyter.widget-view+json": {
       "model_id": "ba6c941c127f4a8eb74db093ccc98e4d",
       "version_major": 2,
       "version_minor": 0
      },
      "text/plain": [
       "Upserted vectors:   0%|          | 0/100 [00:00<?, ?it/s]"
      ]
     },
     "metadata": {},
     "output_type": "display_data"
    },
    {
     "name": "stderr",
     "output_type": "stream",
     "text": [
      "2023-03-27 19:50:17,314 - Adding chunk 64 of 68 (6300 to 6400))\n"
     ]
    },
    {
     "data": {
      "application/vnd.jupyter.widget-view+json": {
       "model_id": "91fade67b60248adb3e0f0cc3b338930",
       "version_major": 2,
       "version_minor": 0
      },
      "text/plain": [
       "Upserted vectors:   0%|          | 0/100 [00:00<?, ?it/s]"
      ]
     },
     "metadata": {},
     "output_type": "display_data"
    },
    {
     "name": "stderr",
     "output_type": "stream",
     "text": [
      "2023-03-27 19:50:37,123 - Adding chunk 65 of 68 (6400 to 6500))\n"
     ]
    },
    {
     "data": {
      "application/vnd.jupyter.widget-view+json": {
       "model_id": "a19b46af182c4564ab5af0e1ac222b66",
       "version_major": 2,
       "version_minor": 0
      },
      "text/plain": [
       "Upserted vectors:   0%|          | 0/100 [00:00<?, ?it/s]"
      ]
     },
     "metadata": {},
     "output_type": "display_data"
    },
    {
     "name": "stderr",
     "output_type": "stream",
     "text": [
      "2023-03-27 19:50:54,341 - Adding chunk 66 of 68 (6500 to 6600))\n"
     ]
    },
    {
     "data": {
      "application/vnd.jupyter.widget-view+json": {
       "model_id": "cf1fe8c41f2d4b5da4ac31d1cbdbd64d",
       "version_major": 2,
       "version_minor": 0
      },
      "text/plain": [
       "Upserted vectors:   0%|          | 0/100 [00:00<?, ?it/s]"
      ]
     },
     "metadata": {},
     "output_type": "display_data"
    },
    {
     "name": "stderr",
     "output_type": "stream",
     "text": [
      "2023-03-27 19:51:16,386 - Adding chunk 67 of 68 (6600 to 6700))\n"
     ]
    },
    {
     "data": {
      "application/vnd.jupyter.widget-view+json": {
       "model_id": "d53b4daaf7664f1287bd124af4d542d6",
       "version_major": 2,
       "version_minor": 0
      },
      "text/plain": [
       "Upserted vectors:   0%|          | 0/100 [00:00<?, ?it/s]"
      ]
     },
     "metadata": {},
     "output_type": "display_data"
    },
    {
     "name": "stderr",
     "output_type": "stream",
     "text": [
      "2023-03-27 19:51:36,034 - Adding chunk 68 of 68 (6700 to 6760))\n"
     ]
    },
    {
     "data": {
      "application/vnd.jupyter.widget-view+json": {
       "model_id": "3ffad106119c4c03844552e0e894d614",
       "version_major": 2,
       "version_minor": 0
      },
      "text/plain": [
       "Upserted vectors:   0%|          | 0/60 [00:00<?, ?it/s]"
      ]
     },
     "metadata": {},
     "output_type": "display_data"
    }
   ],
   "source": [
    "# Add data to pinecone in chunks to avoid errors\n",
    "chunk_size = 100\n",
    "last_chunk = 0\n",
    "num_chunks = math.ceil(len(docs) / chunk_size)\n",
    "\n",
    "for i in range(last_chunk, num_chunks):    \n",
    "    start_idx = i * chunk_size \n",
    "    end_idx = min(start_idx + chunk_size, len(docs))\n",
    "    logger.info(f'Adding chunk {i+1} of {num_chunks} ({start_idx} to {end_idx}))')\n",
    "    \n",
    "    _docs = docs[start_idx:end_idx]\n",
    "    _metadata = metadata[start_idx:end_idx]\n",
    "    \n",
    "    store.add_texts(_docs, _metadata)"
   ]
  },
  {
   "cell_type": "markdown",
   "metadata": {},
   "source": [
    "## Load data from eugeneyan.com"
   ]
  },
  {
   "cell_type": "code",
   "execution_count": 7,
   "metadata": {},
   "outputs": [],
   "source": [
    "df = pd.read_parquet('../data/eugeneyan.parquet')"
   ]
  },
  {
   "cell_type": "code",
   "execution_count": 19,
   "metadata": {},
   "outputs": [],
   "source": [
    "splits = text_splitter.split_text(df[df['url'] == 'https://eugeneyan.com/writing/bandits/']['text'])"
   ]
  },
  {
   "cell_type": "code",
   "execution_count": 24,
   "metadata": {},
   "outputs": [
    {
     "name": "stdout",
     "output_type": "stream",
     "text": [
      "During evaluation, replay takes in the new policy (to be evaluated) and the logged policy events. If the new policy chooses the same action as the logged policy, the event is added to the history and the reward is updated. If not, the event is ignored with no reward update. (Counterfactual evaluation via Inverse Propensity Scoring is another alternative.)\n",
      "How does bandit off-policy evaluation compare to typical supervised machine learning evaluation on logged data? Twitter’s paper provides some insight. They computed two sets of metrics: (i) PR-AUC on a standard test set and (ii) CTR improvements vs. a random policy. There was a trade-off between PR-AUC and CTR.\n",
      "Although the greedy policy performed well on PR-AUC, it did relatively poorly on CTR. Conversely, bandit policies such as UCB and Thompson Sampling did poorer on PR-AUC but outperformed the greedy policy on CTR. This shows the divergence where supervised learning that evaluates well on biased logged data via conventional metrics may not actually perform well on the metrics we really care about (e.g., CTR, conversion).\n",
      "Whew, that was a lot longer than the average post. If you’re still with me, I hope you found bandits to be a viable alternative for recommendation systems. Their focus on modeling uncertainty and deliberate exploration makes them effective when our data is small and we have low certainty on user-item preferences.\n"
     ]
    }
   ],
   "source": [
    "print(splits[-2])"
   ]
  },
  {
   "cell_type": "code",
   "execution_count": 9,
   "metadata": {},
   "outputs": [
    {
     "name": "stderr",
     "output_type": "stream",
     "text": [
      "2023-04-01 17:36:27,662 - Split https://eugeneyan.com/writing/llm-bio/ into 9 docs\n",
      "2023-04-01 17:36:27,663 - Split https://eugeneyan.com/writing/labeling-guidelines/ into 5 docs\n",
      "2023-04-01 17:36:27,664 - Split https://eugeneyan.com/writing/content-moderation/ into 14 docs\n",
      "2023-04-01 17:36:27,665 - Split https://eugeneyan.com/writing/mechanisms-for-teams/ into 6 docs\n",
      "2023-04-01 17:36:27,666 - Split https://eugeneyan.com/writing/mechanisms-for-projects/ into 5 docs\n",
      "2023-04-01 17:36:27,668 - Split https://eugeneyan.com/writing/roam-to-obsidian/ into 2 docs\n",
      "2023-04-01 17:36:27,669 - Split https://eugeneyan.com/writing/getting-help/ into 3 docs\n",
      "2023-04-01 17:36:27,671 - Split https://eugeneyan.com/writing/2022-in-review/ into 6 docs\n",
      "2023-04-01 17:36:27,673 - Split https://eugeneyan.com/writing/autoencoders-vs-diffusers/ into 3 docs\n",
      "2023-04-01 17:36:27,675 - Split https://eugeneyan.com/writing/text-to-image/ into 15 docs\n",
      "2023-04-01 17:36:27,676 - Split https://eugeneyan.com/writing/recsys2022/ into 14 docs\n",
      "2023-04-01 17:36:27,678 - Split https://eugeneyan.com/writing/testing-pipelines/ into 10 docs\n",
      "2023-04-01 17:36:27,679 - Split https://eugeneyan.com/writing/simplicity/ into 6 docs\n",
      "2023-04-01 17:36:27,680 - Split https://eugeneyan.com/writing/uncommon-python/ into 7 docs\n",
      "2023-04-01 17:36:27,681 - Split https://eugeneyan.com/writing/15-5/ into 2 docs\n",
      "2023-04-01 17:36:27,681 - Split https://eugeneyan.com/writing/design-patterns/ into 7 docs\n",
      "2023-04-01 17:36:27,685 - Split https://eugeneyan.com/writing/onboarding/ into 9 docs\n",
      "2023-04-01 17:36:27,686 - Split https://eugeneyan.com/writing/bandits/ into 14 docs\n",
      "2023-04-01 17:36:27,688 - Split https://eugeneyan.com/writing/position-bias/ into 6 docs\n",
      "2023-04-01 17:36:27,689 - Split https://eugeneyan.com/writing/counterfactual-evaluation/ into 8 docs\n",
      "2023-04-01 17:36:27,690 - Split https://eugeneyan.com/writing/intent-vs-requirements/ into 7 docs\n",
      "2023-04-01 17:36:27,691 - Split https://eugeneyan.com/writing/project-quick-start/ into 7 docs\n",
      "2023-04-01 17:36:27,692 - Split https://eugeneyan.com/writing/becoming-a-data-leader/ into 2 docs\n",
      "2023-04-01 17:36:27,693 - Split https://eugeneyan.com/writing/red-flags/ into 6 docs\n",
      "2023-04-01 17:36:27,693 - Split https://eugeneyan.com/writing/how-to-keep-learning/ into 5 docs\n",
      "2023-04-01 17:36:27,694 - Split https://eugeneyan.com/writing/2021-year-in-review/ into 5 docs\n",
      "2023-04-01 17:36:27,695 - Split https://eugeneyan.com/writing/applyingml/ into 1 docs\n",
      "2023-04-01 17:36:27,695 - Split https://eugeneyan.com/writing/what-i-learned-from-writing-online-susan-shu/ into 4 docs\n",
      "2023-04-01 17:36:27,696 - Split https://eugeneyan.com/writing/what-i-learned-from-writing-online/ into 6 docs\n",
      "2023-04-01 17:36:27,697 - Split https://eugeneyan.com/writing/recsys2021/ into 5 docs\n",
      "2023-04-01 17:36:27,698 - Split https://eugeneyan.com/writing/first-rule-of-ml/ into 6 docs\n",
      "2023-04-01 17:36:27,699 - Split https://eugeneyan.com/writing/reinforcement-learning-for-recsys-and-search/ into 12 docs\n",
      "2023-04-01 17:36:27,700 - Split https://eugeneyan.com/writing/bootstrapping-data-labels/ into 11 docs\n",
      "2023-04-01 17:36:27,700 - Split https://eugeneyan.com/writing/mailbag-bootstrap-relevant-docs/ into 2 docs\n",
      "2023-04-01 17:36:27,701 - Split https://eugeneyan.com/writing/influencing-without-authority/ into 8 docs\n",
      "2023-04-01 17:36:27,702 - Split https://eugeneyan.com/writing/system-design-for-discovery/ into 12 docs\n",
      "2023-04-01 17:36:27,704 - Split https://eugeneyan.com/writing/patterns-for-personalization/ into 24 docs\n",
      "2023-04-01 17:36:27,705 - Split https://eugeneyan.com/writing/machine-learning-metagame/ into 11 docs\n",
      "2023-04-01 17:36:27,706 - Split https://eugeneyan.com/writing/search-query-matching/ into 18 docs\n",
      "2023-04-01 17:36:27,707 - Split https://eugeneyan.com/writing/imposter-syndrome-susan/ into 6 docs\n",
      "2023-04-01 17:36:27,708 - Split https://eugeneyan.com/writing/imposter-syndrome/ into 7 docs\n",
      "2023-04-01 17:36:27,708 - Split https://eugeneyan.com/writing/values-and-superpowers/ into 8 docs\n",
      "2023-04-01 17:36:27,709 - Split https://eugeneyan.com/writing/how-to-choose-problems/ into 11 docs\n",
      "2023-04-01 17:36:27,710 - Split https://eugeneyan.com/writing/seven-habits-that-shaped-my-decade/ into 12 docs\n",
      "2023-04-01 17:36:27,711 - Split https://eugeneyan.com/writing/ml-design-docs/ into 14 docs\n",
      "2023-04-01 17:36:27,712 - Split https://eugeneyan.com/writing/writing-docs-why-what-how/ into 9 docs\n",
      "2023-04-01 17:36:27,713 - Split https://eugeneyan.com/writing/feature-stores/ into 14 docs\n",
      "2023-04-01 17:36:27,714 - Split https://eugeneyan.com/writing/how-to-win-data-hackathon/ into 5 docs\n",
      "2023-04-01 17:36:27,715 - Split https://eugeneyan.com/writing/data-science-teams/ into 14 docs\n",
      "2023-04-01 17:36:27,717 - Split https://eugeneyan.com/writing/you-dont-need-another-mooc/ into 7 docs\n",
      "2023-04-01 17:36:27,718 - Split https://eugeneyan.com/writing/mailbag-resume-for-experienced-ds/ into 3 docs\n",
      "2023-04-01 17:36:27,720 - Split https://eugeneyan.com/writing/real-time-recommendations/ into 17 docs\n",
      "2023-04-01 17:36:27,721 - Split https://eugeneyan.com/writing/2021-roadmap/ into 3 docs\n",
      "2023-04-01 17:36:27,722 - Split https://eugeneyan.com/writing/retrospective-2020/ into 6 docs\n",
      "2023-04-01 17:36:27,724 - Split https://eugeneyan.com/writing/flying-dagger/ into 2 docs\n",
      "2023-04-01 17:36:27,724 - Split https://eugeneyan.com/writing/how-i-reflect-and-plan/ into 2 docs\n",
      "2023-04-01 17:36:27,726 - Split https://eugeneyan.com/writing/informal-mentors-alexey-grigorev/ into 16 docs\n",
      "2023-04-01 17:36:27,727 - Split https://eugeneyan.com/writing/mailbag-blog-architecture/ into 1 docs\n",
      "2023-04-01 17:36:27,727 - Split https://eugeneyan.com/writing/life-lessons-from-machine-learning/ into 9 docs\n",
      "2023-04-01 17:36:27,728 - Split https://eugeneyan.com/writing/role-title-mismatch/ into 6 docs\n",
      "2023-04-01 17:36:27,729 - Split https://eugeneyan.com/writing/data-science-roles/ into 9 docs\n",
      "2023-04-01 17:36:27,730 - Split https://eugeneyan.com/writing/informal-mentors-chip-huyen/ into 8 docs\n",
      "2023-04-01 17:36:27,731 - Split https://eugeneyan.com/writing/data-discovery-platforms/ into 12 docs\n",
      "2023-04-01 17:36:27,732 - Split https://eugeneyan.com/writing/netlify-back-to-github-pages/ into 2 docs\n",
      "2023-04-01 17:36:27,734 - Split https://eugeneyan.com/writing/data-science-portfolio-how-why-what/ into 13 docs\n",
      "2023-04-01 17:36:27,736 - Split https://eugeneyan.com/writing/how-to-install-scann-on-mac/ into 2 docs\n",
      "2023-04-01 17:36:27,738 - Split https://eugeneyan.com/writing/prototyping-to-get-buy-in/ into 5 docs\n",
      "2023-04-01 17:36:27,739 - Split https://eugeneyan.com/writing/writing-and-coding/ into 11 docs\n",
      "2023-04-01 17:36:27,741 - Split https://eugeneyan.com/writing/recsys2020/ into 11 docs\n",
      "2023-04-01 17:36:27,742 - Split https://eugeneyan.com/writing/present/ into 1 docs\n",
      "2023-04-01 17:36:27,744 - Split https://eugeneyan.com/writing/favorite-productivity-coffee-routines-habits/ into 12 docs\n",
      "2023-04-01 17:36:27,746 - Split https://eugeneyan.com/writing/how-to-accomplish-more-with-less/ into 9 docs\n",
      "2023-04-01 17:36:27,747 - Split https://eugeneyan.com/writing/migrating-to-utterances/ into 1 docs\n",
      "2023-04-01 17:36:27,748 - Split https://eugeneyan.com/writing/testing-ml/ into 5 docs\n",
      "2023-04-01 17:36:27,749 - Split https://eugeneyan.com/writing/mailbag-pdf-fields/ into 3 docs\n",
      "2023-04-01 17:36:27,749 - Split https://eugeneyan.com/writing/why-read-papers/ into 5 docs\n",
      "2023-04-01 17:36:27,751 - Split https://eugeneyan.com/writing/mailbag-senior-ds/ into 2 docs\n",
      "2023-04-01 17:36:27,752 - Split https://eugeneyan.com/writing/beginners-mind/ into 8 docs\n",
      "2023-04-01 17:36:27,753 - Split https://eugeneyan.com/writing/nlp-supervised-learning-survey/ into 16 docs\n",
      "2023-04-01 17:36:27,754 - Split https://eugeneyan.com/writing/end-to-end-data-science/ into 14 docs\n",
      "2023-04-01 17:36:27,757 - Split https://eugeneyan.com/writing/fastapi-html-checkbox-download/ into 2 docs\n",
      "2023-04-01 17:36:27,758 - Split https://eugeneyan.com/writing/what-i-did-not-learn-about-writing-in-school/ into 8 docs\n",
      "2023-04-01 17:36:27,759 - Split https://eugeneyan.com/writing/georgia-tech-omscs-faq/ into 12 docs\n",
      "2023-04-01 17:36:27,760 - Split https://eugeneyan.com/writing/how-to-set-up-html-app-with-fastapi-jinja-forms-templates/ into 1 docs\n",
      "2023-04-01 17:36:27,761 - Split https://eugeneyan.com/writing/why-you-need-to-follow-up-after-your-data-science-project/ into 8 docs\n",
      "2023-04-01 17:36:27,763 - Split https://eugeneyan.com/writing/what-i-do-during-a-data-science-project-to-ensure-success/ into 5 docs\n",
      "2023-04-01 17:36:27,764 - Split https://eugeneyan.com/writing/how-to-update-github-profile-readme-automatically/ into 2 docs\n",
      "2023-04-01 17:36:27,766 - Split https://eugeneyan.com/writing/when-giving-your-100-gets-you-less-than-85/ into 2 docs\n",
      "2023-04-01 17:36:27,767 - Split https://eugeneyan.com/writing/notes-from-sparkai-summit-application-specific/ into 11 docs\n",
      "2023-04-01 17:36:27,769 - Split https://eugeneyan.com/writing/notes-from-sparkai-summit-application-agnostic/ into 7 docs\n",
      "2023-04-01 17:36:27,770 - Split https://eugeneyan.com/writing/setting-up-python-project-for-automation-and-collaboration/ into 10 docs\n",
      "2023-04-01 17:36:27,771 - Split https://eugeneyan.com/writing/mailbag-ds-requirements/ into 2 docs\n",
      "2023-04-01 17:36:27,772 - Split https://eugeneyan.com/writing/why-airflow-jobs-one-day-late/ into 2 docs\n",
      "2023-04-01 17:36:27,773 - Split https://eugeneyan.com/writing/what-i-do-before-a-data-science-project-to-ensure-success/ into 11 docs\n",
      "2023-04-01 17:36:27,774 - Split https://eugeneyan.com/writing/what-i-love-about-scrum-for-data-science/ into 8 docs\n",
      "2023-04-01 17:36:27,775 - Split https://eugeneyan.com/writing/how-to-apply-crockers-law-for-feedback-and-growth/ into 6 docs\n",
      "2023-04-01 17:36:27,776 - Split https://eugeneyan.com/writing/practical-guide-to-maintaining-machine-learning/ into 11 docs\n",
      "2023-04-01 17:36:27,777 - Split https://eugeneyan.com/writing/challenges-after-deploying-machine-learning/ into 12 docs\n",
      "2023-04-01 17:36:27,778 - Split https://eugeneyan.com/writing/how-to-write-david-x-sahil/ into 4 docs\n",
      "2023-04-01 17:36:27,778 - Split https://eugeneyan.com/writing/evaluating-ideas-at-a-hackathon/ into 6 docs\n",
      "2023-04-01 17:36:27,779 - Split https://eugeneyan.com/writing/serendipity-and-accuracy-in-recommender-systems/ into 9 docs\n",
      "2023-04-01 17:36:27,780 - Split https://eugeneyan.com/writing/how-to-give-a-kick-ass-data-science-talk/ into 5 docs\n",
      "2023-04-01 17:36:27,781 - Split https://eugeneyan.com/writing/commando-soldier-police-and-your-career/ into 5 docs\n",
      "2023-04-01 17:36:27,782 - Split https://eugeneyan.com/writing/note-taking-zettelkasten/ into 5 docs\n",
      "2023-04-01 17:36:27,783 - Split https://eugeneyan.com/writing/reading-note-taking-writing/ into 5 docs\n",
      "2023-04-01 17:36:27,784 - Split https://eugeneyan.com/writing/experimentation-workflow-with-jupyter-papermill-mlflow/ into 5 docs\n",
      "2023-04-01 17:36:27,785 - Split https://eugeneyan.com/writing/psych-grad-to-data-science-lead/ into 10 docs\n",
      "2023-04-01 17:36:27,786 - Split https://eugeneyan.com/writing/recommender-systems-graph-and-nlp-pytorch/ into 14 docs\n",
      "2023-04-01 17:36:27,787 - Split https://eugeneyan.com/writing/recommender-systems-baseline-pytorch/ into 10 docs\n",
      "2023-04-01 17:36:27,788 - Split https://eugeneyan.com/writing/omscs-cs6200-introduction-to-operating-systems/ into 7 docs\n",
      "2023-04-01 17:36:27,789 - Split https://eugeneyan.com/writing/omscs-cs6750-human-computer-interaction/ into 7 docs\n",
      "2023-04-01 17:36:27,791 - Split https://eugeneyan.com/writing/goodbye-wordpress-hello-jekyll into 1 docs\n",
      "2023-04-01 17:36:27,792 - Split https://eugeneyan.com/writing/omscs-cs6440-intro-to-health-informatics/ into 6 docs\n",
      "2023-04-01 17:36:27,793 - Split https://eugeneyan.com/writing/omscs-cs7646-machine-learning-for-trading/ into 7 docs\n",
      "2023-04-01 17:36:27,794 - Split https://eugeneyan.com/writing/what-does-a-data-scientist-really-do/ into 5 docs\n",
      "2023-04-01 17:36:27,795 - Split https://eugeneyan.com/writing/data-science-and-agile-frameworks-for-effectiveness/ into 13 docs\n",
      "2023-04-01 17:36:27,796 - Split https://eugeneyan.com/writing/data-science-and-agile-what-works-and-what-doesnt/ into 10 docs\n",
      "2023-04-01 17:36:27,797 - Split https://eugeneyan.com/writing/omscs-cs6601-artificial-intelligence/ into 7 docs\n",
      "2023-04-01 17:36:27,797 - Split https://eugeneyan.com/writing/omscs-cs6460-education-technology/ into 8 docs\n",
      "2023-04-01 17:36:27,798 - Split https://eugeneyan.com/writing/omscs-cs7642-reinforcement-learning/ into 6 docs\n",
      "2023-04-01 17:36:27,801 - Split https://eugeneyan.com/writing/building-a-strong-data-science-team-culture/ into 3 docs\n",
      "2023-04-01 17:36:27,834 - Split https://eugeneyan.com/writing/omscs-cs7641-machine-learning/ into 4 docs\n",
      "2023-04-01 17:36:27,859 - Split https://eugeneyan.com/writing/my-first-100-days-as-data-science-lead/ into 4 docs\n",
      "2023-04-01 17:36:27,865 - Split https://eugeneyan.com/writing/omscs-cs6300-software-development-process/ into 4 docs\n",
      "2023-04-01 17:36:27,866 - Split https://eugeneyan.com/writing/how-to-get-started-in-data-science/ into 7 docs\n",
      "2023-04-01 17:36:27,867 - Split https://eugeneyan.com/writing/omscs-cs6476-computer-vision/ into 4 docs\n",
      "2023-04-01 17:36:27,868 - Split https://eugeneyan.com/writing/one-way-to-help-a-data-science-team-succeed/ into 2 docs\n",
      "2023-04-01 17:36:27,870 - Split https://eugeneyan.com/writing/product-categorization-api-part-3-creating-an-api/ into 4 docs\n",
      "2023-04-01 17:36:27,871 - Split https://eugeneyan.com/writing/image-search-is-now-live/ into 2 docs\n",
      "2023-04-01 17:36:27,873 - Split https://eugeneyan.com/writing/product-categorization-api-part-2-data-preparation/ into 5 docs\n",
      "2023-04-01 17:36:27,874 - Split https://eugeneyan.com/writing/image-categorization-is-now-live/ into 1 docs\n",
      "2023-04-01 17:36:27,875 - Split https://eugeneyan.com/writing/im-going-back-to-school/ into 4 docs\n",
      "2023-04-01 17:36:27,876 - Split https://eugeneyan.com/writing/sortmyskills-is-now-live/ into 3 docs\n",
      "2023-04-01 17:36:27,877 - Split https://eugeneyan.com/writing/product-categorization-api-part-1-data-acquisition-and-formatting/ into 5 docs\n",
      "2023-04-01 17:36:27,877 - Split https://eugeneyan.com/writing/thoughts-on-functional-programming-in-scala-course-coursera/ into 3 docs\n",
      "2023-04-01 17:36:27,878 - Split https://eugeneyan.com/writing/first-post/ into 1 docs\n",
      "2023-04-01 17:36:27,879 - Split https://eugeneyan.com/writing/datakind-sg-project-accelerator/ into 9 docs\n",
      "2023-04-01 17:36:27,881 - Split https://eugeneyan.com/writing/ into 14 docs\n"
     ]
    }
   ],
   "source": [
    "text_splitter = RecursiveCharacterTextSplitter(chunk_size=1500, chunk_overlap=50)\n",
    "\n",
    "docs, metadata = [], []\n",
    "\n",
    "for i, page in df.iterrows():\n",
    "    splits = text_splitter.split_text(page['text'])\n",
    "    # for split in splits:\n",
    "    #     docs.append(split)\n",
    "    #     metadata.append({'source': split, 'url': page['url']})\n",
    "    docs.extend(splits)\n",
    "    metadata.extend([{'source': page['url']}] * len(splits))  # This Q&A chain relies on the url being in the 'source' key\n",
    "    logger.info(f'Split {page[\"url\"]} into {len(splits)} docs')"
   ]
  },
  {
   "cell_type": "code",
   "execution_count": 11,
   "metadata": {},
   "outputs": [],
   "source": [
    "pinecone.init(api_key=os.getenv('PINECONE_API_KEY_EY'), environment=PINECONE_ENV)"
   ]
  },
  {
   "cell_type": "code",
   "execution_count": 12,
   "metadata": {},
   "outputs": [
    {
     "data": {
      "text/plain": [
       "{'dimension': 1536,\n",
       " 'index_fullness': 0.0,\n",
       " 'namespaces': {},\n",
       " 'total_vector_count': 0}"
      ]
     },
     "execution_count": 12,
     "metadata": {},
     "output_type": "execute_result"
    }
   ],
   "source": [
    "# Create index\n",
    "index_name = 'ask-ey'\n",
    "index = pinecone.Index(index_name)\n",
    "\n",
    "# Delete and recreate index\n",
    "pinecone.delete_index(index_name)\n",
    "pinecone.create_index(index_name, dimension=1536, metric='cosine', pod_type='p2.x1')\n",
    "index.describe_index_stats()"
   ]
  },
  {
   "cell_type": "code",
   "execution_count": 14,
   "metadata": {},
   "outputs": [
    {
     "data": {
      "text/plain": [
       "{'dimension': 1536,\n",
       " 'index_fullness': 0.0,\n",
       " 'namespaces': {},\n",
       " 'total_vector_count': 0}"
      ]
     },
     "execution_count": 14,
     "metadata": {},
     "output_type": "execute_result"
    }
   ],
   "source": [
    "embeddings = OpenAIEmbeddings()\n",
    "\n",
    "# Load existing pinecone index\n",
    "store = Pinecone.from_existing_index(index_name=index_name, embedding=embeddings)\n",
    "index.describe_index_stats()"
   ]
  },
  {
   "cell_type": "code",
   "execution_count": 15,
   "metadata": {},
   "outputs": [
    {
     "name": "stderr",
     "output_type": "stream",
     "text": [
      "2023-04-01 17:39:04,282 - Adding chunk 1 of 10 (0 to 100))\n"
     ]
    },
    {
     "data": {
      "application/vnd.jupyter.widget-view+json": {
       "model_id": "219695e1ac054b7691bb9aea09bb57f1",
       "version_major": 2,
       "version_minor": 0
      },
      "text/plain": [
       "Upserted vectors:   0%|          | 0/100 [00:00<?, ?it/s]"
      ]
     },
     "metadata": {},
     "output_type": "display_data"
    },
    {
     "name": "stderr",
     "output_type": "stream",
     "text": [
      "2023-04-01 17:39:24,059 - Adding chunk 2 of 10 (100 to 200))\n"
     ]
    },
    {
     "data": {
      "application/vnd.jupyter.widget-view+json": {
       "model_id": "49546401ba96425a9c108e6f6c42aa42",
       "version_major": 2,
       "version_minor": 0
      },
      "text/plain": [
       "Upserted vectors:   0%|          | 0/100 [00:00<?, ?it/s]"
      ]
     },
     "metadata": {},
     "output_type": "display_data"
    },
    {
     "name": "stderr",
     "output_type": "stream",
     "text": [
      "2023-04-01 17:39:41,680 - Adding chunk 3 of 10 (200 to 300))\n"
     ]
    },
    {
     "data": {
      "application/vnd.jupyter.widget-view+json": {
       "model_id": "9b1680c8a6f54b9087c6b07edf653cde",
       "version_major": 2,
       "version_minor": 0
      },
      "text/plain": [
       "Upserted vectors:   0%|          | 0/100 [00:00<?, ?it/s]"
      ]
     },
     "metadata": {},
     "output_type": "display_data"
    },
    {
     "name": "stderr",
     "output_type": "stream",
     "text": [
      "2023-04-01 17:39:59,806 - Adding chunk 4 of 10 (300 to 400))\n"
     ]
    },
    {
     "data": {
      "application/vnd.jupyter.widget-view+json": {
       "model_id": "7ec056b9b23749158c92431a7df13a1f",
       "version_major": 2,
       "version_minor": 0
      },
      "text/plain": [
       "Upserted vectors:   0%|          | 0/100 [00:00<?, ?it/s]"
      ]
     },
     "metadata": {},
     "output_type": "display_data"
    },
    {
     "name": "stderr",
     "output_type": "stream",
     "text": [
      "2023-04-01 17:40:18,058 - Adding chunk 5 of 10 (400 to 500))\n"
     ]
    },
    {
     "data": {
      "application/vnd.jupyter.widget-view+json": {
       "model_id": "a9f0c3bfc7c94e24ba73fc44026b4c8e",
       "version_major": 2,
       "version_minor": 0
      },
      "text/plain": [
       "Upserted vectors:   0%|          | 0/100 [00:00<?, ?it/s]"
      ]
     },
     "metadata": {},
     "output_type": "display_data"
    },
    {
     "name": "stderr",
     "output_type": "stream",
     "text": [
      "2023-04-01 17:40:37,073 - Adding chunk 6 of 10 (500 to 600))\n"
     ]
    },
    {
     "data": {
      "application/vnd.jupyter.widget-view+json": {
       "model_id": "a951b042a8bd45ff8fec350b2522542c",
       "version_major": 2,
       "version_minor": 0
      },
      "text/plain": [
       "Upserted vectors:   0%|          | 0/100 [00:00<?, ?it/s]"
      ]
     },
     "metadata": {},
     "output_type": "display_data"
    },
    {
     "name": "stderr",
     "output_type": "stream",
     "text": [
      "2023-04-01 17:40:56,440 - Adding chunk 7 of 10 (600 to 700))\n"
     ]
    },
    {
     "data": {
      "application/vnd.jupyter.widget-view+json": {
       "model_id": "12ad71168c934174bd269c384703c193",
       "version_major": 2,
       "version_minor": 0
      },
      "text/plain": [
       "Upserted vectors:   0%|          | 0/100 [00:00<?, ?it/s]"
      ]
     },
     "metadata": {},
     "output_type": "display_data"
    },
    {
     "name": "stderr",
     "output_type": "stream",
     "text": [
      "2023-04-01 17:41:14,563 - Adding chunk 8 of 10 (700 to 800))\n"
     ]
    },
    {
     "data": {
      "application/vnd.jupyter.widget-view+json": {
       "model_id": "6f3ba2483c814b92adae1b16c73b242c",
       "version_major": 2,
       "version_minor": 0
      },
      "text/plain": [
       "Upserted vectors:   0%|          | 0/100 [00:00<?, ?it/s]"
      ]
     },
     "metadata": {},
     "output_type": "display_data"
    },
    {
     "name": "stderr",
     "output_type": "stream",
     "text": [
      "2023-04-01 17:41:34,757 - Adding chunk 9 of 10 (800 to 900))\n"
     ]
    },
    {
     "data": {
      "application/vnd.jupyter.widget-view+json": {
       "model_id": "7a4d231a608049ceb748519c55a51a25",
       "version_major": 2,
       "version_minor": 0
      },
      "text/plain": [
       "Upserted vectors:   0%|          | 0/100 [00:00<?, ?it/s]"
      ]
     },
     "metadata": {},
     "output_type": "display_data"
    },
    {
     "name": "stderr",
     "output_type": "stream",
     "text": [
      "2023-04-01 17:41:53,633 - Adding chunk 10 of 10 (900 to 978))\n"
     ]
    },
    {
     "data": {
      "application/vnd.jupyter.widget-view+json": {
       "model_id": "fb48258fb3ef4def850b9388f10f739c",
       "version_major": 2,
       "version_minor": 0
      },
      "text/plain": [
       "Upserted vectors:   0%|          | 0/78 [00:00<?, ?it/s]"
      ]
     },
     "metadata": {},
     "output_type": "display_data"
    }
   ],
   "source": [
    "# Add data to pinecone in chunks to avoid errors\n",
    "chunk_size = 100\n",
    "last_chunk = 0\n",
    "num_chunks = math.ceil(len(docs) / chunk_size)\n",
    "\n",
    "for i in range(last_chunk, num_chunks):    \n",
    "    start_idx = i * chunk_size \n",
    "    end_idx = min(start_idx + chunk_size, len(docs))\n",
    "    logger.info(f'Adding chunk {i+1} of {num_chunks} ({start_idx} to {end_idx}))')\n",
    "    \n",
    "    _docs = docs[start_idx:end_idx]\n",
    "    _metadata = metadata[start_idx:end_idx]\n",
    "    \n",
    "    store.add_texts(_docs, _metadata)"
   ]
  },
  {
   "cell_type": "markdown",
   "metadata": {},
   "source": [
    "## Check embeddings"
   ]
  },
  {
   "cell_type": "code",
   "execution_count": 33,
   "metadata": {},
   "outputs": [],
   "source": [
    "embedding_enc = OpenAIEmbeddings()"
   ]
  },
  {
   "cell_type": "code",
   "execution_count": 69,
   "metadata": {},
   "outputs": [],
   "source": [
    "a = 'How do I decide between being a manager or an IC?'\n",
    "a2 = 'manager or IC'\n",
    "b = 'How do I decide between being a manager or an engineer?'\n",
    "b2 = 'manager or engineer'\n",
    "c = 'manager'\n",
    "c2 = 'IC'\n",
    "c3 = 'engineer'\n",
    "d = 'manager engineer pendulum'\n",
    "d2 = 'manager IC pendulum'\n",
    "\n",
    "x = 'What bandits are used in recommendation systems?'\n",
    "x2 = 'What types of bandits are used in recommendation systems?'\n",
    "x3 = 'What types of bandit algorithms are used in recommendation systems?'\n",
    "y = 'How are bandits are used in recommendation systems?'\n",
    "y2 = 'How are bandit algorithtms are used in recommendation systems?'\n",
    "z = 'bandits used in recommendation systems'\n",
    "z2 = 'bandits in recommendation systems'\n",
    "z3 = 'bandit recommendation systems'\n",
    "\n",
    "query_list = [a, a2, b, b2, c, c2, c3, d, d2, x, x2, x3, y, y2, z, z2, z3]"
   ]
  },
  {
   "cell_type": "code",
   "execution_count": 111,
   "metadata": {},
   "outputs": [],
   "source": [
    "query_emb_list = []\n",
    "\n",
    "for query in query_list:\n",
    "    query_emb_list.append((query, embedding_enc.embed_query(query)))"
   ]
  },
  {
   "cell_type": "code",
   "execution_count": 250,
   "metadata": {},
   "outputs": [],
   "source": [
    "import numpy as np\n",
    "\n",
    "from sklearn.manifold import TSNE\n",
    "import matplotlib.pyplot as plt\n",
    "import random"
   ]
  },
  {
   "cell_type": "code",
   "execution_count": 46,
   "metadata": {},
   "outputs": [],
   "source": [
    "embeddings = np.vstack(embedding_list)"
   ]
  },
  {
   "cell_type": "code",
   "execution_count": 47,
   "metadata": {},
   "outputs": [
    {
     "data": {
      "text/plain": [
       "(17, 1536)"
      ]
     },
     "execution_count": 47,
     "metadata": {},
     "output_type": "execute_result"
    }
   ],
   "source": [
    "embeddings.shape"
   ]
  },
  {
   "cell_type": "code",
   "execution_count": 55,
   "metadata": {},
   "outputs": [
    {
     "name": "stdout",
     "output_type": "stream",
     "text": [
      "[t-SNE] Computing 16 nearest neighbors...\n",
      "[t-SNE] Indexed 17 samples in 0.001s...\n",
      "[t-SNE] Computed neighbors for 17 samples in 0.002s...\n",
      "[t-SNE] Computed conditional probabilities for sample 17 / 17\n",
      "[t-SNE] Mean sigma: 7.032393\n",
      "[t-SNE] KL divergence after 250 iterations with early exaggeration: 42.065853\n",
      "[t-SNE] KL divergence after 850 iterations: 0.365748\n"
     ]
    }
   ],
   "source": [
    "tsne = TSNE(n_components=2, random_state=0, perplexity=16, n_iter=5000, verbose=1)\n",
    "embeddings_2d = tsne.fit_transform(embeddings)"
   ]
  },
  {
   "cell_type": "code",
   "execution_count": 56,
   "metadata": {},
   "outputs": [
    {
     "data": {
      "text/plain": [
       "array([[ 26.933899  ,  -8.558991  ],\n",
       "       [ 48.42427   ,   0.08291823],\n",
       "       [ 39.206135  , -28.578968  ],\n",
       "       [-10.841957  , -18.65667   ],\n",
       "       [ 16.94178   ,  37.734627  ],\n",
       "       [  5.1673136 ,  -2.7281857 ],\n",
       "       [-16.428877  ,   2.5202003 ],\n",
       "       [ 11.026998  , -24.613327  ],\n",
       "       [-39.66949   ,   0.18514854],\n",
       "       [ 17.531504  , -46.53371   ],\n",
       "       [ 40.259254  ,  25.520218  ],\n",
       "       [ 20.806347  ,  12.865766  ],\n",
       "       [-27.909395  ,  24.114546  ],\n",
       "       [ -1.1609986 ,  19.0791    ],\n",
       "       [ -8.830331  ,  41.533566  ],\n",
       "       [-10.081632  , -42.452076  ],\n",
       "       [-33.088768  , -25.175682  ]], dtype=float32)"
      ]
     },
     "execution_count": 56,
     "metadata": {},
     "output_type": "execute_result"
    }
   ],
   "source": [
    "embeddings_2d"
   ]
  },
  {
   "cell_type": "markdown",
   "metadata": {},
   "source": [
    "## Get pinecone embeddings"
   ]
  },
  {
   "cell_type": "code",
   "execution_count": 74,
   "metadata": {},
   "outputs": [],
   "source": [
    "pinecone.init(api_key=os.getenv('PINECONE_API_KEY_EY'), environment=PINECONE_ENV)\n",
    "index_name = 'ask-ey'\n",
    "index = pinecone.Index(index_name)"
   ]
  },
  {
   "cell_type": "code",
   "execution_count": 75,
   "metadata": {},
   "outputs": [],
   "source": [
    "store = Pinecone.from_existing_index(index_name=index_name, embedding=embedding_enc).as_retriever()"
   ]
  },
  {
   "cell_type": "code",
   "execution_count": 311,
   "metadata": {},
   "outputs": [
    {
     "data": {
      "text/plain": [
       "[Document(page_content='Do you know of other industrial implementations of bandit-based recommendation systems? Please share them in the comments below!', lookup_str='', metadata={'source': 'https://eugeneyan.com/writing/bandits/'}, lookup_index=0),\n",
       " Document(page_content='Do you know of other industrial implementations of bandit-based recommendation systems? Please share them in the comments below!', lookup_str='', metadata={'source': 'https://eugeneyan.com/writing/bandits/'}, lookup_index=0),\n",
       " Document(page_content='That was a whirlwind tour of the various patterns for personalization in recommendations and search. These patterns are not exhaustive. I’ve also come across papers that add multi-interest heads and learn interest hierarchies on top of user interests, as well as approaches to model user interest across domains. When to use which? Here’s a rough heuristic:\\nIf you’re starting with personalization, good ol’ logistic regression with crossed features is a tough baseline to beat. If you’re building a real-time recommender (i.e., generates recs on request), learning item embeddings via word2vec and applying approximate nearest neighbors is pretty lean and gets much of the juice from session-level behavioral data.\\nDid I miss any useful patterns for personalization? Please reach out and let me know.\\nWhat are the various patterns for personalizing recommendations and search? I dug into a couple of industry papers/blogs and summarized them into bandits, item embeddings + MLP, sequential models, graphs, and user embeddings.https://t.co/Qm3kScpXZA', lookup_str='', metadata={'source': 'https://eugeneyan.com/writing/patterns-for-personalization/'}, lookup_index=0),\n",
       " Document(page_content=\"Are you trying to apply reinforcement learning for recommendation problems? If so, contextual bandits might be a good place to start—they’re relatively simpler to implement and might not need as much data as deep learning approaches. Beyond contextual bandits, DQNs seem to be the go-to baseline.\\nNonetheless, regardless of which approach you adopt, pay extra attention to how off-policy evaluation is done—having the right evaluation framework is more than half the battle won. Here’s a good tutorial on counterfactual evaluation. Also, see this paper on Simpson’s Paradox in offline evaluation for recommendations.\\nDid I miss anything? Please reach out!\\nConventional RecSys have downsides such as:• Maxing short-term (clicks) over long-term reward• Overemphasizing item popularity and not exploring• Can't keep up with frequent new items (news, TikTok)Let's explore how reinforcement learning can help.https://t.co/DfZamMhOfd\", lookup_str='', metadata={'source': 'https://eugeneyan.com/writing/reinforcement-learning-for-recsys-and-search/'}, lookup_index=0),\n",
       " Document(page_content=\"Are you trying to apply reinforcement learning for recommendation problems? If so, contextual bandits might be a good place to start—they’re relatively simpler to implement and might not need as much data as deep learning approaches. Beyond contextual bandits, DQNs seem to be the go-to baseline.\\nNonetheless, regardless of which approach you adopt, pay extra attention to how off-policy evaluation is done—having the right evaluation framework is more than half the battle won. Here’s a good tutorial on counterfactual evaluation. Also, see this paper on Simpson’s Paradox in offline evaluation for recommendations.\\nDid I miss anything? Please reach out!\\nConventional RecSys have downsides such as:• Maxing short-term (clicks) over long-term reward• Overemphasizing item popularity and not exploring• Can't keep up with frequent new items (news, TikTok)Let's explore how reinforcement learning can help.https://t.co/DfZamMhOfd\", lookup_str='', metadata={'source': 'https://eugeneyan.com/writing/reinforcement-learning-for-recsys-and-search/'}, lookup_index=0)]"
      ]
     },
     "execution_count": 311,
     "metadata": {},
     "output_type": "execute_result"
    }
   ],
   "source": [
    "store.get_relevant_documents('What bandits are used in recommendation systems?')"
   ]
  },
  {
   "cell_type": "code",
   "execution_count": 309,
   "metadata": {},
   "outputs": [
    {
     "data": {
      "text/plain": [
       "[Document(page_content='Do you know of other industrial implementations of bandit-based recommendation systems? Please share them in the comments below!', lookup_str='', metadata={'source': 'https://eugeneyan.com/writing/bandits/'}, lookup_index=0),\n",
       " Document(page_content='That was a whirlwind tour of the various patterns for personalization in recommendations and search. These patterns are not exhaustive. I’ve also come across papers that add multi-interest heads and learn interest hierarchies on top of user interests, as well as approaches to model user interest across domains. When to use which? Here’s a rough heuristic:\\nIf you’re starting with personalization, good ol’ logistic regression with crossed features is a tough baseline to beat. If you’re building a real-time recommender (i.e., generates recs on request), learning item embeddings via word2vec and applying approximate nearest neighbors is pretty lean and gets much of the juice from session-level behavioral data.\\nDid I miss any useful patterns for personalization? Please reach out and let me know.\\nWhat are the various patterns for personalizing recommendations and search? I dug into a couple of industry papers/blogs and summarized them into bandits, item embeddings + MLP, sequential models, graphs, and user embeddings.https://t.co/Qm3kScpXZA', lookup_str='', metadata={'source': 'https://eugeneyan.com/writing/patterns-for-personalization/'}, lookup_index=0),\n",
       " Document(page_content='Do you know of other industrial implementations of bandit-based recommendation systems? Please share them in the comments below!', lookup_str='', metadata={'source': 'https://eugeneyan.com/writing/bandits/'}, lookup_index=0),\n",
       " Document(page_content=\"Are you trying to apply reinforcement learning for recommendation problems? If so, contextual bandits might be a good place to start—they’re relatively simpler to implement and might not need as much data as deep learning approaches. Beyond contextual bandits, DQNs seem to be the go-to baseline.\\nNonetheless, regardless of which approach you adopt, pay extra attention to how off-policy evaluation is done—having the right evaluation framework is more than half the battle won. Here’s a good tutorial on counterfactual evaluation. Also, see this paper on Simpson’s Paradox in offline evaluation for recommendations.\\nDid I miss anything? Please reach out!\\nConventional RecSys have downsides such as:• Maxing short-term (clicks) over long-term reward• Overemphasizing item popularity and not exploring• Can't keep up with frequent new items (news, TikTok)Let's explore how reinforcement learning can help.https://t.co/DfZamMhOfd\", lookup_str='', metadata={'source': 'https://eugeneyan.com/writing/reinforcement-learning-for-recsys-and-search/'}, lookup_index=0),\n",
       " Document(page_content=\"Are you trying to apply reinforcement learning for recommendation problems? If so, contextual bandits might be a good place to start—they’re relatively simpler to implement and might not need as much data as deep learning approaches. Beyond contextual bandits, DQNs seem to be the go-to baseline.\\nNonetheless, regardless of which approach you adopt, pay extra attention to how off-policy evaluation is done—having the right evaluation framework is more than half the battle won. Here’s a good tutorial on counterfactual evaluation. Also, see this paper on Simpson’s Paradox in offline evaluation for recommendations.\\nDid I miss anything? Please reach out!\\nConventional RecSys have downsides such as:• Maxing short-term (clicks) over long-term reward• Overemphasizing item popularity and not exploring• Can't keep up with frequent new items (news, TikTok)Let's explore how reinforcement learning can help.https://t.co/DfZamMhOfd\", lookup_str='', metadata={'source': 'https://eugeneyan.com/writing/reinforcement-learning-for-recsys-and-search/'}, lookup_index=0)]"
      ]
     },
     "execution_count": 309,
     "metadata": {},
     "output_type": "execute_result"
    }
   ],
   "source": [
    "store.get_relevant_documents('How are bandits used in recommendation systems?')"
   ]
  },
  {
   "cell_type": "code",
   "execution_count": 91,
   "metadata": {},
   "outputs": [
    {
     "name": "stderr",
     "output_type": "stream",
     "text": [
      "2023-04-03 09:35:45,231 - Embedding query: How do I decide between being a manager or an IC?\n",
      "2023-04-03 09:35:46,135 - Embedding query: manager or IC\n",
      "2023-04-03 09:35:46,799 - Embedding query: How do I decide between being a manager or an engineer?\n",
      "2023-04-03 09:35:47,303 - Embedding query: manager or engineer\n",
      "2023-04-03 09:35:47,518 - Embedding query: manager\n",
      "2023-04-03 09:35:48,015 - Embedding query: IC\n",
      "2023-04-03 09:35:48,561 - Embedding query: engineer\n",
      "2023-04-03 09:35:48,768 - Embedding query: manager engineer pendulum\n",
      "2023-04-03 09:35:49,703 - Embedding query: manager IC pendulum\n",
      "2023-04-03 09:35:50,302 - Embedding query: What bandits are used in recommendation systems?\n",
      "2023-04-03 09:35:51,205 - Embedding query: What types of bandits are used in recommendation systems?\n",
      "2023-04-03 09:35:51,407 - Embedding query: What types of bandit algorithms are used in recommendation systems?\n",
      "2023-04-03 09:35:52,322 - Embedding query: How are bandits are used in recommendation systems?\n",
      "2023-04-03 09:35:52,769 - Embedding query: How are bandit algorithtms are used in recommendation systems?\n",
      "2023-04-03 09:35:52,963 - Embedding query: bandits used in recommendation systems\n",
      "2023-04-03 09:35:53,290 - Embedding query: bandits in recommendation systems\n",
      "2023-04-03 09:35:53,743 - Embedding query: bandit recommendation systems\n"
     ]
    }
   ],
   "source": [
    "doc_dict = {}\n",
    "\n",
    "for query in query_list:\n",
    "    logger.info(f'Embedding query: {query}')\n",
    "    results = store.get_relevant_documents(query)\n",
    "    doc_dict[query] = results"
   ]
  },
  {
   "cell_type": "code",
   "execution_count": 101,
   "metadata": {},
   "outputs": [
    {
     "name": "stderr",
     "output_type": "stream",
     "text": [
      "2023-04-03 09:40:56,880 - Content: I also get a lot of questions on LinkedIn, Twitter, email, Quora. I try to answer these questions, but it doesn’t scale. That was another reason I started the community slack. People can ask these questions in public, and we can answer them. Maybe if I start by showing an example, more people can help with the questions?\n",
      "The community also hosts meetups. One reason why I do this, is sometimes I want to talk at a conference, I submit a great proposal, and I’m rejected (laughs).\n",
      "It’s disappointing, and I think, why do I have to submit a proposal? Why do I need a conference? Can’t I just talk about it myself? And this is how it happened, maybe I can just host meetups.\n",
      "Also, a friend asked, do you know of a place where I can give a talk? Why yes I do! This was the SageMaker event that you attended. It was our first talk.\n",
      "Eugene: Currently, Alexey hosts one talk a week. I don’t know how he keeps up with the cadence, but it’s a great time to join datatalks.club.\n",
      "This was a great chat, thanks Alexey. I’ll share the videos on YouTube and write this up.\n",
      "This week, we chat with @Al_Grigor, lead data scientist @ OLX Group.He started as a Java dev, did a Master's in BI, then in a single interview, got his first DS role.I asked about his experience, thought process, and advice for new data scientists. https://t.co/8oDiVYqGJQ\n",
      "Thanks to Alexey Grigorev for the interview. Thanks to Yang Xinyi and Alexey Grigorev for reading drafts of this. | URL: https://eugeneyan.com/writing/informal-mentors-alexey-grigorev/\n",
      "2023-04-03 09:40:57,170 - Content: This metaphor also helps with other questions.\n",
      "“I have two offers. One is a pre-Series A start-up, another from FAANGMULA. Which should I accept?”\n",
      "“There’s a new team set up to work on project X. It seems like a long shot but the idea’s innovative and high potential—should I join them?”\n",
      "There’s no one correct answer to those questions. Your answer also changes with your stage in life. Nonetheless, I’ve found thinking about Commando, Soldier, Police to help guide my decisions. I enjoy being in a commando-soldier role—innovating and building things from scratch and then scaling it for high impact.\n",
      "Paul Jarvis, author of Company of One, also wrote about a similar paradigm: Starters and Operators. (Paul identifies with being a Starter). He shares his decision to sell a product as the support cost had gotten too high, and he didn’t want to manage a support team.\n",
      "What other approaches have you found helpful in thinking over career choices? Reach out via Twitter (@eugeneyan) or share in the comments below!\n",
      "Thanks to Xinyi Yang, Gabriel Chuan, and Marianne Tan for reading drafts of this. | URL: https://eugeneyan.com/writing/commando-soldier-police-and-your-career/\n",
      "2023-04-03 09:40:57,330 - Content: I also get a lot of questions on LinkedIn, Twitter, email, Quora. I try to answer these questions, but it doesn’t scale. That was another reason I started the community slack. People can ask these questions in public, and we can answer them. Maybe if I start by showing an example, more people can help with the questions?\n",
      "The community also hosts meetups. One reason why I do this, is sometimes I want to talk at a conference, I submit a great proposal, and I’m rejected (laughs).\n",
      "It’s disappointing, and I think, why do I have to submit a proposal? Why do I need a conference? Can’t I just talk about it myself? And this is how it happened, maybe I can just host meetups.\n",
      "Also, a friend asked, do you know of a place where I can give a talk? Why yes I do! This was the SageMaker event that you attended. It was our first talk.\n",
      "Eugene: Currently, Alexey hosts one talk a week. I don’t know how he keeps up with the cadence, but it’s a great time to join datatalks.club.\n",
      "This was a great chat, thanks Alexey. I’ll share the videos on YouTube and write this up.\n",
      "This week, we chat with @Al_Grigor, lead data scientist @ OLX Group.He started as a Java dev, did a Master's in BI, then in a single interview, got his first DS role.I asked about his experience, thought process, and advice for new data scientists. https://t.co/8oDiVYqGJQ\n",
      "Thanks to Alexey Grigorev for the interview. Thanks to Yang Xinyi and Alexey Grigorev for reading drafts of this. | URL: https://eugeneyan.com/writing/informal-mentors-alexey-grigorev/\n",
      "2023-04-03 09:40:58,135 - Content: Do the due diligence before accepting the job offer; this is the best way to prevent a role or title mismatch. Ask the right questions, contact future teammates, read the job reviews.\n",
      "If you find yourself in the wrong role, assess if it’s temporary and how much is within your control. Focus on what you can control (it’s healthier this way). Reframe your mindset, find opportunities for 20% time projects, and do self-learning and projects in your free time.\n",
      "Overall, if you’re doing meaningful, high impact work, learning lots, and have great peers, don’t let the title weigh you down. It’s just a title—your competencies, results, and job satisfaction matter much more.\n",
      "Last week, we discussed roles in data science & ML.This week, we discuss:• How not to get into the wrong role• What if we have the right role, but wrong title• What if we have the wrong role• What if we're changing jobs, but to a \"lesser\" title https://t.co/lporgUPN8j\n",
      "Thanks to Yang Xinyi for reading drafts of this. | URL: https://eugeneyan.com/writing/role-title-mismatch/\n",
      "2023-04-03 09:40:58,271 - Content: You might ask, how do I find time for all these questions, especially if I only have time for questions in the last 5 - 10 minutes of each interview?\n",
      "First, you don’t have to ask all the questions—focus on what’s important to you. It’s hard to find a role that doesn’t have any red flags and has great compensation, work-life balance, etc.; so manage your expectations.\n",
      "Second, you can ask for follow-up chats with the hiring manager, and another member of the team, where you can reverse interview them. There’s little to lose from this request and what you learn can either help you dodge a bullet or set you up for success in your new role.\n",
      "Thanks to Yang Xinyi for reading drafts of this. | URL: https://eugeneyan.com/writing/red-flags/\n",
      "2023-04-03 09:40:58,604 - Content: I also get a lot of questions on LinkedIn, Twitter, email, Quora. I try to answer these questions, but it doesn’t scale. That was another reason I started the community slack. People can ask these questions in public, and we can answer them. Maybe if I start by showing an example, more people can help with the questions?\n",
      "The community also hosts meetups. One reason why I do this, is sometimes I want to talk at a conference, I submit a great proposal, and I’m rejected (laughs).\n",
      "It’s disappointing, and I think, why do I have to submit a proposal? Why do I need a conference? Can’t I just talk about it myself? And this is how it happened, maybe I can just host meetups.\n",
      "Also, a friend asked, do you know of a place where I can give a talk? Why yes I do! This was the SageMaker event that you attended. It was our first talk.\n",
      "Eugene: Currently, Alexey hosts one talk a week. I don’t know how he keeps up with the cadence, but it’s a great time to join datatalks.club.\n",
      "This was a great chat, thanks Alexey. I’ll share the videos on YouTube and write this up.\n",
      "This week, we chat with @Al_Grigor, lead data scientist @ OLX Group.He started as a Java dev, did a Master's in BI, then in a single interview, got his first DS role.I asked about his experience, thought process, and advice for new data scientists. https://t.co/8oDiVYqGJQ\n",
      "Thanks to Alexey Grigorev for the interview. Thanks to Yang Xinyi and Alexey Grigorev for reading drafts of this. | URL: https://eugeneyan.com/writing/informal-mentors-alexey-grigorev/\n",
      "2023-04-03 09:40:58,726 - Content: You might ask, how do I find time for all these questions, especially if I only have time for questions in the last 5 - 10 minutes of each interview?\n",
      "First, you don’t have to ask all the questions—focus on what’s important to you. It’s hard to find a role that doesn’t have any red flags and has great compensation, work-life balance, etc.; so manage your expectations.\n",
      "Second, you can ask for follow-up chats with the hiring manager, and another member of the team, where you can reverse interview them. There’s little to lose from this request and what you learn can either help you dodge a bullet or set you up for success in your new role.\n",
      "Thanks to Yang Xinyi for reading drafts of this. | URL: https://eugeneyan.com/writing/red-flags/\n",
      "2023-04-03 09:40:58,836 - Content: I also get a lot of questions on LinkedIn, Twitter, email, Quora. I try to answer these questions, but it doesn’t scale. That was another reason I started the community slack. People can ask these questions in public, and we can answer them. Maybe if I start by showing an example, more people can help with the questions?\n",
      "The community also hosts meetups. One reason why I do this, is sometimes I want to talk at a conference, I submit a great proposal, and I’m rejected (laughs).\n",
      "It’s disappointing, and I think, why do I have to submit a proposal? Why do I need a conference? Can’t I just talk about it myself? And this is how it happened, maybe I can just host meetups.\n",
      "Also, a friend asked, do you know of a place where I can give a talk? Why yes I do! This was the SageMaker event that you attended. It was our first talk.\n",
      "Eugene: Currently, Alexey hosts one talk a week. I don’t know how he keeps up with the cadence, but it’s a great time to join datatalks.club.\n",
      "This was a great chat, thanks Alexey. I’ll share the videos on YouTube and write this up.\n",
      "This week, we chat with @Al_Grigor, lead data scientist @ OLX Group.He started as a Java dev, did a Master's in BI, then in a single interview, got his first DS role.I asked about his experience, thought process, and advice for new data scientists. https://t.co/8oDiVYqGJQ\n",
      "Thanks to Alexey Grigorev for the interview. Thanks to Yang Xinyi and Alexey Grigorev for reading drafts of this. | URL: https://eugeneyan.com/writing/informal-mentors-alexey-grigorev/\n",
      "2023-04-03 09:40:59,128 - Content: This metaphor also helps with other questions.\n",
      "“I have two offers. One is a pre-Series A start-up, another from FAANGMULA. Which should I accept?”\n",
      "“There’s a new team set up to work on project X. It seems like a long shot but the idea’s innovative and high potential—should I join them?”\n",
      "There’s no one correct answer to those questions. Your answer also changes with your stage in life. Nonetheless, I’ve found thinking about Commando, Soldier, Police to help guide my decisions. I enjoy being in a commando-soldier role—innovating and building things from scratch and then scaling it for high impact.\n",
      "Paul Jarvis, author of Company of One, also wrote about a similar paradigm: Starters and Operators. (Paul identifies with being a Starter). He shares his decision to sell a product as the support cost had gotten too high, and he didn’t want to manage a support team.\n",
      "What other approaches have you found helpful in thinking over career choices? Reach out via Twitter (@eugeneyan) or share in the comments below!\n",
      "Thanks to Xinyi Yang, Gabriel Chuan, and Marianne Tan for reading drafts of this. | URL: https://eugeneyan.com/writing/commando-soldier-police-and-your-career/\n",
      "2023-04-03 09:40:59,233 - Content: This thinking explains my inclination towards scrum and time-boxing for data science. Each sprint delivers milestones that we can bring to stakeholders and/or customers to get their feedback on. We want to be like stochastic gradient descent (i.e., incremental deliverables) rather than batch gradient descent (i.e., Big Bang integration).\n",
      "We also foster discipline through the standards we uphold (or tolerate). For example, we should have objective standards for linting, type checks, and functional tests. Another way is to actively share examples of great work (e.g., documents, deliverables) that meet and surpass our standards, so we have ideals to aspire towards.\n",
      "While such standards can seem stifling, they provide more freedom in the medium-to-long term. Consistent processes and standards let us focus on the work that matters (instead of constantly reinventing processes or templates). And because everyone adopts the same standards, it’s much easier to understand and provide feedback on projects across the entire team, as well as fluidly move between projects as required. | URL: https://eugeneyan.com/writing/data-science-teams/\n",
      "2023-04-03 09:40:59,418 - Content: I also get a lot of questions on LinkedIn, Twitter, email, Quora. I try to answer these questions, but it doesn’t scale. That was another reason I started the community slack. People can ask these questions in public, and we can answer them. Maybe if I start by showing an example, more people can help with the questions?\n",
      "The community also hosts meetups. One reason why I do this, is sometimes I want to talk at a conference, I submit a great proposal, and I’m rejected (laughs).\n",
      "It’s disappointing, and I think, why do I have to submit a proposal? Why do I need a conference? Can’t I just talk about it myself? And this is how it happened, maybe I can just host meetups.\n",
      "Also, a friend asked, do you know of a place where I can give a talk? Why yes I do! This was the SageMaker event that you attended. It was our first talk.\n",
      "Eugene: Currently, Alexey hosts one talk a week. I don’t know how he keeps up with the cadence, but it’s a great time to join datatalks.club.\n",
      "This was a great chat, thanks Alexey. I’ll share the videos on YouTube and write this up.\n",
      "This week, we chat with @Al_Grigor, lead data scientist @ OLX Group.He started as a Java dev, did a Master's in BI, then in a single interview, got his first DS role.I asked about his experience, thought process, and advice for new data scientists. https://t.co/8oDiVYqGJQ\n",
      "Thanks to Alexey Grigorev for the interview. Thanks to Yang Xinyi and Alexey Grigorev for reading drafts of this. | URL: https://eugeneyan.com/writing/informal-mentors-alexey-grigorev/\n",
      "2023-04-03 09:40:59,652 - Content: This metaphor also helps with other questions.\n",
      "“I have two offers. One is a pre-Series A start-up, another from FAANGMULA. Which should I accept?”\n",
      "“There’s a new team set up to work on project X. It seems like a long shot but the idea’s innovative and high potential—should I join them?”\n",
      "There’s no one correct answer to those questions. Your answer also changes with your stage in life. Nonetheless, I’ve found thinking about Commando, Soldier, Police to help guide my decisions. I enjoy being in a commando-soldier role—innovating and building things from scratch and then scaling it for high impact.\n",
      "Paul Jarvis, author of Company of One, also wrote about a similar paradigm: Starters and Operators. (Paul identifies with being a Starter). He shares his decision to sell a product as the support cost had gotten too high, and he didn’t want to manage a support team.\n",
      "What other approaches have you found helpful in thinking over career choices? Reach out via Twitter (@eugeneyan) or share in the comments below!\n",
      "Thanks to Xinyi Yang, Gabriel Chuan, and Marianne Tan for reading drafts of this. | URL: https://eugeneyan.com/writing/commando-soldier-police-and-your-career/\n",
      "2023-04-03 09:40:59,887 - Content: This leads to regulations, such as the EU’s General Data Protection Regulation (GDPR). It aims to give individuals control over their personal data and affects how many industries operate, especially social media and online ads. If you have users from the EU, you’ll also face this challenge in your machine learning ops.\n",
      "At the start of this post, you likely thought one of the following:\n",
      "Whichever group you were in, I hope this increased your awareness of machine learning challenges post-deployment. I spent years on these issues and have (thankfully) found some straightforward ways to fix–or, in many cases, prevent–them. More in the next post.\n",
      "Thanks to Yang Xinyi, Stew Fortier, Richie Bonilla, and Joel Christiansen for reading drafts of this. | URL: https://eugeneyan.com/writing/challenges-after-deploying-machine-learning/\n",
      "2023-04-03 09:41:00,176 - Content: Non-positive & incremental: Sometimes, we make multiple small changes that add no value but exponentially increase complexity. Can lead to “death by a thousand cuts”.\n",
      "Positive & disruptive: This includes building new systems or adopting ML breakthroughs that results in positive value within the short to medium-term. A no-brainer.\n",
      "Non-positive & disruptive: This requires more thought. Are we building new capabilities that multiply the team’s output, or it is a learning exercise to unlock higher-value problems? Or is it a pitfall of resume-driven development or following the HiPPO’s opinion? Thread carefully.\n",
      "Like most 2 x 2s, this is oversimplifying the real-world. Nonetheless, I hope you’ll find the concepts discussed—cost-benefit analysis, capabilities, learning exercise, incremental vs. disruptive changes—useful when choosing and prioritizing your data science and machine learning problems. Have any feedback? Let me know at @eugeneyan!\n",
      "How to choose machine learning problems?• Quantify costs & benefits• Focus on capabilities that multiply output• Do exercises that unlock higher-value problems• Avoid resume driven development & pet projs• Trade off incremental vs. disruptivehttps://t.co/Md359mVmC3\n",
      "Thanks to Yang Xinyi for reading drafts of this. | URL: https://eugeneyan.com/writing/how-to-choose-problems/\n",
      "2023-04-03 09:41:00,289 - Content: Do the due diligence before accepting the job offer; this is the best way to prevent a role or title mismatch. Ask the right questions, contact future teammates, read the job reviews.\n",
      "If you find yourself in the wrong role, assess if it’s temporary and how much is within your control. Focus on what you can control (it’s healthier this way). Reframe your mindset, find opportunities for 20% time projects, and do self-learning and projects in your free time.\n",
      "Overall, if you’re doing meaningful, high impact work, learning lots, and have great peers, don’t let the title weigh you down. It’s just a title—your competencies, results, and job satisfaction matter much more.\n",
      "Last week, we discussed roles in data science & ML.This week, we discuss:• How not to get into the wrong role• What if we have the right role, but wrong title• What if we have the wrong role• What if we're changing jobs, but to a \"lesser\" title https://t.co/lporgUPN8j\n",
      "Thanks to Yang Xinyi for reading drafts of this. | URL: https://eugeneyan.com/writing/role-title-mismatch/\n",
      "2023-04-03 09:41:00,400 - Content: I also get a lot of questions on LinkedIn, Twitter, email, Quora. I try to answer these questions, but it doesn’t scale. That was another reason I started the community slack. People can ask these questions in public, and we can answer them. Maybe if I start by showing an example, more people can help with the questions?\n",
      "The community also hosts meetups. One reason why I do this, is sometimes I want to talk at a conference, I submit a great proposal, and I’m rejected (laughs).\n",
      "It’s disappointing, and I think, why do I have to submit a proposal? Why do I need a conference? Can’t I just talk about it myself? And this is how it happened, maybe I can just host meetups.\n",
      "Also, a friend asked, do you know of a place where I can give a talk? Why yes I do! This was the SageMaker event that you attended. It was our first talk.\n",
      "Eugene: Currently, Alexey hosts one talk a week. I don’t know how he keeps up with the cadence, but it’s a great time to join datatalks.club.\n",
      "This was a great chat, thanks Alexey. I’ll share the videos on YouTube and write this up.\n",
      "This week, we chat with @Al_Grigor, lead data scientist @ OLX Group.He started as a Java dev, did a Master's in BI, then in a single interview, got his first DS role.I asked about his experience, thought process, and advice for new data scientists. https://t.co/8oDiVYqGJQ\n",
      "Thanks to Alexey Grigorev for the interview. Thanks to Yang Xinyi and Alexey Grigorev for reading drafts of this. | URL: https://eugeneyan.com/writing/informal-mentors-alexey-grigorev/\n",
      "2023-04-03 09:41:00,705 - Content: You might ask, how do I find time for all these questions, especially if I only have time for questions in the last 5 - 10 minutes of each interview?\n",
      "First, you don’t have to ask all the questions—focus on what’s important to you. It’s hard to find a role that doesn’t have any red flags and has great compensation, work-life balance, etc.; so manage your expectations.\n",
      "Second, you can ask for follow-up chats with the hiring manager, and another member of the team, where you can reverse interview them. There’s little to lose from this request and what you learn can either help you dodge a bullet or set you up for success in your new role.\n",
      "Thanks to Yang Xinyi for reading drafts of this. | URL: https://eugeneyan.com/writing/red-flags/\n",
      "2023-04-03 09:41:00,813 - Content: And it appears to be a trend specific to the US. In South-East Asia, most of these roles are grouped under the title of data scientist. Nonetheless, regional tech unicorns such as Grab, Shopee, and Traveloka have large enough teams that may require such specialized roles. Chinese giants (e.g., Alibaba, Baidu, Tencent) will also have these different roles.\n",
      "If you’re thinking of splitting the data scientist role into distinct specializations, please also consider the benefits of having data scientists be more end-to-end.\n",
      "The Internet doesn’t care about your title.\n",
      "What if we’re performing the role of a <more prestigious title> but have a <less prestigious title>? Before we change jobs to upgrade titles, or accept a poorer offer with a better title, we should remind ourselves that it’s just a title. In the long run, focusing on deliverables expected and skills required will lead to better fit and job satisfaction.\n",
      "P.S., But what if the role doesn’t match our skills and aspirations, like this guy? We’ll discuss that here.\n",
      "What's the difference between data, applied, and research scientists? What about machine learning engineers?In this piece, we discuss:• The various goals, skills, and deliverables• How data scientists \"became\" analysts• Implications for the field https://t.co/ZWZ9pbIz5E\n",
      "Thanks to Yang Xinyi, Alexandra Macqueen, and Michell C. Clark for reading drafts of this. | URL: https://eugeneyan.com/writing/data-science-roles/\n",
      "2023-04-03 09:41:00,975 - Content: And it appears to be a trend specific to the US. In South-East Asia, most of these roles are grouped under the title of data scientist. Nonetheless, regional tech unicorns such as Grab, Shopee, and Traveloka have large enough teams that may require such specialized roles. Chinese giants (e.g., Alibaba, Baidu, Tencent) will also have these different roles.\n",
      "If you’re thinking of splitting the data scientist role into distinct specializations, please also consider the benefits of having data scientists be more end-to-end.\n",
      "The Internet doesn’t care about your title.\n",
      "What if we’re performing the role of a <more prestigious title> but have a <less prestigious title>? Before we change jobs to upgrade titles, or accept a poorer offer with a better title, we should remind ourselves that it’s just a title. In the long run, focusing on deliverables expected and skills required will lead to better fit and job satisfaction.\n",
      "P.S., But what if the role doesn’t match our skills and aspirations, like this guy? We’ll discuss that here.\n",
      "What's the difference between data, applied, and research scientists? What about machine learning engineers?In this piece, we discuss:• The various goals, skills, and deliverables• How data scientists \"became\" analysts• Implications for the field https://t.co/ZWZ9pbIz5E\n",
      "Thanks to Yang Xinyi, Alexandra Macqueen, and Michell C. Clark for reading drafts of this. | URL: https://eugeneyan.com/writing/data-science-roles/\n",
      "2023-04-03 09:41:01,257 - Content: Do the due diligence before accepting the job offer; this is the best way to prevent a role or title mismatch. Ask the right questions, contact future teammates, read the job reviews.\n",
      "If you find yourself in the wrong role, assess if it’s temporary and how much is within your control. Focus on what you can control (it’s healthier this way). Reframe your mindset, find opportunities for 20% time projects, and do self-learning and projects in your free time.\n",
      "Overall, if you’re doing meaningful, high impact work, learning lots, and have great peers, don’t let the title weigh you down. It’s just a title—your competencies, results, and job satisfaction matter much more.\n",
      "Last week, we discussed roles in data science & ML.This week, we discuss:• How not to get into the wrong role• What if we have the right role, but wrong title• What if we have the wrong role• What if we're changing jobs, but to a \"lesser\" title https://t.co/lporgUPN8j\n",
      "Thanks to Yang Xinyi for reading drafts of this. | URL: https://eugeneyan.com/writing/role-title-mismatch/\n",
      "2023-04-03 09:41:01,481 - Content: I also get a lot of questions on LinkedIn, Twitter, email, Quora. I try to answer these questions, but it doesn’t scale. That was another reason I started the community slack. People can ask these questions in public, and we can answer them. Maybe if I start by showing an example, more people can help with the questions?\n",
      "The community also hosts meetups. One reason why I do this, is sometimes I want to talk at a conference, I submit a great proposal, and I’m rejected (laughs).\n",
      "It’s disappointing, and I think, why do I have to submit a proposal? Why do I need a conference? Can’t I just talk about it myself? And this is how it happened, maybe I can just host meetups.\n",
      "Also, a friend asked, do you know of a place where I can give a talk? Why yes I do! This was the SageMaker event that you attended. It was our first talk.\n",
      "Eugene: Currently, Alexey hosts one talk a week. I don’t know how he keeps up with the cadence, but it’s a great time to join datatalks.club.\n",
      "This was a great chat, thanks Alexey. I’ll share the videos on YouTube and write this up.\n",
      "This week, we chat with @Al_Grigor, lead data scientist @ OLX Group.He started as a Java dev, did a Master's in BI, then in a single interview, got his first DS role.I asked about his experience, thought process, and advice for new data scientists. https://t.co/8oDiVYqGJQ\n",
      "Thanks to Alexey Grigorev for the interview. Thanks to Yang Xinyi and Alexey Grigorev for reading drafts of this. | URL: https://eugeneyan.com/writing/informal-mentors-alexey-grigorev/\n",
      "2023-04-03 09:41:01,750 - Content: You might ask, how do I find time for all these questions, especially if I only have time for questions in the last 5 - 10 minutes of each interview?\n",
      "First, you don’t have to ask all the questions—focus on what’s important to you. It’s hard to find a role that doesn’t have any red flags and has great compensation, work-life balance, etc.; so manage your expectations.\n",
      "Second, you can ask for follow-up chats with the hiring manager, and another member of the team, where you can reverse interview them. There’s little to lose from this request and what you learn can either help you dodge a bullet or set you up for success in your new role.\n",
      "Thanks to Yang Xinyi for reading drafts of this. | URL: https://eugeneyan.com/writing/red-flags/\n",
      "2023-04-03 09:41:01,861 - Content: This thinking explains my inclination towards scrum and time-boxing for data science. Each sprint delivers milestones that we can bring to stakeholders and/or customers to get their feedback on. We want to be like stochastic gradient descent (i.e., incremental deliverables) rather than batch gradient descent (i.e., Big Bang integration).\n",
      "We also foster discipline through the standards we uphold (or tolerate). For example, we should have objective standards for linting, type checks, and functional tests. Another way is to actively share examples of great work (e.g., documents, deliverables) that meet and surpass our standards, so we have ideals to aspire towards.\n",
      "While such standards can seem stifling, they provide more freedom in the medium-to-long term. Consistent processes and standards let us focus on the work that matters (instead of constantly reinventing processes or templates). And because everyone adopts the same standards, it’s much easier to understand and provide feedback on projects across the entire team, as well as fluidly move between projects as required. | URL: https://eugeneyan.com/writing/data-science-teams/\n",
      "2023-04-03 09:41:02,053 - Content: This metaphor also helps with other questions.\n",
      "“I have two offers. One is a pre-Series A start-up, another from FAANGMULA. Which should I accept?”\n",
      "“There’s a new team set up to work on project X. It seems like a long shot but the idea’s innovative and high potential—should I join them?”\n",
      "There’s no one correct answer to those questions. Your answer also changes with your stage in life. Nonetheless, I’ve found thinking about Commando, Soldier, Police to help guide my decisions. I enjoy being in a commando-soldier role—innovating and building things from scratch and then scaling it for high impact.\n",
      "Paul Jarvis, author of Company of One, also wrote about a similar paradigm: Starters and Operators. (Paul identifies with being a Starter). He shares his decision to sell a product as the support cost had gotten too high, and he didn’t want to manage a support team.\n",
      "What other approaches have you found helpful in thinking over career choices? Reach out via Twitter (@eugeneyan) or share in the comments below!\n",
      "Thanks to Xinyi Yang, Gabriel Chuan, and Marianne Tan for reading drafts of this. | URL: https://eugeneyan.com/writing/commando-soldier-police-and-your-career/\n",
      "2023-04-03 09:41:02,528 - Content: This metaphor also helps with other questions.\n",
      "“I have two offers. One is a pre-Series A start-up, another from FAANGMULA. Which should I accept?”\n",
      "“There’s a new team set up to work on project X. It seems like a long shot but the idea’s innovative and high potential—should I join them?”\n",
      "There’s no one correct answer to those questions. Your answer also changes with your stage in life. Nonetheless, I’ve found thinking about Commando, Soldier, Police to help guide my decisions. I enjoy being in a commando-soldier role—innovating and building things from scratch and then scaling it for high impact.\n",
      "Paul Jarvis, author of Company of One, also wrote about a similar paradigm: Starters and Operators. (Paul identifies with being a Starter). He shares his decision to sell a product as the support cost had gotten too high, and he didn’t want to manage a support team.\n",
      "What other approaches have you found helpful in thinking over career choices? Reach out via Twitter (@eugeneyan) or share in the comments below!\n",
      "Thanks to Xinyi Yang, Gabriel Chuan, and Marianne Tan for reading drafts of this. | URL: https://eugeneyan.com/writing/commando-soldier-police-and-your-career/\n",
      "2023-04-03 09:41:02,663 - Content: Often, we learn a lot of theory and knowledge in a course but it fades away as we don’t apply it. Since the course, I’ve consciously been applying the learnings, from providing suggestions on visual interfaces developed, iterating with users on data and machine learning products, and using the frameworks learnt to better understand the gaps between the user and the interface. Hopefully, this helps me design better products and interfaces for users, with lower barriers for adoption—this was my key motivation for taking the course anyway. | URL: https://eugeneyan.com/writing/omscs-cs6750-human-computer-interaction/\n",
      "2023-04-03 09:41:02,836 - Content: Spark+AI Summit 2020 was epic. Some great talks👇:Improving Broadcast Joins In Apache Spark (25 June)• broadcastHashJoin is not always faster; building hashtable has overhead• More cores: sortMergeJoin performs better• Bigger left table: broadcastHashJoin performs better\n",
      "P.S., Are there any good sessions I missed? Let me know in the comments below =) | URL: https://eugeneyan.com/writing/notes-from-sparkai-summit-application-agnostic/\n",
      "2023-04-03 09:41:03,008 - Content: I also get a lot of questions on LinkedIn, Twitter, email, Quora. I try to answer these questions, but it doesn’t scale. That was another reason I started the community slack. People can ask these questions in public, and we can answer them. Maybe if I start by showing an example, more people can help with the questions?\n",
      "The community also hosts meetups. One reason why I do this, is sometimes I want to talk at a conference, I submit a great proposal, and I’m rejected (laughs).\n",
      "It’s disappointing, and I think, why do I have to submit a proposal? Why do I need a conference? Can’t I just talk about it myself? And this is how it happened, maybe I can just host meetups.\n",
      "Also, a friend asked, do you know of a place where I can give a talk? Why yes I do! This was the SageMaker event that you attended. It was our first talk.\n",
      "Eugene: Currently, Alexey hosts one talk a week. I don’t know how he keeps up with the cadence, but it’s a great time to join datatalks.club.\n",
      "This was a great chat, thanks Alexey. I’ll share the videos on YouTube and write this up.\n",
      "This week, we chat with @Al_Grigor, lead data scientist @ OLX Group.He started as a Java dev, did a Master's in BI, then in a single interview, got his first DS role.I asked about his experience, thought process, and advice for new data scientists. https://t.co/8oDiVYqGJQ\n",
      "Thanks to Alexey Grigorev for the interview. Thanks to Yang Xinyi and Alexey Grigorev for reading drafts of this. | URL: https://eugeneyan.com/writing/informal-mentors-alexey-grigorev/\n",
      "2023-04-03 09:41:03,341 - Content: Here’s a good question to ask ourselves: “Which would have greater impact right now?” If we need to understand and clarify the intent and context so we can start implementing, then writing a design doc will help most. If we’re struggling to meet an delivery deadline, then writing (and reviewing) code will help more.\n",
      "Writing documents is like writing code. Code is for machines; documents are for people.\n",
      "Writing documents is hard. For some, harder than writing code. And relative to writing code, the impact of writing documents is not as immediately measurable. But if it helps provide clarity, or save the team time, then it’s well worth the effort. (If you know of ways to measure the impact of writing, I would love to hear from you!)\n",
      "What advice do you have for tech professionals starting to write more? Share in the comments below.\n",
      "Why does writing become more important (than coding) as we gain seniority? How do we balance between both? How can we help the team write better?Here, I explore answers to these question with the help of some friends, including @Al_Grigor & @nlpguy_.https://t.co/foqhU5A9Rx\n",
      "Thanks to Yang Xinyi and Drew Stegmaier for reading drafts of this. Thanks to David Said, Alexey Grigorev, Pratik Bhavsar, and Grace Tang for making time to discuss on this topic. | URL: https://eugeneyan.com/writing/writing-and-coding/\n",
      "2023-04-03 09:41:03,471 - Content: With regard to computer science, I have gained much from self-learning and work experience. Nonetheless, at my current stage of development, I believe I will learn much more from a holistic and structured program at Georgia Tech. To make greater progress on my mission, I will require a deeper understanding of the fundamentals (e.g., software design, networks) and advanced topics (e.g., high-performance computing, computer vision).\n",
      "During OMS CS, I will further develop my skills in computer science and software engineering, and build scalable and high-performance systems in course projects and at work. I will also seek like-minded people with a passion in healthcare to collaborate on a side project.\n",
      "After graduating from OMS CS, I intend to join the healthcare industry, focusing on using data to improve healthcare (e.g., providing continuous diagnosis via wearables, image diagnosis through machine learning). Ideally, I will do this through my own start-up and team so I can better shape and ensure data privacy.\n",
      "The Georgia Tech OMS CS is the best fit for several reasons.\n",
      "(Excluded to prevent plagiarism)\n",
      "So there you have it. I’ll have to figure out how to continue building datagene.io, write, and study at the same time. Please do share your stories on how you studied part time and managed your time effectively. | URL: https://eugeneyan.com/writing/im-going-back-to-school/\n",
      "2023-04-03 09:41:03,577 - Content: And it appears to be a trend specific to the US. In South-East Asia, most of these roles are grouped under the title of data scientist. Nonetheless, regional tech unicorns such as Grab, Shopee, and Traveloka have large enough teams that may require such specialized roles. Chinese giants (e.g., Alibaba, Baidu, Tencent) will also have these different roles.\n",
      "If you’re thinking of splitting the data scientist role into distinct specializations, please also consider the benefits of having data scientists be more end-to-end.\n",
      "The Internet doesn’t care about your title.\n",
      "What if we’re performing the role of a <more prestigious title> but have a <less prestigious title>? Before we change jobs to upgrade titles, or accept a poorer offer with a better title, we should remind ourselves that it’s just a title. In the long run, focusing on deliverables expected and skills required will lead to better fit and job satisfaction.\n",
      "P.S., But what if the role doesn’t match our skills and aspirations, like this guy? We’ll discuss that here.\n",
      "What's the difference between data, applied, and research scientists? What about machine learning engineers?In this piece, we discuss:• The various goals, skills, and deliverables• How data scientists \"became\" analysts• Implications for the field https://t.co/ZWZ9pbIz5E\n",
      "Thanks to Yang Xinyi, Alexandra Macqueen, and Michell C. Clark for reading drafts of this. | URL: https://eugeneyan.com/writing/data-science-roles/\n",
      "2023-04-03 09:41:03,719 - Content: And it appears to be a trend specific to the US. In South-East Asia, most of these roles are grouped under the title of data scientist. Nonetheless, regional tech unicorns such as Grab, Shopee, and Traveloka have large enough teams that may require such specialized roles. Chinese giants (e.g., Alibaba, Baidu, Tencent) will also have these different roles.\n",
      "If you’re thinking of splitting the data scientist role into distinct specializations, please also consider the benefits of having data scientists be more end-to-end.\n",
      "The Internet doesn’t care about your title.\n",
      "What if we’re performing the role of a <more prestigious title> but have a <less prestigious title>? Before we change jobs to upgrade titles, or accept a poorer offer with a better title, we should remind ourselves that it’s just a title. In the long run, focusing on deliverables expected and skills required will lead to better fit and job satisfaction.\n",
      "P.S., But what if the role doesn’t match our skills and aspirations, like this guy? We’ll discuss that here.\n",
      "What's the difference between data, applied, and research scientists? What about machine learning engineers?In this piece, we discuss:• The various goals, skills, and deliverables• How data scientists \"became\" analysts• Implications for the field https://t.co/ZWZ9pbIz5E\n",
      "Thanks to Yang Xinyi, Alexandra Macqueen, and Michell C. Clark for reading drafts of this. | URL: https://eugeneyan.com/writing/data-science-roles/\n",
      "2023-04-03 09:41:04,372 - Content: And it appears to be a trend specific to the US. In South-East Asia, most of these roles are grouped under the title of data scientist. Nonetheless, regional tech unicorns such as Grab, Shopee, and Traveloka have large enough teams that may require such specialized roles. Chinese giants (e.g., Alibaba, Baidu, Tencent) will also have these different roles.\n",
      "If you’re thinking of splitting the data scientist role into distinct specializations, please also consider the benefits of having data scientists be more end-to-end.\n",
      "The Internet doesn’t care about your title.\n",
      "What if we’re performing the role of a <more prestigious title> but have a <less prestigious title>? Before we change jobs to upgrade titles, or accept a poorer offer with a better title, we should remind ourselves that it’s just a title. In the long run, focusing on deliverables expected and skills required will lead to better fit and job satisfaction.\n",
      "P.S., But what if the role doesn’t match our skills and aspirations, like this guy? We’ll discuss that here.\n",
      "What's the difference between data, applied, and research scientists? What about machine learning engineers?In this piece, we discuss:• The various goals, skills, and deliverables• How data scientists \"became\" analysts• Implications for the field https://t.co/ZWZ9pbIz5E\n",
      "Thanks to Yang Xinyi, Alexandra Macqueen, and Michell C. Clark for reading drafts of this. | URL: https://eugeneyan.com/writing/data-science-roles/\n",
      "2023-04-03 09:41:04,485 - Content: Non-positive & incremental: Sometimes, we make multiple small changes that add no value but exponentially increase complexity. Can lead to “death by a thousand cuts”.\n",
      "Positive & disruptive: This includes building new systems or adopting ML breakthroughs that results in positive value within the short to medium-term. A no-brainer.\n",
      "Non-positive & disruptive: This requires more thought. Are we building new capabilities that multiply the team’s output, or it is a learning exercise to unlock higher-value problems? Or is it a pitfall of resume-driven development or following the HiPPO’s opinion? Thread carefully.\n",
      "Like most 2 x 2s, this is oversimplifying the real-world. Nonetheless, I hope you’ll find the concepts discussed—cost-benefit analysis, capabilities, learning exercise, incremental vs. disruptive changes—useful when choosing and prioritizing your data science and machine learning problems. Have any feedback? Let me know at @eugeneyan!\n",
      "How to choose machine learning problems?• Quantify costs & benefits• Focus on capabilities that multiply output• Do exercises that unlock higher-value problems• Avoid resume driven development & pet projs• Trade off incremental vs. disruptivehttps://t.co/Md359mVmC3\n",
      "Thanks to Yang Xinyi for reading drafts of this. | URL: https://eugeneyan.com/writing/how-to-choose-problems/\n",
      "2023-04-03 09:41:04,765 - Content: Instead, I’m trying to convince that end-to-end visibility, cohesion (i.e., reverse Conway’s Law), and ownership leads to better outcomes. Although visibility should be paired with ability to make an impact, for a start, its sufficient to be able to use the tools without being able to set it up yourself. The effective data scientists I know are power users of their tools even without being able to set it up from scratch (though I’m sure they can pick it up fast).\n",
      "You don’t have to be able to build a plane, runway, or airport to be a pilot.\n",
      "Thanks to Yang Xinyi for reading drafts of this, and to Basil Han and @gSajko for suggesting bug fixes. | URL: https://eugeneyan.com/writing/end-to-end-data-science/\n",
      "2023-04-03 09:41:04,905 - Content: Non-positive & incremental: Sometimes, we make multiple small changes that add no value but exponentially increase complexity. Can lead to “death by a thousand cuts”.\n",
      "Positive & disruptive: This includes building new systems or adopting ML breakthroughs that results in positive value within the short to medium-term. A no-brainer.\n",
      "Non-positive & disruptive: This requires more thought. Are we building new capabilities that multiply the team’s output, or it is a learning exercise to unlock higher-value problems? Or is it a pitfall of resume-driven development or following the HiPPO’s opinion? Thread carefully.\n",
      "Like most 2 x 2s, this is oversimplifying the real-world. Nonetheless, I hope you’ll find the concepts discussed—cost-benefit analysis, capabilities, learning exercise, incremental vs. disruptive changes—useful when choosing and prioritizing your data science and machine learning problems. Have any feedback? Let me know at @eugeneyan!\n",
      "How to choose machine learning problems?• Quantify costs & benefits• Focus on capabilities that multiply output• Do exercises that unlock higher-value problems• Avoid resume driven development & pet projs• Trade off incremental vs. disruptivehttps://t.co/Md359mVmC3\n",
      "Thanks to Yang Xinyi for reading drafts of this. | URL: https://eugeneyan.com/writing/how-to-choose-problems/\n",
      "2023-04-03 09:41:05,034 - Content: Instead, I’m trying to convince that end-to-end visibility, cohesion (i.e., reverse Conway’s Law), and ownership leads to better outcomes. Although visibility should be paired with ability to make an impact, for a start, its sufficient to be able to use the tools without being able to set it up yourself. The effective data scientists I know are power users of their tools even without being able to set it up from scratch (though I’m sure they can pick it up fast).\n",
      "You don’t have to be able to build a plane, runway, or airport to be a pilot.\n",
      "Thanks to Yang Xinyi for reading drafts of this, and to Basil Han and @gSajko for suggesting bug fixes. | URL: https://eugeneyan.com/writing/end-to-end-data-science/\n",
      "2023-04-03 09:41:05,164 - Content: I also get a lot of questions on LinkedIn, Twitter, email, Quora. I try to answer these questions, but it doesn’t scale. That was another reason I started the community slack. People can ask these questions in public, and we can answer them. Maybe if I start by showing an example, more people can help with the questions?\n",
      "The community also hosts meetups. One reason why I do this, is sometimes I want to talk at a conference, I submit a great proposal, and I’m rejected (laughs).\n",
      "It’s disappointing, and I think, why do I have to submit a proposal? Why do I need a conference? Can’t I just talk about it myself? And this is how it happened, maybe I can just host meetups.\n",
      "Also, a friend asked, do you know of a place where I can give a talk? Why yes I do! This was the SageMaker event that you attended. It was our first talk.\n",
      "Eugene: Currently, Alexey hosts one talk a week. I don’t know how he keeps up with the cadence, but it’s a great time to join datatalks.club.\n",
      "This was a great chat, thanks Alexey. I’ll share the videos on YouTube and write this up.\n",
      "This week, we chat with @Al_Grigor, lead data scientist @ OLX Group.He started as a Java dev, did a Master's in BI, then in a single interview, got his first DS role.I asked about his experience, thought process, and advice for new data scientists. https://t.co/8oDiVYqGJQ\n",
      "Thanks to Alexey Grigorev for the interview. Thanks to Yang Xinyi and Alexey Grigorev for reading drafts of this. | URL: https://eugeneyan.com/writing/informal-mentors-alexey-grigorev/\n",
      "2023-04-03 09:41:05,422 - Content: To understand my superpowers (and weaknesses), I’m consistently asking people for feedback. I also reflect on past work reviews (e.g., Amazon’s annual review has a specific section for superpowers) and the LinkedIn recommendations others wrote for me. This led to five superpowers:\n",
      "With these values and superpowers in mind, I deliberately sought roles (including my current role) that have elements of the following:\n",
      "A typical career spans decades; most people take ~10 years figuring out what to do & getting better at it.To decide what to do, its helpful to understand our:• Values: What matters most to us• Superpowers: What we do better than 95% of peoplehttps://t.co/soz2HID7ht\n",
      "Thanks to Yang Xinyi for reading drafts of this. | URL: https://eugeneyan.com/writing/values-and-superpowers/\n",
      "2023-04-03 09:41:05,967 - Content: You might ask, how do I find time for all these questions, especially if I only have time for questions in the last 5 - 10 minutes of each interview?\n",
      "First, you don’t have to ask all the questions—focus on what’s important to you. It’s hard to find a role that doesn’t have any red flags and has great compensation, work-life balance, etc.; so manage your expectations.\n",
      "Second, you can ask for follow-up chats with the hiring manager, and another member of the team, where you can reverse interview them. There’s little to lose from this request and what you learn can either help you dodge a bullet or set you up for success in your new role.\n",
      "Thanks to Yang Xinyi for reading drafts of this. | URL: https://eugeneyan.com/writing/red-flags/\n",
      "2023-04-03 09:41:06,098 - Content: I also get a lot of questions on LinkedIn, Twitter, email, Quora. I try to answer these questions, but it doesn’t scale. That was another reason I started the community slack. People can ask these questions in public, and we can answer them. Maybe if I start by showing an example, more people can help with the questions?\n",
      "The community also hosts meetups. One reason why I do this, is sometimes I want to talk at a conference, I submit a great proposal, and I’m rejected (laughs).\n",
      "It’s disappointing, and I think, why do I have to submit a proposal? Why do I need a conference? Can’t I just talk about it myself? And this is how it happened, maybe I can just host meetups.\n",
      "Also, a friend asked, do you know of a place where I can give a talk? Why yes I do! This was the SageMaker event that you attended. It was our first talk.\n",
      "Eugene: Currently, Alexey hosts one talk a week. I don’t know how he keeps up with the cadence, but it’s a great time to join datatalks.club.\n",
      "This was a great chat, thanks Alexey. I’ll share the videos on YouTube and write this up.\n",
      "This week, we chat with @Al_Grigor, lead data scientist @ OLX Group.He started as a Java dev, did a Master's in BI, then in a single interview, got his first DS role.I asked about his experience, thought process, and advice for new data scientists. https://t.co/8oDiVYqGJQ\n",
      "Thanks to Alexey Grigorev for the interview. Thanks to Yang Xinyi and Alexey Grigorev for reading drafts of this. | URL: https://eugeneyan.com/writing/informal-mentors-alexey-grigorev/\n",
      "2023-04-03 09:41:06,232 - Content: This metaphor also helps with other questions.\n",
      "“I have two offers. One is a pre-Series A start-up, another from FAANGMULA. Which should I accept?”\n",
      "“There’s a new team set up to work on project X. It seems like a long shot but the idea’s innovative and high potential—should I join them?”\n",
      "There’s no one correct answer to those questions. Your answer also changes with your stage in life. Nonetheless, I’ve found thinking about Commando, Soldier, Police to help guide my decisions. I enjoy being in a commando-soldier role—innovating and building things from scratch and then scaling it for high impact.\n",
      "Paul Jarvis, author of Company of One, also wrote about a similar paradigm: Starters and Operators. (Paul identifies with being a Starter). He shares his decision to sell a product as the support cost had gotten too high, and he didn’t want to manage a support team.\n",
      "What other approaches have you found helpful in thinking over career choices? Reach out via Twitter (@eugeneyan) or share in the comments below!\n",
      "Thanks to Xinyi Yang, Gabriel Chuan, and Marianne Tan for reading drafts of this. | URL: https://eugeneyan.com/writing/commando-soldier-police-and-your-career/\n",
      "2023-04-03 09:41:06,467 - Content: To understand my superpowers (and weaknesses), I’m consistently asking people for feedback. I also reflect on past work reviews (e.g., Amazon’s annual review has a specific section for superpowers) and the LinkedIn recommendations others wrote for me. This led to five superpowers:\n",
      "With these values and superpowers in mind, I deliberately sought roles (including my current role) that have elements of the following:\n",
      "A typical career spans decades; most people take ~10 years figuring out what to do & getting better at it.To decide what to do, its helpful to understand our:• Values: What matters most to us• Superpowers: What we do better than 95% of peoplehttps://t.co/soz2HID7ht\n",
      "Thanks to Yang Xinyi for reading drafts of this. | URL: https://eugeneyan.com/writing/values-and-superpowers/\n",
      "2023-04-03 09:41:06,576 - Content: Non-positive & incremental: Sometimes, we make multiple small changes that add no value but exponentially increase complexity. Can lead to “death by a thousand cuts”.\n",
      "Positive & disruptive: This includes building new systems or adopting ML breakthroughs that results in positive value within the short to medium-term. A no-brainer.\n",
      "Non-positive & disruptive: This requires more thought. Are we building new capabilities that multiply the team’s output, or it is a learning exercise to unlock higher-value problems? Or is it a pitfall of resume-driven development or following the HiPPO’s opinion? Thread carefully.\n",
      "Like most 2 x 2s, this is oversimplifying the real-world. Nonetheless, I hope you’ll find the concepts discussed—cost-benefit analysis, capabilities, learning exercise, incremental vs. disruptive changes—useful when choosing and prioritizing your data science and machine learning problems. Have any feedback? Let me know at @eugeneyan!\n",
      "How to choose machine learning problems?• Quantify costs & benefits• Focus on capabilities that multiply output• Do exercises that unlock higher-value problems• Avoid resume driven development & pet projs• Trade off incremental vs. disruptivehttps://t.co/Md359mVmC3\n",
      "Thanks to Yang Xinyi for reading drafts of this. | URL: https://eugeneyan.com/writing/how-to-choose-problems/\n",
      "2023-04-03 09:41:06,688 - Content: I’m excited to learn further how reinforcement learning can help with understanding and predicting human behavior better, especially behavior that has a temporal aspect (e.g., customer journey on a website, a person’s health over time, etc). Hopefully I will be able to find useful use cases to apply them at work.\n",
      "In addition, there’re plenty of excellent resources available online for further learning, such as: | URL: https://eugeneyan.com/writing/omscs-cs7642-reinforcement-learning/\n",
      "2023-04-03 09:41:06,865 - Content: Do you know of other industrial implementations of bandit-based recommendation systems? Please share them in the comments below! | URL: https://eugeneyan.com/writing/bandits/\n",
      "2023-04-03 09:41:06,992 - Content: Do you know of other industrial implementations of bandit-based recommendation systems? Please share them in the comments below! | URL: https://eugeneyan.com/writing/bandits/\n",
      "2023-04-03 09:41:07,093 - Content: That was a whirlwind tour of the various patterns for personalization in recommendations and search. These patterns are not exhaustive. I’ve also come across papers that add multi-interest heads and learn interest hierarchies on top of user interests, as well as approaches to model user interest across domains. When to use which? Here’s a rough heuristic:\n",
      "If you’re starting with personalization, good ol’ logistic regression with crossed features is a tough baseline to beat. If you’re building a real-time recommender (i.e., generates recs on request), learning item embeddings via word2vec and applying approximate nearest neighbors is pretty lean and gets much of the juice from session-level behavioral data.\n",
      "Did I miss any useful patterns for personalization? Please reach out and let me know.\n",
      "What are the various patterns for personalizing recommendations and search? I dug into a couple of industry papers/blogs and summarized them into bandits, item embeddings + MLP, sequential models, graphs, and user embeddings.https://t.co/Qm3kScpXZA | URL: https://eugeneyan.com/writing/patterns-for-personalization/\n",
      "2023-04-03 09:41:07,518 - Content: Are you trying to apply reinforcement learning for recommendation problems? If so, contextual bandits might be a good place to start—they’re relatively simpler to implement and might not need as much data as deep learning approaches. Beyond contextual bandits, DQNs seem to be the go-to baseline.\n",
      "Nonetheless, regardless of which approach you adopt, pay extra attention to how off-policy evaluation is done—having the right evaluation framework is more than half the battle won. Here’s a good tutorial on counterfactual evaluation. Also, see this paper on Simpson’s Paradox in offline evaluation for recommendations.\n",
      "Did I miss anything? Please reach out!\n",
      "Conventional RecSys have downsides such as:• Maxing short-term (clicks) over long-term reward• Overemphasizing item popularity and not exploring• Can't keep up with frequent new items (news, TikTok)Let's explore how reinforcement learning can help.https://t.co/DfZamMhOfd | URL: https://eugeneyan.com/writing/reinforcement-learning-for-recsys-and-search/\n",
      "2023-04-03 09:41:07,623 - Content: Are you trying to apply reinforcement learning for recommendation problems? If so, contextual bandits might be a good place to start—they’re relatively simpler to implement and might not need as much data as deep learning approaches. Beyond contextual bandits, DQNs seem to be the go-to baseline.\n",
      "Nonetheless, regardless of which approach you adopt, pay extra attention to how off-policy evaluation is done—having the right evaluation framework is more than half the battle won. Here’s a good tutorial on counterfactual evaluation. Also, see this paper on Simpson’s Paradox in offline evaluation for recommendations.\n",
      "Did I miss anything? Please reach out!\n",
      "Conventional RecSys have downsides such as:• Maxing short-term (clicks) over long-term reward• Overemphasizing item popularity and not exploring• Can't keep up with frequent new items (news, TikTok)Let's explore how reinforcement learning can help.https://t.co/DfZamMhOfd | URL: https://eugeneyan.com/writing/reinforcement-learning-for-recsys-and-search/\n",
      "2023-04-03 09:41:07,914 - Content: Do you know of other industrial implementations of bandit-based recommendation systems? Please share them in the comments below! | URL: https://eugeneyan.com/writing/bandits/\n",
      "2023-04-03 09:41:08,048 - Content: Do you know of other industrial implementations of bandit-based recommendation systems? Please share them in the comments below! | URL: https://eugeneyan.com/writing/bandits/\n",
      "2023-04-03 09:41:08,276 - Content: That was a whirlwind tour of the various patterns for personalization in recommendations and search. These patterns are not exhaustive. I’ve also come across papers that add multi-interest heads and learn interest hierarchies on top of user interests, as well as approaches to model user interest across domains. When to use which? Here’s a rough heuristic:\n",
      "If you’re starting with personalization, good ol’ logistic regression with crossed features is a tough baseline to beat. If you’re building a real-time recommender (i.e., generates recs on request), learning item embeddings via word2vec and applying approximate nearest neighbors is pretty lean and gets much of the juice from session-level behavioral data.\n",
      "Did I miss any useful patterns for personalization? Please reach out and let me know.\n",
      "What are the various patterns for personalizing recommendations and search? I dug into a couple of industry papers/blogs and summarized them into bandits, item embeddings + MLP, sequential models, graphs, and user embeddings.https://t.co/Qm3kScpXZA | URL: https://eugeneyan.com/writing/patterns-for-personalization/\n",
      "2023-04-03 09:41:08,564 - Content: Are you trying to apply reinforcement learning for recommendation problems? If so, contextual bandits might be a good place to start—they’re relatively simpler to implement and might not need as much data as deep learning approaches. Beyond contextual bandits, DQNs seem to be the go-to baseline.\n",
      "Nonetheless, regardless of which approach you adopt, pay extra attention to how off-policy evaluation is done—having the right evaluation framework is more than half the battle won. Here’s a good tutorial on counterfactual evaluation. Also, see this paper on Simpson’s Paradox in offline evaluation for recommendations.\n",
      "Did I miss anything? Please reach out!\n",
      "Conventional RecSys have downsides such as:• Maxing short-term (clicks) over long-term reward• Overemphasizing item popularity and not exploring• Can't keep up with frequent new items (news, TikTok)Let's explore how reinforcement learning can help.https://t.co/DfZamMhOfd | URL: https://eugeneyan.com/writing/reinforcement-learning-for-recsys-and-search/\n",
      "2023-04-03 09:41:08,721 - Content: Are you trying to apply reinforcement learning for recommendation problems? If so, contextual bandits might be a good place to start—they’re relatively simpler to implement and might not need as much data as deep learning approaches. Beyond contextual bandits, DQNs seem to be the go-to baseline.\n",
      "Nonetheless, regardless of which approach you adopt, pay extra attention to how off-policy evaluation is done—having the right evaluation framework is more than half the battle won. Here’s a good tutorial on counterfactual evaluation. Also, see this paper on Simpson’s Paradox in offline evaluation for recommendations.\n",
      "Did I miss anything? Please reach out!\n",
      "Conventional RecSys have downsides such as:• Maxing short-term (clicks) over long-term reward• Overemphasizing item popularity and not exploring• Can't keep up with frequent new items (news, TikTok)Let's explore how reinforcement learning can help.https://t.co/DfZamMhOfd | URL: https://eugeneyan.com/writing/reinforcement-learning-for-recsys-and-search/\n",
      "2023-04-03 09:41:08,825 - Content: Do you know of other industrial implementations of bandit-based recommendation systems? Please share them in the comments below! | URL: https://eugeneyan.com/writing/bandits/\n",
      "2023-04-03 09:41:08,954 - Content: Do you know of other industrial implementations of bandit-based recommendation systems? Please share them in the comments below! | URL: https://eugeneyan.com/writing/bandits/\n",
      "2023-04-03 09:41:09,087 - Content: Are you trying to apply reinforcement learning for recommendation problems? If so, contextual bandits might be a good place to start—they’re relatively simpler to implement and might not need as much data as deep learning approaches. Beyond contextual bandits, DQNs seem to be the go-to baseline.\n",
      "Nonetheless, regardless of which approach you adopt, pay extra attention to how off-policy evaluation is done—having the right evaluation framework is more than half the battle won. Here’s a good tutorial on counterfactual evaluation. Also, see this paper on Simpson’s Paradox in offline evaluation for recommendations.\n",
      "Did I miss anything? Please reach out!\n",
      "Conventional RecSys have downsides such as:• Maxing short-term (clicks) over long-term reward• Overemphasizing item popularity and not exploring• Can't keep up with frequent new items (news, TikTok)Let's explore how reinforcement learning can help.https://t.co/DfZamMhOfd | URL: https://eugeneyan.com/writing/reinforcement-learning-for-recsys-and-search/\n",
      "2023-04-03 09:41:09,203 - Content: That was a whirlwind tour of the various patterns for personalization in recommendations and search. These patterns are not exhaustive. I’ve also come across papers that add multi-interest heads and learn interest hierarchies on top of user interests, as well as approaches to model user interest across domains. When to use which? Here’s a rough heuristic:\n",
      "If you’re starting with personalization, good ol’ logistic regression with crossed features is a tough baseline to beat. If you’re building a real-time recommender (i.e., generates recs on request), learning item embeddings via word2vec and applying approximate nearest neighbors is pretty lean and gets much of the juice from session-level behavioral data.\n",
      "Did I miss any useful patterns for personalization? Please reach out and let me know.\n",
      "What are the various patterns for personalizing recommendations and search? I dug into a couple of industry papers/blogs and summarized them into bandits, item embeddings + MLP, sequential models, graphs, and user embeddings.https://t.co/Qm3kScpXZA | URL: https://eugeneyan.com/writing/patterns-for-personalization/\n",
      "2023-04-03 09:41:09,613 - Content: Are you trying to apply reinforcement learning for recommendation problems? If so, contextual bandits might be a good place to start—they’re relatively simpler to implement and might not need as much data as deep learning approaches. Beyond contextual bandits, DQNs seem to be the go-to baseline.\n",
      "Nonetheless, regardless of which approach you adopt, pay extra attention to how off-policy evaluation is done—having the right evaluation framework is more than half the battle won. Here’s a good tutorial on counterfactual evaluation. Also, see this paper on Simpson’s Paradox in offline evaluation for recommendations.\n",
      "Did I miss anything? Please reach out!\n",
      "Conventional RecSys have downsides such as:• Maxing short-term (clicks) over long-term reward• Overemphasizing item popularity and not exploring• Can't keep up with frequent new items (news, TikTok)Let's explore how reinforcement learning can help.https://t.co/DfZamMhOfd | URL: https://eugeneyan.com/writing/reinforcement-learning-for-recsys-and-search/\n",
      "2023-04-03 09:41:09,852 - Content: Do you know of other industrial implementations of bandit-based recommendation systems? Please share them in the comments below! | URL: https://eugeneyan.com/writing/bandits/\n",
      "2023-04-03 09:41:10,335 - Content: That was a whirlwind tour of the various patterns for personalization in recommendations and search. These patterns are not exhaustive. I’ve also come across papers that add multi-interest heads and learn interest hierarchies on top of user interests, as well as approaches to model user interest across domains. When to use which? Here’s a rough heuristic:\n",
      "If you’re starting with personalization, good ol’ logistic regression with crossed features is a tough baseline to beat. If you’re building a real-time recommender (i.e., generates recs on request), learning item embeddings via word2vec and applying approximate nearest neighbors is pretty lean and gets much of the juice from session-level behavioral data.\n",
      "Did I miss any useful patterns for personalization? Please reach out and let me know.\n",
      "What are the various patterns for personalizing recommendations and search? I dug into a couple of industry papers/blogs and summarized them into bandits, item embeddings + MLP, sequential models, graphs, and user embeddings.https://t.co/Qm3kScpXZA | URL: https://eugeneyan.com/writing/patterns-for-personalization/\n",
      "2023-04-03 09:41:10,857 - Content: Do you know of other industrial implementations of bandit-based recommendation systems? Please share them in the comments below! | URL: https://eugeneyan.com/writing/bandits/\n",
      "2023-04-03 09:41:11,056 - Content: Are you trying to apply reinforcement learning for recommendation problems? If so, contextual bandits might be a good place to start—they’re relatively simpler to implement and might not need as much data as deep learning approaches. Beyond contextual bandits, DQNs seem to be the go-to baseline.\n",
      "Nonetheless, regardless of which approach you adopt, pay extra attention to how off-policy evaluation is done—having the right evaluation framework is more than half the battle won. Here’s a good tutorial on counterfactual evaluation. Also, see this paper on Simpson’s Paradox in offline evaluation for recommendations.\n",
      "Did I miss anything? Please reach out!\n",
      "Conventional RecSys have downsides such as:• Maxing short-term (clicks) over long-term reward• Overemphasizing item popularity and not exploring• Can't keep up with frequent new items (news, TikTok)Let's explore how reinforcement learning can help.https://t.co/DfZamMhOfd | URL: https://eugeneyan.com/writing/reinforcement-learning-for-recsys-and-search/\n",
      "2023-04-03 09:41:11,214 - Content: Are you trying to apply reinforcement learning for recommendation problems? If so, contextual bandits might be a good place to start—they’re relatively simpler to implement and might not need as much data as deep learning approaches. Beyond contextual bandits, DQNs seem to be the go-to baseline.\n",
      "Nonetheless, regardless of which approach you adopt, pay extra attention to how off-policy evaluation is done—having the right evaluation framework is more than half the battle won. Here’s a good tutorial on counterfactual evaluation. Also, see this paper on Simpson’s Paradox in offline evaluation for recommendations.\n",
      "Did I miss anything? Please reach out!\n",
      "Conventional RecSys have downsides such as:• Maxing short-term (clicks) over long-term reward• Overemphasizing item popularity and not exploring• Can't keep up with frequent new items (news, TikTok)Let's explore how reinforcement learning can help.https://t.co/DfZamMhOfd | URL: https://eugeneyan.com/writing/reinforcement-learning-for-recsys-and-search/\n",
      "2023-04-03 09:41:11,417 - Content: Do you know of other industrial implementations of bandit-based recommendation systems? Please share them in the comments below! | URL: https://eugeneyan.com/writing/bandits/\n",
      "2023-04-03 09:41:11,710 - Content: Do you know of other industrial implementations of bandit-based recommendation systems? Please share them in the comments below! | URL: https://eugeneyan.com/writing/bandits/\n",
      "2023-04-03 09:41:11,877 - Content: That was a whirlwind tour of the various patterns for personalization in recommendations and search. These patterns are not exhaustive. I’ve also come across papers that add multi-interest heads and learn interest hierarchies on top of user interests, as well as approaches to model user interest across domains. When to use which? Here’s a rough heuristic:\n",
      "If you’re starting with personalization, good ol’ logistic regression with crossed features is a tough baseline to beat. If you’re building a real-time recommender (i.e., generates recs on request), learning item embeddings via word2vec and applying approximate nearest neighbors is pretty lean and gets much of the juice from session-level behavioral data.\n",
      "Did I miss any useful patterns for personalization? Please reach out and let me know.\n",
      "What are the various patterns for personalizing recommendations and search? I dug into a couple of industry papers/blogs and summarized them into bandits, item embeddings + MLP, sequential models, graphs, and user embeddings.https://t.co/Qm3kScpXZA | URL: https://eugeneyan.com/writing/patterns-for-personalization/\n",
      "2023-04-03 09:41:12,101 - Content: Are you trying to apply reinforcement learning for recommendation problems? If so, contextual bandits might be a good place to start—they’re relatively simpler to implement and might not need as much data as deep learning approaches. Beyond contextual bandits, DQNs seem to be the go-to baseline.\n",
      "Nonetheless, regardless of which approach you adopt, pay extra attention to how off-policy evaluation is done—having the right evaluation framework is more than half the battle won. Here’s a good tutorial on counterfactual evaluation. Also, see this paper on Simpson’s Paradox in offline evaluation for recommendations.\n",
      "Did I miss anything? Please reach out!\n",
      "Conventional RecSys have downsides such as:• Maxing short-term (clicks) over long-term reward• Overemphasizing item popularity and not exploring• Can't keep up with frequent new items (news, TikTok)Let's explore how reinforcement learning can help.https://t.co/DfZamMhOfd | URL: https://eugeneyan.com/writing/reinforcement-learning-for-recsys-and-search/\n",
      "2023-04-03 09:41:12,233 - Content: Are you trying to apply reinforcement learning for recommendation problems? If so, contextual bandits might be a good place to start—they’re relatively simpler to implement and might not need as much data as deep learning approaches. Beyond contextual bandits, DQNs seem to be the go-to baseline.\n",
      "Nonetheless, regardless of which approach you adopt, pay extra attention to how off-policy evaluation is done—having the right evaluation framework is more than half the battle won. Here’s a good tutorial on counterfactual evaluation. Also, see this paper on Simpson’s Paradox in offline evaluation for recommendations.\n",
      "Did I miss anything? Please reach out!\n",
      "Conventional RecSys have downsides such as:• Maxing short-term (clicks) over long-term reward• Overemphasizing item popularity and not exploring• Can't keep up with frequent new items (news, TikTok)Let's explore how reinforcement learning can help.https://t.co/DfZamMhOfd | URL: https://eugeneyan.com/writing/reinforcement-learning-for-recsys-and-search/\n",
      "2023-04-03 09:41:12,389 - Content: Do you know of other industrial implementations of bandit-based recommendation systems? Please share them in the comments below! | URL: https://eugeneyan.com/writing/bandits/\n",
      "2023-04-03 09:41:12,491 - Content: That was a whirlwind tour of the various patterns for personalization in recommendations and search. These patterns are not exhaustive. I’ve also come across papers that add multi-interest heads and learn interest hierarchies on top of user interests, as well as approaches to model user interest across domains. When to use which? Here’s a rough heuristic:\n",
      "If you’re starting with personalization, good ol’ logistic regression with crossed features is a tough baseline to beat. If you’re building a real-time recommender (i.e., generates recs on request), learning item embeddings via word2vec and applying approximate nearest neighbors is pretty lean and gets much of the juice from session-level behavioral data.\n",
      "Did I miss any useful patterns for personalization? Please reach out and let me know.\n",
      "What are the various patterns for personalizing recommendations and search? I dug into a couple of industry papers/blogs and summarized them into bandits, item embeddings + MLP, sequential models, graphs, and user embeddings.https://t.co/Qm3kScpXZA | URL: https://eugeneyan.com/writing/patterns-for-personalization/\n",
      "2023-04-03 09:41:12,761 - Content: Do you know of other industrial implementations of bandit-based recommendation systems? Please share them in the comments below! | URL: https://eugeneyan.com/writing/bandits/\n",
      "2023-04-03 09:41:13,150 - Content: Are you trying to apply reinforcement learning for recommendation problems? If so, contextual bandits might be a good place to start—they’re relatively simpler to implement and might not need as much data as deep learning approaches. Beyond contextual bandits, DQNs seem to be the go-to baseline.\n",
      "Nonetheless, regardless of which approach you adopt, pay extra attention to how off-policy evaluation is done—having the right evaluation framework is more than half the battle won. Here’s a good tutorial on counterfactual evaluation. Also, see this paper on Simpson’s Paradox in offline evaluation for recommendations.\n",
      "Did I miss anything? Please reach out!\n",
      "Conventional RecSys have downsides such as:• Maxing short-term (clicks) over long-term reward• Overemphasizing item popularity and not exploring• Can't keep up with frequent new items (news, TikTok)Let's explore how reinforcement learning can help.https://t.co/DfZamMhOfd | URL: https://eugeneyan.com/writing/reinforcement-learning-for-recsys-and-search/\n",
      "2023-04-03 09:41:13,283 - Content: Are you trying to apply reinforcement learning for recommendation problems? If so, contextual bandits might be a good place to start—they’re relatively simpler to implement and might not need as much data as deep learning approaches. Beyond contextual bandits, DQNs seem to be the go-to baseline.\n",
      "Nonetheless, regardless of which approach you adopt, pay extra attention to how off-policy evaluation is done—having the right evaluation framework is more than half the battle won. Here’s a good tutorial on counterfactual evaluation. Also, see this paper on Simpson’s Paradox in offline evaluation for recommendations.\n",
      "Did I miss anything? Please reach out!\n",
      "Conventional RecSys have downsides such as:• Maxing short-term (clicks) over long-term reward• Overemphasizing item popularity and not exploring• Can't keep up with frequent new items (news, TikTok)Let's explore how reinforcement learning can help.https://t.co/DfZamMhOfd | URL: https://eugeneyan.com/writing/reinforcement-learning-for-recsys-and-search/\n",
      "2023-04-03 09:41:13,398 - Content: Do you know of other industrial implementations of bandit-based recommendation systems? Please share them in the comments below! | URL: https://eugeneyan.com/writing/bandits/\n",
      "2023-04-03 09:41:13,507 - Content: That was a whirlwind tour of the various patterns for personalization in recommendations and search. These patterns are not exhaustive. I’ve also come across papers that add multi-interest heads and learn interest hierarchies on top of user interests, as well as approaches to model user interest across domains. When to use which? Here’s a rough heuristic:\n",
      "If you’re starting with personalization, good ol’ logistic regression with crossed features is a tough baseline to beat. If you’re building a real-time recommender (i.e., generates recs on request), learning item embeddings via word2vec and applying approximate nearest neighbors is pretty lean and gets much of the juice from session-level behavioral data.\n",
      "Did I miss any useful patterns for personalization? Please reach out and let me know.\n",
      "What are the various patterns for personalizing recommendations and search? I dug into a couple of industry papers/blogs and summarized them into bandits, item embeddings + MLP, sequential models, graphs, and user embeddings.https://t.co/Qm3kScpXZA | URL: https://eugeneyan.com/writing/patterns-for-personalization/\n",
      "2023-04-03 09:41:13,808 - Content: Do you know of other industrial implementations of bandit-based recommendation systems? Please share them in the comments below! | URL: https://eugeneyan.com/writing/bandits/\n",
      "2023-04-03 09:41:14,011 - Content: Are you trying to apply reinforcement learning for recommendation problems? If so, contextual bandits might be a good place to start—they’re relatively simpler to implement and might not need as much data as deep learning approaches. Beyond contextual bandits, DQNs seem to be the go-to baseline.\n",
      "Nonetheless, regardless of which approach you adopt, pay extra attention to how off-policy evaluation is done—having the right evaluation framework is more than half the battle won. Here’s a good tutorial on counterfactual evaluation. Also, see this paper on Simpson’s Paradox in offline evaluation for recommendations.\n",
      "Did I miss anything? Please reach out!\n",
      "Conventional RecSys have downsides such as:• Maxing short-term (clicks) over long-term reward• Overemphasizing item popularity and not exploring• Can't keep up with frequent new items (news, TikTok)Let's explore how reinforcement learning can help.https://t.co/DfZamMhOfd | URL: https://eugeneyan.com/writing/reinforcement-learning-for-recsys-and-search/\n",
      "2023-04-03 09:41:14,202 - Content: Are you trying to apply reinforcement learning for recommendation problems? If so, contextual bandits might be a good place to start—they’re relatively simpler to implement and might not need as much data as deep learning approaches. Beyond contextual bandits, DQNs seem to be the go-to baseline.\n",
      "Nonetheless, regardless of which approach you adopt, pay extra attention to how off-policy evaluation is done—having the right evaluation framework is more than half the battle won. Here’s a good tutorial on counterfactual evaluation. Also, see this paper on Simpson’s Paradox in offline evaluation for recommendations.\n",
      "Did I miss anything? Please reach out!\n",
      "Conventional RecSys have downsides such as:• Maxing short-term (clicks) over long-term reward• Overemphasizing item popularity and not exploring• Can't keep up with frequent new items (news, TikTok)Let's explore how reinforcement learning can help.https://t.co/DfZamMhOfd | URL: https://eugeneyan.com/writing/reinforcement-learning-for-recsys-and-search/\n",
      "2023-04-03 09:41:14,331 - Content: Do you know of other industrial implementations of bandit-based recommendation systems? Please share them in the comments below! | URL: https://eugeneyan.com/writing/bandits/\n",
      "2023-04-03 09:41:14,449 - Content: Do you know of other industrial implementations of bandit-based recommendation systems? Please share them in the comments below! | URL: https://eugeneyan.com/writing/bandits/\n",
      "2023-04-03 09:41:14,857 - Content: That was a whirlwind tour of the various patterns for personalization in recommendations and search. These patterns are not exhaustive. I’ve also come across papers that add multi-interest heads and learn interest hierarchies on top of user interests, as well as approaches to model user interest across domains. When to use which? Here’s a rough heuristic:\n",
      "If you’re starting with personalization, good ol’ logistic regression with crossed features is a tough baseline to beat. If you’re building a real-time recommender (i.e., generates recs on request), learning item embeddings via word2vec and applying approximate nearest neighbors is pretty lean and gets much of the juice from session-level behavioral data.\n",
      "Did I miss any useful patterns for personalization? Please reach out and let me know.\n",
      "What are the various patterns for personalizing recommendations and search? I dug into a couple of industry papers/blogs and summarized them into bandits, item embeddings + MLP, sequential models, graphs, and user embeddings.https://t.co/Qm3kScpXZA | URL: https://eugeneyan.com/writing/patterns-for-personalization/\n",
      "2023-04-03 09:41:15,051 - Content: Are you trying to apply reinforcement learning for recommendation problems? If so, contextual bandits might be a good place to start—they’re relatively simpler to implement and might not need as much data as deep learning approaches. Beyond contextual bandits, DQNs seem to be the go-to baseline.\n",
      "Nonetheless, regardless of which approach you adopt, pay extra attention to how off-policy evaluation is done—having the right evaluation framework is more than half the battle won. Here’s a good tutorial on counterfactual evaluation. Also, see this paper on Simpson’s Paradox in offline evaluation for recommendations.\n",
      "Did I miss anything? Please reach out!\n",
      "Conventional RecSys have downsides such as:• Maxing short-term (clicks) over long-term reward• Overemphasizing item popularity and not exploring• Can't keep up with frequent new items (news, TikTok)Let's explore how reinforcement learning can help.https://t.co/DfZamMhOfd | URL: https://eugeneyan.com/writing/reinforcement-learning-for-recsys-and-search/\n",
      "2023-04-03 09:41:15,246 - Content: Are you trying to apply reinforcement learning for recommendation problems? If so, contextual bandits might be a good place to start—they’re relatively simpler to implement and might not need as much data as deep learning approaches. Beyond contextual bandits, DQNs seem to be the go-to baseline.\n",
      "Nonetheless, regardless of which approach you adopt, pay extra attention to how off-policy evaluation is done—having the right evaluation framework is more than half the battle won. Here’s a good tutorial on counterfactual evaluation. Also, see this paper on Simpson’s Paradox in offline evaluation for recommendations.\n",
      "Did I miss anything? Please reach out!\n",
      "Conventional RecSys have downsides such as:• Maxing short-term (clicks) over long-term reward• Overemphasizing item popularity and not exploring• Can't keep up with frequent new items (news, TikTok)Let's explore how reinforcement learning can help.https://t.co/DfZamMhOfd | URL: https://eugeneyan.com/writing/reinforcement-learning-for-recsys-and-search/\n"
     ]
    }
   ],
   "source": [
    "content_list = []\n",
    "source_list = []\n",
    "\n",
    "for query in query_list:\n",
    "    for doc in doc_dict[query]:\n",
    "        content = doc.page_content\n",
    "        url = doc.metadata['source']\n",
    "        logger.info(f'Content: {content} | URL: {url}')\n",
    "        emb = embedding_enc.embed_query(content)\n",
    "        content_list.append((content, emb))\n",
    "        source_list.append((url, emb))"
   ]
  },
  {
   "cell_type": "code",
   "execution_count": 220,
   "metadata": {},
   "outputs": [],
   "source": [
    "content_df = pd.DataFrame(content_list, columns=['_content', 'embedding'])\n",
    "source_df = pd.DataFrame(source_list, columns=['_content', 'embedding'])\n",
    "query_df = pd.DataFrame(query_emb_list, columns=['_content', 'embedding'])"
   ]
  },
  {
   "cell_type": "code",
   "execution_count": 253,
   "metadata": {},
   "outputs": [],
   "source": [
    "content_df['content'] = 'Doc: ' + content_df['_content'].apply(lambda x: x[:50])\n",
    "source_df['content'] = 'URL: ' + source_df['_content'].apply(lambda x: x[:50])\n",
    "query_df['content'] = 'Query: ' + query_df['_content']"
   ]
  },
  {
   "cell_type": "code",
   "execution_count": 254,
   "metadata": {},
   "outputs": [
    {
     "data": {
      "text/plain": [
       "(102, 3)"
      ]
     },
     "execution_count": 254,
     "metadata": {},
     "output_type": "execute_result"
    }
   ],
   "source": [
    "df = pd.concat((content_df, query_df))\n",
    "df.shape"
   ]
  },
  {
   "cell_type": "code",
   "execution_count": 255,
   "metadata": {},
   "outputs": [
    {
     "data": {
      "text/plain": [
       "(35, 3)"
      ]
     },
     "execution_count": 255,
     "metadata": {},
     "output_type": "execute_result"
    }
   ],
   "source": [
    "df = df.drop_duplicates(subset=['content'])\n",
    "df.shape"
   ]
  },
  {
   "cell_type": "code",
   "execution_count": 256,
   "metadata": {},
   "outputs": [],
   "source": [
    "embeddings = np.vstack(df['embedding'])"
   ]
  },
  {
   "cell_type": "code",
   "execution_count": 257,
   "metadata": {},
   "outputs": [
    {
     "data": {
      "text/plain": [
       "(35, 1536)"
      ]
     },
     "execution_count": 257,
     "metadata": {},
     "output_type": "execute_result"
    }
   ],
   "source": [
    "embeddings.shape"
   ]
  },
  {
   "cell_type": "code",
   "execution_count": 258,
   "metadata": {},
   "outputs": [
    {
     "name": "stdout",
     "output_type": "stream",
     "text": [
      "[t-SNE] Computing 16 nearest neighbors...\n",
      "[t-SNE] Indexed 35 samples in 0.001s...\n",
      "[t-SNE] Computed neighbors for 35 samples in 0.001s...\n",
      "[t-SNE] Computed conditional probabilities for sample 35 / 35\n",
      "[t-SNE] Mean sigma: 0.054875\n",
      "[t-SNE] KL divergence after 250 iterations with early exaggeration: 55.278831\n",
      "[t-SNE] KL divergence after 1200 iterations: 0.255677\n"
     ]
    }
   ],
   "source": [
    "tsne = TSNE(n_components=2, random_state=0, perplexity=5, n_iter=10000, verbose=1, metric='cosine')\n",
    "embeddings_2d = tsne.fit_transform(embeddings)"
   ]
  },
  {
   "cell_type": "code",
   "execution_count": 259,
   "metadata": {},
   "outputs": [
    {
     "data": {
      "text/plain": [
       "(35, 2)"
      ]
     },
     "execution_count": 259,
     "metadata": {},
     "output_type": "execute_result"
    }
   ],
   "source": [
    "embeddings_2d.shape"
   ]
  },
  {
   "cell_type": "code",
   "execution_count": 260,
   "metadata": {},
   "outputs": [
    {
     "data": {
      "text/plain": [
       "(35, 3)"
      ]
     },
     "execution_count": 260,
     "metadata": {},
     "output_type": "execute_result"
    }
   ],
   "source": [
    "df.shape"
   ]
  },
  {
   "cell_type": "code",
   "execution_count": 261,
   "metadata": {},
   "outputs": [],
   "source": [
    "df = df.reset_index(drop=True)"
   ]
  },
  {
   "cell_type": "code",
   "execution_count": 262,
   "metadata": {},
   "outputs": [],
   "source": [
    "def apply_colour(x):\n",
    "    if x.startswith('Doc'):\n",
    "        return 'blue'\n",
    "    elif x.startswith('URL'):\n",
    "        return 'green'\n",
    "    else:\n",
    "        return 'red'\n",
    "    \n",
    "def apply_label(x):\n",
    "    if x.startswith('Doc'):\n",
    "        return 'Doc'\n",
    "    elif x.startswith('URL'):\n",
    "        return 'URL'\n",
    "    else:\n",
    "        return 'Query'"
   ]
  },
  {
   "cell_type": "code",
   "execution_count": 264,
   "metadata": {},
   "outputs": [],
   "source": [
    "df['colour'] = df['content'].apply(apply_colour)\n",
    "df['label'] = df['content'].apply(apply_label)"
   ]
  },
  {
   "cell_type": "code",
   "execution_count": 272,
   "metadata": {},
   "outputs": [],
   "source": [
    "df['embedding_2d'] = list(embeddings_2d)"
   ]
  },
  {
   "cell_type": "code",
   "execution_count": 273,
   "metadata": {},
   "outputs": [
    {
     "data": {
      "text/html": [
       "<div>\n",
       "<style scoped>\n",
       "    .dataframe tbody tr th:only-of-type {\n",
       "        vertical-align: middle;\n",
       "    }\n",
       "\n",
       "    .dataframe tbody tr th {\n",
       "        vertical-align: top;\n",
       "    }\n",
       "\n",
       "    .dataframe thead th {\n",
       "        text-align: right;\n",
       "    }\n",
       "</style>\n",
       "<table border=\"1\" class=\"dataframe\">\n",
       "  <thead>\n",
       "    <tr style=\"text-align: right;\">\n",
       "      <th></th>\n",
       "      <th>_content</th>\n",
       "      <th>embedding</th>\n",
       "      <th>content</th>\n",
       "      <th>colour</th>\n",
       "      <th>label</th>\n",
       "      <th>embedding_2d</th>\n",
       "    </tr>\n",
       "  </thead>\n",
       "  <tbody>\n",
       "    <tr>\n",
       "      <th>0</th>\n",
       "      <td>I also get a lot of questions on LinkedIn, Twi...</td>\n",
       "      <td>[0.02575155906379223, -0.004037376958876848, 0...</td>\n",
       "      <td>Doc: I also get a lot of questions on LinkedIn...</td>\n",
       "      <td>blue</td>\n",
       "      <td>Doc</td>\n",
       "      <td>[-25.48357, -8.561122]</td>\n",
       "    </tr>\n",
       "    <tr>\n",
       "      <th>1</th>\n",
       "      <td>This metaphor also helps with other questions....</td>\n",
       "      <td>[0.012818613089621067, -0.022875864058732986, ...</td>\n",
       "      <td>Doc: This metaphor also helps with other quest...</td>\n",
       "      <td>blue</td>\n",
       "      <td>Doc</td>\n",
       "      <td>[-22.031265, 32.123123]</td>\n",
       "    </tr>\n",
       "    <tr>\n",
       "      <th>2</th>\n",
       "      <td>Do the due diligence before accepting the job ...</td>\n",
       "      <td>[-0.0028124817181378603, -0.009836859069764614...</td>\n",
       "      <td>Doc: Do the due diligence before accepting the...</td>\n",
       "      <td>blue</td>\n",
       "      <td>Doc</td>\n",
       "      <td>[-17.679733, 11.384646]</td>\n",
       "    </tr>\n",
       "    <tr>\n",
       "      <th>3</th>\n",
       "      <td>You might ask, how do I find time for all thes...</td>\n",
       "      <td>[-0.005430013872683048, -0.022357318550348282,...</td>\n",
       "      <td>Doc: You might ask, how do I find time for all...</td>\n",
       "      <td>blue</td>\n",
       "      <td>Doc</td>\n",
       "      <td>[-24.587933, 12.85849]</td>\n",
       "    </tr>\n",
       "    <tr>\n",
       "      <th>4</th>\n",
       "      <td>This thinking explains my inclination towards ...</td>\n",
       "      <td>[-0.0021128200460225344, 0.0053935302421450615...</td>\n",
       "      <td>Doc: This thinking explains my inclination tow...</td>\n",
       "      <td>blue</td>\n",
       "      <td>Doc</td>\n",
       "      <td>[-7.978435, -11.028734]</td>\n",
       "    </tr>\n",
       "    <tr>\n",
       "      <th>5</th>\n",
       "      <td>This leads to regulations, such as the EU’s Ge...</td>\n",
       "      <td>[0.0003634189488366246, -0.0107890535145998, 0...</td>\n",
       "      <td>Doc: This leads to regulations, such as the EU...</td>\n",
       "      <td>blue</td>\n",
       "      <td>Doc</td>\n",
       "      <td>[-3.0503447, 5.836676]</td>\n",
       "    </tr>\n",
       "    <tr>\n",
       "      <th>6</th>\n",
       "      <td>Non-positive &amp; incremental: Sometimes, we make...</td>\n",
       "      <td>[-0.019932148978114128, -0.002726502250880003,...</td>\n",
       "      <td>Doc: Non-positive &amp; incremental: Sometimes, we...</td>\n",
       "      <td>blue</td>\n",
       "      <td>Doc</td>\n",
       "      <td>[-2.765868, -8.181991]</td>\n",
       "    </tr>\n",
       "    <tr>\n",
       "      <th>7</th>\n",
       "      <td>And it appears to be a trend specific to the U...</td>\n",
       "      <td>[0.0023003185633569956, -0.0079970583319664, 0...</td>\n",
       "      <td>Doc: And it appears to be a trend specific to ...</td>\n",
       "      <td>blue</td>\n",
       "      <td>Doc</td>\n",
       "      <td>[-12.810587, 7.2860155]</td>\n",
       "    </tr>\n",
       "    <tr>\n",
       "      <th>8</th>\n",
       "      <td>Often, we learn a lot of theory and knowledge ...</td>\n",
       "      <td>[-0.01314166747033596, -0.013879658654332161, ...</td>\n",
       "      <td>Doc: Often, we learn a lot of theory and knowl...</td>\n",
       "      <td>blue</td>\n",
       "      <td>Doc</td>\n",
       "      <td>[1.9544867, -30.257763]</td>\n",
       "    </tr>\n",
       "    <tr>\n",
       "      <th>9</th>\n",
       "      <td>Spark+AI Summit 2020 was epic. Some great talk...</td>\n",
       "      <td>[-0.026843123137950897, -0.005708565469831228,...</td>\n",
       "      <td>Doc: Spark+AI Summit 2020 was epic. Some great...</td>\n",
       "      <td>blue</td>\n",
       "      <td>Doc</td>\n",
       "      <td>[-33.00584, -11.555028]</td>\n",
       "    </tr>\n",
       "    <tr>\n",
       "      <th>10</th>\n",
       "      <td>Here’s a good question to ask ourselves: “Whic...</td>\n",
       "      <td>[0.023119039833545685, 0.008854657411575317, 0...</td>\n",
       "      <td>Doc: Here’s a good question to ask ourselves: ...</td>\n",
       "      <td>blue</td>\n",
       "      <td>Doc</td>\n",
       "      <td>[-15.953871, -19.066328]</td>\n",
       "    </tr>\n",
       "    <tr>\n",
       "      <th>11</th>\n",
       "      <td>With regard to computer science, I have gained...</td>\n",
       "      <td>[0.009213266894221306, 0.0030813715420663357, ...</td>\n",
       "      <td>Doc: With regard to computer science, I have g...</td>\n",
       "      <td>blue</td>\n",
       "      <td>Doc</td>\n",
       "      <td>[5.656399, -24.434326]</td>\n",
       "    </tr>\n",
       "    <tr>\n",
       "      <th>12</th>\n",
       "      <td>Instead, I’m trying to convince that end-to-en...</td>\n",
       "      <td>[-0.003111020429059863, 0.002760207047685981, ...</td>\n",
       "      <td>Doc: Instead, I’m trying to convince that end-...</td>\n",
       "      <td>blue</td>\n",
       "      <td>Doc</td>\n",
       "      <td>[-16.054241, -10.072883]</td>\n",
       "    </tr>\n",
       "    <tr>\n",
       "      <th>13</th>\n",
       "      <td>To understand my superpowers (and weaknesses),...</td>\n",
       "      <td>[0.006452821660786867, -0.01847502402961254, 0...</td>\n",
       "      <td>Doc: To understand my superpowers (and weaknes...</td>\n",
       "      <td>blue</td>\n",
       "      <td>Doc</td>\n",
       "      <td>[-23.005733, 21.188229]</td>\n",
       "    </tr>\n",
       "    <tr>\n",
       "      <th>14</th>\n",
       "      <td>I’m excited to learn further how reinforcement...</td>\n",
       "      <td>[-0.012212823145091534, 0.0033340163063257933,...</td>\n",
       "      <td>Doc: I’m excited to learn further how reinforc...</td>\n",
       "      <td>blue</td>\n",
       "      <td>Doc</td>\n",
       "      <td>[5.6587625, -38.42454]</td>\n",
       "    </tr>\n",
       "    <tr>\n",
       "      <th>15</th>\n",
       "      <td>Do you know of other industrial implementation...</td>\n",
       "      <td>[-0.018968302756547928, -0.015744227916002274,...</td>\n",
       "      <td>Doc: Do you know of other industrial implement...</td>\n",
       "      <td>blue</td>\n",
       "      <td>Doc</td>\n",
       "      <td>[38.436462, -70.4677]</td>\n",
       "    </tr>\n",
       "    <tr>\n",
       "      <th>16</th>\n",
       "      <td>That was a whirlwind tour of the various patte...</td>\n",
       "      <td>[-0.024885816499590874, 0.016790591180324554, ...</td>\n",
       "      <td>Doc: That was a whirlwind tour of the various ...</td>\n",
       "      <td>blue</td>\n",
       "      <td>Doc</td>\n",
       "      <td>[6.435587, -54.96756]</td>\n",
       "    </tr>\n",
       "    <tr>\n",
       "      <th>17</th>\n",
       "      <td>Are you trying to apply reinforcement learning...</td>\n",
       "      <td>[-0.008886697702109814, 0.027484631165862083, ...</td>\n",
       "      <td>Doc: Are you trying to apply reinforcement lea...</td>\n",
       "      <td>blue</td>\n",
       "      <td>Doc</td>\n",
       "      <td>[10.159087, -47.20314]</td>\n",
       "    </tr>\n",
       "    <tr>\n",
       "      <th>18</th>\n",
       "      <td>How do I decide between being a manager or an IC?</td>\n",
       "      <td>[0.009628234431147575, -0.02294529415667057, 0...</td>\n",
       "      <td>Query: How do I decide between being a manager...</td>\n",
       "      <td>red</td>\n",
       "      <td>Query</td>\n",
       "      <td>[-30.929203, 50.07193]</td>\n",
       "    </tr>\n",
       "    <tr>\n",
       "      <th>19</th>\n",
       "      <td>manager or IC</td>\n",
       "      <td>[-0.003318533068522811, -0.02215120941400528, ...</td>\n",
       "      <td>Query: manager or IC</td>\n",
       "      <td>red</td>\n",
       "      <td>Query</td>\n",
       "      <td>[-32.511898, 58.393444]</td>\n",
       "    </tr>\n",
       "    <tr>\n",
       "      <th>20</th>\n",
       "      <td>How do I decide between being a manager or an ...</td>\n",
       "      <td>[0.014232850633561611, -0.032282039523124695, ...</td>\n",
       "      <td>Query: How do I decide between being a manager...</td>\n",
       "      <td>red</td>\n",
       "      <td>Query</td>\n",
       "      <td>[-24.361832, 46.178883]</td>\n",
       "    </tr>\n",
       "    <tr>\n",
       "      <th>21</th>\n",
       "      <td>manager or engineer</td>\n",
       "      <td>[-0.0026886346749961376, -0.023078585043549538...</td>\n",
       "      <td>Query: manager or engineer</td>\n",
       "      <td>red</td>\n",
       "      <td>Query</td>\n",
       "      <td>[-20.703575, 56.685505]</td>\n",
       "    </tr>\n",
       "    <tr>\n",
       "      <th>22</th>\n",
       "      <td>manager</td>\n",
       "      <td>[0.00038127554580569267, -0.03761627525091171,...</td>\n",
       "      <td>Query: manager</td>\n",
       "      <td>red</td>\n",
       "      <td>Query</td>\n",
       "      <td>[-23.865612, 63.847435]</td>\n",
       "    </tr>\n",
       "    <tr>\n",
       "      <th>23</th>\n",
       "      <td>IC</td>\n",
       "      <td>[-0.003829355351626873, -0.01834152266383171, ...</td>\n",
       "      <td>Query: IC</td>\n",
       "      <td>red</td>\n",
       "      <td>Query</td>\n",
       "      <td>[-40.736088, 61.16671]</td>\n",
       "    </tr>\n",
       "    <tr>\n",
       "      <th>24</th>\n",
       "      <td>engineer</td>\n",
       "      <td>[-0.011329280212521553, -0.0025559961795806885...</td>\n",
       "      <td>Query: engineer</td>\n",
       "      <td>red</td>\n",
       "      <td>Query</td>\n",
       "      <td>[-15.0249605, 59.920067]</td>\n",
       "    </tr>\n",
       "    <tr>\n",
       "      <th>25</th>\n",
       "      <td>manager engineer pendulum</td>\n",
       "      <td>[-0.002904443768784404, -0.005747436545789242,...</td>\n",
       "      <td>Query: manager engineer pendulum</td>\n",
       "      <td>red</td>\n",
       "      <td>Query</td>\n",
       "      <td>[-25.416685, 74.412155]</td>\n",
       "    </tr>\n",
       "    <tr>\n",
       "      <th>26</th>\n",
       "      <td>manager IC pendulum</td>\n",
       "      <td>[-0.009514566510915756, -0.00254430016502738, ...</td>\n",
       "      <td>Query: manager IC pendulum</td>\n",
       "      <td>red</td>\n",
       "      <td>Query</td>\n",
       "      <td>[-31.767612, 73.1656]</td>\n",
       "    </tr>\n",
       "    <tr>\n",
       "      <th>27</th>\n",
       "      <td>What bandits are used in recommendation systems?</td>\n",
       "      <td>[-0.008940705098211765, -0.005947543308138847,...</td>\n",
       "      <td>Query: What bandits are used in recommendation...</td>\n",
       "      <td>red</td>\n",
       "      <td>Query</td>\n",
       "      <td>[27.30905, -77.16591]</td>\n",
       "    </tr>\n",
       "    <tr>\n",
       "      <th>28</th>\n",
       "      <td>What types of bandits are used in recommendati...</td>\n",
       "      <td>[-0.010064550675451756, -0.0020759031176567078...</td>\n",
       "      <td>Query: What types of bandits are used in recom...</td>\n",
       "      <td>red</td>\n",
       "      <td>Query</td>\n",
       "      <td>[19.997292, -76.71015]</td>\n",
       "    </tr>\n",
       "    <tr>\n",
       "      <th>29</th>\n",
       "      <td>What types of bandit algorithms are used in re...</td>\n",
       "      <td>[-0.0041562821716070175, -0.003775876946747303...</td>\n",
       "      <td>Query: What types of bandit algorithms are use...</td>\n",
       "      <td>red</td>\n",
       "      <td>Query</td>\n",
       "      <td>[16.309408, -70.041985]</td>\n",
       "    </tr>\n",
       "    <tr>\n",
       "      <th>30</th>\n",
       "      <td>How are bandits are used in recommendation sys...</td>\n",
       "      <td>[-0.00767211290076375, -0.0024381421972066164,...</td>\n",
       "      <td>Query: How are bandits are used in recommendat...</td>\n",
       "      <td>red</td>\n",
       "      <td>Query</td>\n",
       "      <td>[27.828157, -69.9643]</td>\n",
       "    </tr>\n",
       "    <tr>\n",
       "      <th>31</th>\n",
       "      <td>How are bandit algorithtms are used in recomme...</td>\n",
       "      <td>[-0.005421388894319534, -0.008173235692083836,...</td>\n",
       "      <td>Query: How are bandit algorithtms are used in ...</td>\n",
       "      <td>red</td>\n",
       "      <td>Query</td>\n",
       "      <td>[23.299587, -64.35962]</td>\n",
       "    </tr>\n",
       "    <tr>\n",
       "      <th>32</th>\n",
       "      <td>bandits used in recommendation systems</td>\n",
       "      <td>[-0.021929699927568436, 0.0013491626596078277,...</td>\n",
       "      <td>Query: bandits used in recommendation systems</td>\n",
       "      <td>red</td>\n",
       "      <td>Query</td>\n",
       "      <td>[27.155931, -87.225235]</td>\n",
       "    </tr>\n",
       "    <tr>\n",
       "      <th>33</th>\n",
       "      <td>bandits in recommendation systems</td>\n",
       "      <td>[-0.019438406452536583, 0.00125055608805269, -...</td>\n",
       "      <td>Query: bandits in recommendation systems</td>\n",
       "      <td>red</td>\n",
       "      <td>Query</td>\n",
       "      <td>[33.846516, -88.132645]</td>\n",
       "    </tr>\n",
       "    <tr>\n",
       "      <th>34</th>\n",
       "      <td>bandit recommendation systems</td>\n",
       "      <td>[-0.032978154718875885, 0.000974637980107218, ...</td>\n",
       "      <td>Query: bandit recommendation systems</td>\n",
       "      <td>red</td>\n",
       "      <td>Query</td>\n",
       "      <td>[28.952288, -94.992615]</td>\n",
       "    </tr>\n",
       "  </tbody>\n",
       "</table>\n",
       "</div>"
      ],
      "text/plain": [
       "                                             _content  \\\n",
       "0   I also get a lot of questions on LinkedIn, Twi...   \n",
       "1   This metaphor also helps with other questions....   \n",
       "2   Do the due diligence before accepting the job ...   \n",
       "3   You might ask, how do I find time for all thes...   \n",
       "4   This thinking explains my inclination towards ...   \n",
       "5   This leads to regulations, such as the EU’s Ge...   \n",
       "6   Non-positive & incremental: Sometimes, we make...   \n",
       "7   And it appears to be a trend specific to the U...   \n",
       "8   Often, we learn a lot of theory and knowledge ...   \n",
       "9   Spark+AI Summit 2020 was epic. Some great talk...   \n",
       "10  Here’s a good question to ask ourselves: “Whic...   \n",
       "11  With regard to computer science, I have gained...   \n",
       "12  Instead, I’m trying to convince that end-to-en...   \n",
       "13  To understand my superpowers (and weaknesses),...   \n",
       "14  I’m excited to learn further how reinforcement...   \n",
       "15  Do you know of other industrial implementation...   \n",
       "16  That was a whirlwind tour of the various patte...   \n",
       "17  Are you trying to apply reinforcement learning...   \n",
       "18  How do I decide between being a manager or an IC?   \n",
       "19                                      manager or IC   \n",
       "20  How do I decide between being a manager or an ...   \n",
       "21                                manager or engineer   \n",
       "22                                            manager   \n",
       "23                                                 IC   \n",
       "24                                           engineer   \n",
       "25                          manager engineer pendulum   \n",
       "26                                manager IC pendulum   \n",
       "27   What bandits are used in recommendation systems?   \n",
       "28  What types of bandits are used in recommendati...   \n",
       "29  What types of bandit algorithms are used in re...   \n",
       "30  How are bandits are used in recommendation sys...   \n",
       "31  How are bandit algorithtms are used in recomme...   \n",
       "32             bandits used in recommendation systems   \n",
       "33                  bandits in recommendation systems   \n",
       "34                      bandit recommendation systems   \n",
       "\n",
       "                                            embedding  \\\n",
       "0   [0.02575155906379223, -0.004037376958876848, 0...   \n",
       "1   [0.012818613089621067, -0.022875864058732986, ...   \n",
       "2   [-0.0028124817181378603, -0.009836859069764614...   \n",
       "3   [-0.005430013872683048, -0.022357318550348282,...   \n",
       "4   [-0.0021128200460225344, 0.0053935302421450615...   \n",
       "5   [0.0003634189488366246, -0.0107890535145998, 0...   \n",
       "6   [-0.019932148978114128, -0.002726502250880003,...   \n",
       "7   [0.0023003185633569956, -0.0079970583319664, 0...   \n",
       "8   [-0.01314166747033596, -0.013879658654332161, ...   \n",
       "9   [-0.026843123137950897, -0.005708565469831228,...   \n",
       "10  [0.023119039833545685, 0.008854657411575317, 0...   \n",
       "11  [0.009213266894221306, 0.0030813715420663357, ...   \n",
       "12  [-0.003111020429059863, 0.002760207047685981, ...   \n",
       "13  [0.006452821660786867, -0.01847502402961254, 0...   \n",
       "14  [-0.012212823145091534, 0.0033340163063257933,...   \n",
       "15  [-0.018968302756547928, -0.015744227916002274,...   \n",
       "16  [-0.024885816499590874, 0.016790591180324554, ...   \n",
       "17  [-0.008886697702109814, 0.027484631165862083, ...   \n",
       "18  [0.009628234431147575, -0.02294529415667057, 0...   \n",
       "19  [-0.003318533068522811, -0.02215120941400528, ...   \n",
       "20  [0.014232850633561611, -0.032282039523124695, ...   \n",
       "21  [-0.0026886346749961376, -0.023078585043549538...   \n",
       "22  [0.00038127554580569267, -0.03761627525091171,...   \n",
       "23  [-0.003829355351626873, -0.01834152266383171, ...   \n",
       "24  [-0.011329280212521553, -0.0025559961795806885...   \n",
       "25  [-0.002904443768784404, -0.005747436545789242,...   \n",
       "26  [-0.009514566510915756, -0.00254430016502738, ...   \n",
       "27  [-0.008940705098211765, -0.005947543308138847,...   \n",
       "28  [-0.010064550675451756, -0.0020759031176567078...   \n",
       "29  [-0.0041562821716070175, -0.003775876946747303...   \n",
       "30  [-0.00767211290076375, -0.0024381421972066164,...   \n",
       "31  [-0.005421388894319534, -0.008173235692083836,...   \n",
       "32  [-0.021929699927568436, 0.0013491626596078277,...   \n",
       "33  [-0.019438406452536583, 0.00125055608805269, -...   \n",
       "34  [-0.032978154718875885, 0.000974637980107218, ...   \n",
       "\n",
       "                                              content colour  label  \\\n",
       "0   Doc: I also get a lot of questions on LinkedIn...   blue    Doc   \n",
       "1   Doc: This metaphor also helps with other quest...   blue    Doc   \n",
       "2   Doc: Do the due diligence before accepting the...   blue    Doc   \n",
       "3   Doc: You might ask, how do I find time for all...   blue    Doc   \n",
       "4   Doc: This thinking explains my inclination tow...   blue    Doc   \n",
       "5   Doc: This leads to regulations, such as the EU...   blue    Doc   \n",
       "6   Doc: Non-positive & incremental: Sometimes, we...   blue    Doc   \n",
       "7   Doc: And it appears to be a trend specific to ...   blue    Doc   \n",
       "8   Doc: Often, we learn a lot of theory and knowl...   blue    Doc   \n",
       "9   Doc: Spark+AI Summit 2020 was epic. Some great...   blue    Doc   \n",
       "10  Doc: Here’s a good question to ask ourselves: ...   blue    Doc   \n",
       "11  Doc: With regard to computer science, I have g...   blue    Doc   \n",
       "12  Doc: Instead, I’m trying to convince that end-...   blue    Doc   \n",
       "13  Doc: To understand my superpowers (and weaknes...   blue    Doc   \n",
       "14  Doc: I’m excited to learn further how reinforc...   blue    Doc   \n",
       "15  Doc: Do you know of other industrial implement...   blue    Doc   \n",
       "16  Doc: That was a whirlwind tour of the various ...   blue    Doc   \n",
       "17  Doc: Are you trying to apply reinforcement lea...   blue    Doc   \n",
       "18  Query: How do I decide between being a manager...    red  Query   \n",
       "19                               Query: manager or IC    red  Query   \n",
       "20  Query: How do I decide between being a manager...    red  Query   \n",
       "21                         Query: manager or engineer    red  Query   \n",
       "22                                     Query: manager    red  Query   \n",
       "23                                          Query: IC    red  Query   \n",
       "24                                    Query: engineer    red  Query   \n",
       "25                   Query: manager engineer pendulum    red  Query   \n",
       "26                         Query: manager IC pendulum    red  Query   \n",
       "27  Query: What bandits are used in recommendation...    red  Query   \n",
       "28  Query: What types of bandits are used in recom...    red  Query   \n",
       "29  Query: What types of bandit algorithms are use...    red  Query   \n",
       "30  Query: How are bandits are used in recommendat...    red  Query   \n",
       "31  Query: How are bandit algorithtms are used in ...    red  Query   \n",
       "32      Query: bandits used in recommendation systems    red  Query   \n",
       "33           Query: bandits in recommendation systems    red  Query   \n",
       "34               Query: bandit recommendation systems    red  Query   \n",
       "\n",
       "                embedding_2d  \n",
       "0     [-25.48357, -8.561122]  \n",
       "1    [-22.031265, 32.123123]  \n",
       "2    [-17.679733, 11.384646]  \n",
       "3     [-24.587933, 12.85849]  \n",
       "4    [-7.978435, -11.028734]  \n",
       "5     [-3.0503447, 5.836676]  \n",
       "6     [-2.765868, -8.181991]  \n",
       "7    [-12.810587, 7.2860155]  \n",
       "8    [1.9544867, -30.257763]  \n",
       "9    [-33.00584, -11.555028]  \n",
       "10  [-15.953871, -19.066328]  \n",
       "11    [5.656399, -24.434326]  \n",
       "12  [-16.054241, -10.072883]  \n",
       "13   [-23.005733, 21.188229]  \n",
       "14    [5.6587625, -38.42454]  \n",
       "15     [38.436462, -70.4677]  \n",
       "16     [6.435587, -54.96756]  \n",
       "17    [10.159087, -47.20314]  \n",
       "18    [-30.929203, 50.07193]  \n",
       "19   [-32.511898, 58.393444]  \n",
       "20   [-24.361832, 46.178883]  \n",
       "21   [-20.703575, 56.685505]  \n",
       "22   [-23.865612, 63.847435]  \n",
       "23    [-40.736088, 61.16671]  \n",
       "24  [-15.0249605, 59.920067]  \n",
       "25   [-25.416685, 74.412155]  \n",
       "26     [-31.767612, 73.1656]  \n",
       "27     [27.30905, -77.16591]  \n",
       "28    [19.997292, -76.71015]  \n",
       "29   [16.309408, -70.041985]  \n",
       "30     [27.828157, -69.9643]  \n",
       "31    [23.299587, -64.35962]  \n",
       "32   [27.155931, -87.225235]  \n",
       "33   [33.846516, -88.132645]  \n",
       "34   [28.952288, -94.992615]  "
      ]
     },
     "execution_count": 273,
     "metadata": {},
     "output_type": "execute_result"
    }
   ],
   "source": [
    "df"
   ]
  },
  {
   "cell_type": "code",
   "execution_count": 286,
   "metadata": {},
   "outputs": [
    {
     "data": {
      "text/plain": [
       "array([-25.48357  , -22.031265 , -17.679733 , -24.587933 ,  -7.978435 ,\n",
       "        -3.0503447,  -2.765868 , -12.810587 ,   1.9544867, -33.00584  ,\n",
       "       -15.953871 ,   5.656399 , -16.054241 , -23.005733 ,   5.6587625,\n",
       "        38.436462 ,   6.435587 ,  10.159087 , -30.929203 , -32.511898 ,\n",
       "       -24.361832 , -20.703575 , -23.865612 , -40.736088 , -15.0249605,\n",
       "       -25.416685 , -31.767612 ,  27.30905  ,  19.997292 ,  16.309408 ,\n",
       "        27.828157 ,  23.299587 ,  27.155931 ,  33.846516 ,  28.952288 ],\n",
       "      dtype=float32)"
      ]
     },
     "execution_count": 286,
     "metadata": {},
     "output_type": "execute_result"
    }
   ],
   "source": [
    "np.vstack(df['embedding_2d'])"
   ]
  },
  {
   "cell_type": "code",
   "execution_count": 288,
   "metadata": {},
   "outputs": [
    {
     "data": {
      "text/html": [
       "<div>\n",
       "<style scoped>\n",
       "    .dataframe tbody tr th:only-of-type {\n",
       "        vertical-align: middle;\n",
       "    }\n",
       "\n",
       "    .dataframe tbody tr th {\n",
       "        vertical-align: top;\n",
       "    }\n",
       "\n",
       "    .dataframe thead th {\n",
       "        text-align: right;\n",
       "    }\n",
       "</style>\n",
       "<table border=\"1\" class=\"dataframe\">\n",
       "  <thead>\n",
       "    <tr style=\"text-align: right;\">\n",
       "      <th></th>\n",
       "      <th>_content</th>\n",
       "      <th>embedding</th>\n",
       "      <th>content</th>\n",
       "      <th>colour</th>\n",
       "      <th>label</th>\n",
       "      <th>embedding_2d</th>\n",
       "    </tr>\n",
       "  </thead>\n",
       "  <tbody>\n",
       "    <tr>\n",
       "      <th>0</th>\n",
       "      <td>I also get a lot of questions on LinkedIn, Twi...</td>\n",
       "      <td>[0.02575155906379223, -0.004037376958876848, 0...</td>\n",
       "      <td>Doc: I also get a lot of questions on LinkedIn...</td>\n",
       "      <td>blue</td>\n",
       "      <td>Doc</td>\n",
       "      <td>[-25.48357, -8.561122]</td>\n",
       "    </tr>\n",
       "    <tr>\n",
       "      <th>1</th>\n",
       "      <td>This metaphor also helps with other questions....</td>\n",
       "      <td>[0.012818613089621067, -0.022875864058732986, ...</td>\n",
       "      <td>Doc: This metaphor also helps with other quest...</td>\n",
       "      <td>blue</td>\n",
       "      <td>Doc</td>\n",
       "      <td>[-22.031265, 32.123123]</td>\n",
       "    </tr>\n",
       "    <tr>\n",
       "      <th>2</th>\n",
       "      <td>Do the due diligence before accepting the job ...</td>\n",
       "      <td>[-0.0028124817181378603, -0.009836859069764614...</td>\n",
       "      <td>Doc: Do the due diligence before accepting the...</td>\n",
       "      <td>blue</td>\n",
       "      <td>Doc</td>\n",
       "      <td>[-17.679733, 11.384646]</td>\n",
       "    </tr>\n",
       "    <tr>\n",
       "      <th>3</th>\n",
       "      <td>You might ask, how do I find time for all thes...</td>\n",
       "      <td>[-0.005430013872683048, -0.022357318550348282,...</td>\n",
       "      <td>Doc: You might ask, how do I find time for all...</td>\n",
       "      <td>blue</td>\n",
       "      <td>Doc</td>\n",
       "      <td>[-24.587933, 12.85849]</td>\n",
       "    </tr>\n",
       "    <tr>\n",
       "      <th>4</th>\n",
       "      <td>This thinking explains my inclination towards ...</td>\n",
       "      <td>[-0.0021128200460225344, 0.0053935302421450615...</td>\n",
       "      <td>Doc: This thinking explains my inclination tow...</td>\n",
       "      <td>blue</td>\n",
       "      <td>Doc</td>\n",
       "      <td>[-7.978435, -11.028734]</td>\n",
       "    </tr>\n",
       "  </tbody>\n",
       "</table>\n",
       "</div>"
      ],
      "text/plain": [
       "                                            _content  \\\n",
       "0  I also get a lot of questions on LinkedIn, Twi...   \n",
       "1  This metaphor also helps with other questions....   \n",
       "2  Do the due diligence before accepting the job ...   \n",
       "3  You might ask, how do I find time for all thes...   \n",
       "4  This thinking explains my inclination towards ...   \n",
       "\n",
       "                                           embedding  \\\n",
       "0  [0.02575155906379223, -0.004037376958876848, 0...   \n",
       "1  [0.012818613089621067, -0.022875864058732986, ...   \n",
       "2  [-0.0028124817181378603, -0.009836859069764614...   \n",
       "3  [-0.005430013872683048, -0.022357318550348282,...   \n",
       "4  [-0.0021128200460225344, 0.0053935302421450615...   \n",
       "\n",
       "                                             content colour label  \\\n",
       "0  Doc: I also get a lot of questions on LinkedIn...   blue   Doc   \n",
       "1  Doc: This metaphor also helps with other quest...   blue   Doc   \n",
       "2  Doc: Do the due diligence before accepting the...   blue   Doc   \n",
       "3  Doc: You might ask, how do I find time for all...   blue   Doc   \n",
       "4  Doc: This thinking explains my inclination tow...   blue   Doc   \n",
       "\n",
       "              embedding_2d  \n",
       "0   [-25.48357, -8.561122]  \n",
       "1  [-22.031265, 32.123123]  \n",
       "2  [-17.679733, 11.384646]  \n",
       "3   [-24.587933, 12.85849]  \n",
       "4  [-7.978435, -11.028734]  "
      ]
     },
     "execution_count": 288,
     "metadata": {},
     "output_type": "execute_result"
    }
   ],
   "source": [
    "df.head()"
   ]
  },
  {
   "cell_type": "code",
   "execution_count": 290,
   "metadata": {},
   "outputs": [
    {
     "data": {
      "text/html": [
       "<div>\n",
       "<style scoped>\n",
       "    .dataframe tbody tr th:only-of-type {\n",
       "        vertical-align: middle;\n",
       "    }\n",
       "\n",
       "    .dataframe tbody tr th {\n",
       "        vertical-align: top;\n",
       "    }\n",
       "\n",
       "    .dataframe thead th {\n",
       "        text-align: right;\n",
       "    }\n",
       "</style>\n",
       "<table border=\"1\" class=\"dataframe\">\n",
       "  <thead>\n",
       "    <tr style=\"text-align: right;\">\n",
       "      <th></th>\n",
       "      <th>_content</th>\n",
       "      <th>embedding</th>\n",
       "      <th>content</th>\n",
       "      <th>colour</th>\n",
       "      <th>label</th>\n",
       "      <th>embedding_2d</th>\n",
       "    </tr>\n",
       "  </thead>\n",
       "  <tbody>\n",
       "    <tr>\n",
       "      <th>0</th>\n",
       "      <td>I also get a lot of questions on LinkedIn, Twi...</td>\n",
       "      <td>[0.02575155906379223, -0.004037376958876848, 0...</td>\n",
       "      <td>Doc: I also get a lot of questions on LinkedIn...</td>\n",
       "      <td>blue</td>\n",
       "      <td>Doc</td>\n",
       "      <td>[-25.48357, -8.561122]</td>\n",
       "    </tr>\n",
       "    <tr>\n",
       "      <th>1</th>\n",
       "      <td>This metaphor also helps with other questions....</td>\n",
       "      <td>[0.012818613089621067, -0.022875864058732986, ...</td>\n",
       "      <td>Doc: This metaphor also helps with other quest...</td>\n",
       "      <td>blue</td>\n",
       "      <td>Doc</td>\n",
       "      <td>[-22.031265, 32.123123]</td>\n",
       "    </tr>\n",
       "    <tr>\n",
       "      <th>2</th>\n",
       "      <td>Do the due diligence before accepting the job ...</td>\n",
       "      <td>[-0.0028124817181378603, -0.009836859069764614...</td>\n",
       "      <td>Doc: Do the due diligence before accepting the...</td>\n",
       "      <td>blue</td>\n",
       "      <td>Doc</td>\n",
       "      <td>[-17.679733, 11.384646]</td>\n",
       "    </tr>\n",
       "    <tr>\n",
       "      <th>3</th>\n",
       "      <td>You might ask, how do I find time for all thes...</td>\n",
       "      <td>[-0.005430013872683048, -0.022357318550348282,...</td>\n",
       "      <td>Doc: You might ask, how do I find time for all...</td>\n",
       "      <td>blue</td>\n",
       "      <td>Doc</td>\n",
       "      <td>[-24.587933, 12.85849]</td>\n",
       "    </tr>\n",
       "    <tr>\n",
       "      <th>4</th>\n",
       "      <td>This thinking explains my inclination towards ...</td>\n",
       "      <td>[-0.0021128200460225344, 0.0053935302421450615...</td>\n",
       "      <td>Doc: This thinking explains my inclination tow...</td>\n",
       "      <td>blue</td>\n",
       "      <td>Doc</td>\n",
       "      <td>[-7.978435, -11.028734]</td>\n",
       "    </tr>\n",
       "    <tr>\n",
       "      <th>5</th>\n",
       "      <td>This leads to regulations, such as the EU’s Ge...</td>\n",
       "      <td>[0.0003634189488366246, -0.0107890535145998, 0...</td>\n",
       "      <td>Doc: This leads to regulations, such as the EU...</td>\n",
       "      <td>blue</td>\n",
       "      <td>Doc</td>\n",
       "      <td>[-3.0503447, 5.836676]</td>\n",
       "    </tr>\n",
       "    <tr>\n",
       "      <th>6</th>\n",
       "      <td>Non-positive &amp; incremental: Sometimes, we make...</td>\n",
       "      <td>[-0.019932148978114128, -0.002726502250880003,...</td>\n",
       "      <td>Doc: Non-positive &amp; incremental: Sometimes, we...</td>\n",
       "      <td>blue</td>\n",
       "      <td>Doc</td>\n",
       "      <td>[-2.765868, -8.181991]</td>\n",
       "    </tr>\n",
       "    <tr>\n",
       "      <th>7</th>\n",
       "      <td>And it appears to be a trend specific to the U...</td>\n",
       "      <td>[0.0023003185633569956, -0.0079970583319664, 0...</td>\n",
       "      <td>Doc: And it appears to be a trend specific to ...</td>\n",
       "      <td>blue</td>\n",
       "      <td>Doc</td>\n",
       "      <td>[-12.810587, 7.2860155]</td>\n",
       "    </tr>\n",
       "    <tr>\n",
       "      <th>8</th>\n",
       "      <td>Often, we learn a lot of theory and knowledge ...</td>\n",
       "      <td>[-0.01314166747033596, -0.013879658654332161, ...</td>\n",
       "      <td>Doc: Often, we learn a lot of theory and knowl...</td>\n",
       "      <td>blue</td>\n",
       "      <td>Doc</td>\n",
       "      <td>[1.9544867, -30.257763]</td>\n",
       "    </tr>\n",
       "    <tr>\n",
       "      <th>9</th>\n",
       "      <td>Spark+AI Summit 2020 was epic. Some great talk...</td>\n",
       "      <td>[-0.026843123137950897, -0.005708565469831228,...</td>\n",
       "      <td>Doc: Spark+AI Summit 2020 was epic. Some great...</td>\n",
       "      <td>blue</td>\n",
       "      <td>Doc</td>\n",
       "      <td>[-33.00584, -11.555028]</td>\n",
       "    </tr>\n",
       "    <tr>\n",
       "      <th>10</th>\n",
       "      <td>Here’s a good question to ask ourselves: “Whic...</td>\n",
       "      <td>[0.023119039833545685, 0.008854657411575317, 0...</td>\n",
       "      <td>Doc: Here’s a good question to ask ourselves: ...</td>\n",
       "      <td>blue</td>\n",
       "      <td>Doc</td>\n",
       "      <td>[-15.953871, -19.066328]</td>\n",
       "    </tr>\n",
       "    <tr>\n",
       "      <th>11</th>\n",
       "      <td>With regard to computer science, I have gained...</td>\n",
       "      <td>[0.009213266894221306, 0.0030813715420663357, ...</td>\n",
       "      <td>Doc: With regard to computer science, I have g...</td>\n",
       "      <td>blue</td>\n",
       "      <td>Doc</td>\n",
       "      <td>[5.656399, -24.434326]</td>\n",
       "    </tr>\n",
       "    <tr>\n",
       "      <th>12</th>\n",
       "      <td>Instead, I’m trying to convince that end-to-en...</td>\n",
       "      <td>[-0.003111020429059863, 0.002760207047685981, ...</td>\n",
       "      <td>Doc: Instead, I’m trying to convince that end-...</td>\n",
       "      <td>blue</td>\n",
       "      <td>Doc</td>\n",
       "      <td>[-16.054241, -10.072883]</td>\n",
       "    </tr>\n",
       "    <tr>\n",
       "      <th>13</th>\n",
       "      <td>To understand my superpowers (and weaknesses),...</td>\n",
       "      <td>[0.006452821660786867, -0.01847502402961254, 0...</td>\n",
       "      <td>Doc: To understand my superpowers (and weaknes...</td>\n",
       "      <td>blue</td>\n",
       "      <td>Doc</td>\n",
       "      <td>[-23.005733, 21.188229]</td>\n",
       "    </tr>\n",
       "    <tr>\n",
       "      <th>14</th>\n",
       "      <td>I’m excited to learn further how reinforcement...</td>\n",
       "      <td>[-0.012212823145091534, 0.0033340163063257933,...</td>\n",
       "      <td>Doc: I’m excited to learn further how reinforc...</td>\n",
       "      <td>blue</td>\n",
       "      <td>Doc</td>\n",
       "      <td>[5.6587625, -38.42454]</td>\n",
       "    </tr>\n",
       "    <tr>\n",
       "      <th>15</th>\n",
       "      <td>Do you know of other industrial implementation...</td>\n",
       "      <td>[-0.018968302756547928, -0.015744227916002274,...</td>\n",
       "      <td>Doc: Do you know of other industrial implement...</td>\n",
       "      <td>blue</td>\n",
       "      <td>Doc</td>\n",
       "      <td>[38.436462, -70.4677]</td>\n",
       "    </tr>\n",
       "    <tr>\n",
       "      <th>16</th>\n",
       "      <td>That was a whirlwind tour of the various patte...</td>\n",
       "      <td>[-0.024885816499590874, 0.016790591180324554, ...</td>\n",
       "      <td>Doc: That was a whirlwind tour of the various ...</td>\n",
       "      <td>blue</td>\n",
       "      <td>Doc</td>\n",
       "      <td>[6.435587, -54.96756]</td>\n",
       "    </tr>\n",
       "    <tr>\n",
       "      <th>17</th>\n",
       "      <td>Are you trying to apply reinforcement learning...</td>\n",
       "      <td>[-0.008886697702109814, 0.027484631165862083, ...</td>\n",
       "      <td>Doc: Are you trying to apply reinforcement lea...</td>\n",
       "      <td>blue</td>\n",
       "      <td>Doc</td>\n",
       "      <td>[10.159087, -47.20314]</td>\n",
       "    </tr>\n",
       "    <tr>\n",
       "      <th>18</th>\n",
       "      <td>How do I decide between being a manager or an IC?</td>\n",
       "      <td>[0.009628234431147575, -0.02294529415667057, 0...</td>\n",
       "      <td>Query: How do I decide between being a manager...</td>\n",
       "      <td>red</td>\n",
       "      <td>Query</td>\n",
       "      <td>[-30.929203, 50.07193]</td>\n",
       "    </tr>\n",
       "    <tr>\n",
       "      <th>19</th>\n",
       "      <td>manager or IC</td>\n",
       "      <td>[-0.003318533068522811, -0.02215120941400528, ...</td>\n",
       "      <td>Query: manager or IC</td>\n",
       "      <td>red</td>\n",
       "      <td>Query</td>\n",
       "      <td>[-32.511898, 58.393444]</td>\n",
       "    </tr>\n",
       "    <tr>\n",
       "      <th>20</th>\n",
       "      <td>How do I decide between being a manager or an ...</td>\n",
       "      <td>[0.014232850633561611, -0.032282039523124695, ...</td>\n",
       "      <td>Query: How do I decide between being a manager...</td>\n",
       "      <td>red</td>\n",
       "      <td>Query</td>\n",
       "      <td>[-24.361832, 46.178883]</td>\n",
       "    </tr>\n",
       "    <tr>\n",
       "      <th>21</th>\n",
       "      <td>manager or engineer</td>\n",
       "      <td>[-0.0026886346749961376, -0.023078585043549538...</td>\n",
       "      <td>Query: manager or engineer</td>\n",
       "      <td>red</td>\n",
       "      <td>Query</td>\n",
       "      <td>[-20.703575, 56.685505]</td>\n",
       "    </tr>\n",
       "    <tr>\n",
       "      <th>22</th>\n",
       "      <td>manager</td>\n",
       "      <td>[0.00038127554580569267, -0.03761627525091171,...</td>\n",
       "      <td>Query: manager</td>\n",
       "      <td>red</td>\n",
       "      <td>Query</td>\n",
       "      <td>[-23.865612, 63.847435]</td>\n",
       "    </tr>\n",
       "    <tr>\n",
       "      <th>23</th>\n",
       "      <td>IC</td>\n",
       "      <td>[-0.003829355351626873, -0.01834152266383171, ...</td>\n",
       "      <td>Query: IC</td>\n",
       "      <td>red</td>\n",
       "      <td>Query</td>\n",
       "      <td>[-40.736088, 61.16671]</td>\n",
       "    </tr>\n",
       "    <tr>\n",
       "      <th>24</th>\n",
       "      <td>engineer</td>\n",
       "      <td>[-0.011329280212521553, -0.0025559961795806885...</td>\n",
       "      <td>Query: engineer</td>\n",
       "      <td>red</td>\n",
       "      <td>Query</td>\n",
       "      <td>[-15.0249605, 59.920067]</td>\n",
       "    </tr>\n",
       "    <tr>\n",
       "      <th>25</th>\n",
       "      <td>manager engineer pendulum</td>\n",
       "      <td>[-0.002904443768784404, -0.005747436545789242,...</td>\n",
       "      <td>Query: manager engineer pendulum</td>\n",
       "      <td>red</td>\n",
       "      <td>Query</td>\n",
       "      <td>[-25.416685, 74.412155]</td>\n",
       "    </tr>\n",
       "    <tr>\n",
       "      <th>26</th>\n",
       "      <td>manager IC pendulum</td>\n",
       "      <td>[-0.009514566510915756, -0.00254430016502738, ...</td>\n",
       "      <td>Query: manager IC pendulum</td>\n",
       "      <td>red</td>\n",
       "      <td>Query</td>\n",
       "      <td>[-31.767612, 73.1656]</td>\n",
       "    </tr>\n",
       "    <tr>\n",
       "      <th>27</th>\n",
       "      <td>What bandits are used in recommendation systems?</td>\n",
       "      <td>[-0.008940705098211765, -0.005947543308138847,...</td>\n",
       "      <td>Query: What bandits are used in recommendation...</td>\n",
       "      <td>red</td>\n",
       "      <td>Query</td>\n",
       "      <td>[27.30905, -77.16591]</td>\n",
       "    </tr>\n",
       "    <tr>\n",
       "      <th>28</th>\n",
       "      <td>What types of bandits are used in recommendati...</td>\n",
       "      <td>[-0.010064550675451756, -0.0020759031176567078...</td>\n",
       "      <td>Query: What types of bandits are used in recom...</td>\n",
       "      <td>red</td>\n",
       "      <td>Query</td>\n",
       "      <td>[19.997292, -76.71015]</td>\n",
       "    </tr>\n",
       "    <tr>\n",
       "      <th>29</th>\n",
       "      <td>What types of bandit algorithms are used in re...</td>\n",
       "      <td>[-0.0041562821716070175, -0.003775876946747303...</td>\n",
       "      <td>Query: What types of bandit algorithms are use...</td>\n",
       "      <td>red</td>\n",
       "      <td>Query</td>\n",
       "      <td>[16.309408, -70.041985]</td>\n",
       "    </tr>\n",
       "    <tr>\n",
       "      <th>30</th>\n",
       "      <td>How are bandits are used in recommendation sys...</td>\n",
       "      <td>[-0.00767211290076375, -0.0024381421972066164,...</td>\n",
       "      <td>Query: How are bandits are used in recommendat...</td>\n",
       "      <td>red</td>\n",
       "      <td>Query</td>\n",
       "      <td>[27.828157, -69.9643]</td>\n",
       "    </tr>\n",
       "    <tr>\n",
       "      <th>31</th>\n",
       "      <td>How are bandit algorithtms are used in recomme...</td>\n",
       "      <td>[-0.005421388894319534, -0.008173235692083836,...</td>\n",
       "      <td>Query: How are bandit algorithtms are used in ...</td>\n",
       "      <td>red</td>\n",
       "      <td>Query</td>\n",
       "      <td>[23.299587, -64.35962]</td>\n",
       "    </tr>\n",
       "    <tr>\n",
       "      <th>32</th>\n",
       "      <td>bandits used in recommendation systems</td>\n",
       "      <td>[-0.021929699927568436, 0.0013491626596078277,...</td>\n",
       "      <td>Query: bandits used in recommendation systems</td>\n",
       "      <td>red</td>\n",
       "      <td>Query</td>\n",
       "      <td>[27.155931, -87.225235]</td>\n",
       "    </tr>\n",
       "    <tr>\n",
       "      <th>33</th>\n",
       "      <td>bandits in recommendation systems</td>\n",
       "      <td>[-0.019438406452536583, 0.00125055608805269, -...</td>\n",
       "      <td>Query: bandits in recommendation systems</td>\n",
       "      <td>red</td>\n",
       "      <td>Query</td>\n",
       "      <td>[33.846516, -88.132645]</td>\n",
       "    </tr>\n",
       "    <tr>\n",
       "      <th>34</th>\n",
       "      <td>bandit recommendation systems</td>\n",
       "      <td>[-0.032978154718875885, 0.000974637980107218, ...</td>\n",
       "      <td>Query: bandit recommendation systems</td>\n",
       "      <td>red</td>\n",
       "      <td>Query</td>\n",
       "      <td>[28.952288, -94.992615]</td>\n",
       "    </tr>\n",
       "  </tbody>\n",
       "</table>\n",
       "</div>"
      ],
      "text/plain": [
       "                                             _content  \\\n",
       "0   I also get a lot of questions on LinkedIn, Twi...   \n",
       "1   This metaphor also helps with other questions....   \n",
       "2   Do the due diligence before accepting the job ...   \n",
       "3   You might ask, how do I find time for all thes...   \n",
       "4   This thinking explains my inclination towards ...   \n",
       "5   This leads to regulations, such as the EU’s Ge...   \n",
       "6   Non-positive & incremental: Sometimes, we make...   \n",
       "7   And it appears to be a trend specific to the U...   \n",
       "8   Often, we learn a lot of theory and knowledge ...   \n",
       "9   Spark+AI Summit 2020 was epic. Some great talk...   \n",
       "10  Here’s a good question to ask ourselves: “Whic...   \n",
       "11  With regard to computer science, I have gained...   \n",
       "12  Instead, I’m trying to convince that end-to-en...   \n",
       "13  To understand my superpowers (and weaknesses),...   \n",
       "14  I’m excited to learn further how reinforcement...   \n",
       "15  Do you know of other industrial implementation...   \n",
       "16  That was a whirlwind tour of the various patte...   \n",
       "17  Are you trying to apply reinforcement learning...   \n",
       "18  How do I decide between being a manager or an IC?   \n",
       "19                                      manager or IC   \n",
       "20  How do I decide between being a manager or an ...   \n",
       "21                                manager or engineer   \n",
       "22                                            manager   \n",
       "23                                                 IC   \n",
       "24                                           engineer   \n",
       "25                          manager engineer pendulum   \n",
       "26                                manager IC pendulum   \n",
       "27   What bandits are used in recommendation systems?   \n",
       "28  What types of bandits are used in recommendati...   \n",
       "29  What types of bandit algorithms are used in re...   \n",
       "30  How are bandits are used in recommendation sys...   \n",
       "31  How are bandit algorithtms are used in recomme...   \n",
       "32             bandits used in recommendation systems   \n",
       "33                  bandits in recommendation systems   \n",
       "34                      bandit recommendation systems   \n",
       "\n",
       "                                            embedding  \\\n",
       "0   [0.02575155906379223, -0.004037376958876848, 0...   \n",
       "1   [0.012818613089621067, -0.022875864058732986, ...   \n",
       "2   [-0.0028124817181378603, -0.009836859069764614...   \n",
       "3   [-0.005430013872683048, -0.022357318550348282,...   \n",
       "4   [-0.0021128200460225344, 0.0053935302421450615...   \n",
       "5   [0.0003634189488366246, -0.0107890535145998, 0...   \n",
       "6   [-0.019932148978114128, -0.002726502250880003,...   \n",
       "7   [0.0023003185633569956, -0.0079970583319664, 0...   \n",
       "8   [-0.01314166747033596, -0.013879658654332161, ...   \n",
       "9   [-0.026843123137950897, -0.005708565469831228,...   \n",
       "10  [0.023119039833545685, 0.008854657411575317, 0...   \n",
       "11  [0.009213266894221306, 0.0030813715420663357, ...   \n",
       "12  [-0.003111020429059863, 0.002760207047685981, ...   \n",
       "13  [0.006452821660786867, -0.01847502402961254, 0...   \n",
       "14  [-0.012212823145091534, 0.0033340163063257933,...   \n",
       "15  [-0.018968302756547928, -0.015744227916002274,...   \n",
       "16  [-0.024885816499590874, 0.016790591180324554, ...   \n",
       "17  [-0.008886697702109814, 0.027484631165862083, ...   \n",
       "18  [0.009628234431147575, -0.02294529415667057, 0...   \n",
       "19  [-0.003318533068522811, -0.02215120941400528, ...   \n",
       "20  [0.014232850633561611, -0.032282039523124695, ...   \n",
       "21  [-0.0026886346749961376, -0.023078585043549538...   \n",
       "22  [0.00038127554580569267, -0.03761627525091171,...   \n",
       "23  [-0.003829355351626873, -0.01834152266383171, ...   \n",
       "24  [-0.011329280212521553, -0.0025559961795806885...   \n",
       "25  [-0.002904443768784404, -0.005747436545789242,...   \n",
       "26  [-0.009514566510915756, -0.00254430016502738, ...   \n",
       "27  [-0.008940705098211765, -0.005947543308138847,...   \n",
       "28  [-0.010064550675451756, -0.0020759031176567078...   \n",
       "29  [-0.0041562821716070175, -0.003775876946747303...   \n",
       "30  [-0.00767211290076375, -0.0024381421972066164,...   \n",
       "31  [-0.005421388894319534, -0.008173235692083836,...   \n",
       "32  [-0.021929699927568436, 0.0013491626596078277,...   \n",
       "33  [-0.019438406452536583, 0.00125055608805269, -...   \n",
       "34  [-0.032978154718875885, 0.000974637980107218, ...   \n",
       "\n",
       "                                              content colour  label  \\\n",
       "0   Doc: I also get a lot of questions on LinkedIn...   blue    Doc   \n",
       "1   Doc: This metaphor also helps with other quest...   blue    Doc   \n",
       "2   Doc: Do the due diligence before accepting the...   blue    Doc   \n",
       "3   Doc: You might ask, how do I find time for all...   blue    Doc   \n",
       "4   Doc: This thinking explains my inclination tow...   blue    Doc   \n",
       "5   Doc: This leads to regulations, such as the EU...   blue    Doc   \n",
       "6   Doc: Non-positive & incremental: Sometimes, we...   blue    Doc   \n",
       "7   Doc: And it appears to be a trend specific to ...   blue    Doc   \n",
       "8   Doc: Often, we learn a lot of theory and knowl...   blue    Doc   \n",
       "9   Doc: Spark+AI Summit 2020 was epic. Some great...   blue    Doc   \n",
       "10  Doc: Here’s a good question to ask ourselves: ...   blue    Doc   \n",
       "11  Doc: With regard to computer science, I have g...   blue    Doc   \n",
       "12  Doc: Instead, I’m trying to convince that end-...   blue    Doc   \n",
       "13  Doc: To understand my superpowers (and weaknes...   blue    Doc   \n",
       "14  Doc: I’m excited to learn further how reinforc...   blue    Doc   \n",
       "15  Doc: Do you know of other industrial implement...   blue    Doc   \n",
       "16  Doc: That was a whirlwind tour of the various ...   blue    Doc   \n",
       "17  Doc: Are you trying to apply reinforcement lea...   blue    Doc   \n",
       "18  Query: How do I decide between being a manager...    red  Query   \n",
       "19                               Query: manager or IC    red  Query   \n",
       "20  Query: How do I decide between being a manager...    red  Query   \n",
       "21                         Query: manager or engineer    red  Query   \n",
       "22                                     Query: manager    red  Query   \n",
       "23                                          Query: IC    red  Query   \n",
       "24                                    Query: engineer    red  Query   \n",
       "25                   Query: manager engineer pendulum    red  Query   \n",
       "26                         Query: manager IC pendulum    red  Query   \n",
       "27  Query: What bandits are used in recommendation...    red  Query   \n",
       "28  Query: What types of bandits are used in recom...    red  Query   \n",
       "29  Query: What types of bandit algorithms are use...    red  Query   \n",
       "30  Query: How are bandits are used in recommendat...    red  Query   \n",
       "31  Query: How are bandit algorithtms are used in ...    red  Query   \n",
       "32      Query: bandits used in recommendation systems    red  Query   \n",
       "33           Query: bandits in recommendation systems    red  Query   \n",
       "34               Query: bandit recommendation systems    red  Query   \n",
       "\n",
       "                embedding_2d  \n",
       "0     [-25.48357, -8.561122]  \n",
       "1    [-22.031265, 32.123123]  \n",
       "2    [-17.679733, 11.384646]  \n",
       "3     [-24.587933, 12.85849]  \n",
       "4    [-7.978435, -11.028734]  \n",
       "5     [-3.0503447, 5.836676]  \n",
       "6     [-2.765868, -8.181991]  \n",
       "7    [-12.810587, 7.2860155]  \n",
       "8    [1.9544867, -30.257763]  \n",
       "9    [-33.00584, -11.555028]  \n",
       "10  [-15.953871, -19.066328]  \n",
       "11    [5.656399, -24.434326]  \n",
       "12  [-16.054241, -10.072883]  \n",
       "13   [-23.005733, 21.188229]  \n",
       "14    [5.6587625, -38.42454]  \n",
       "15     [38.436462, -70.4677]  \n",
       "16     [6.435587, -54.96756]  \n",
       "17    [10.159087, -47.20314]  \n",
       "18    [-30.929203, 50.07193]  \n",
       "19   [-32.511898, 58.393444]  \n",
       "20   [-24.361832, 46.178883]  \n",
       "21   [-20.703575, 56.685505]  \n",
       "22   [-23.865612, 63.847435]  \n",
       "23    [-40.736088, 61.16671]  \n",
       "24  [-15.0249605, 59.920067]  \n",
       "25   [-25.416685, 74.412155]  \n",
       "26     [-31.767612, 73.1656]  \n",
       "27     [27.30905, -77.16591]  \n",
       "28    [19.997292, -76.71015]  \n",
       "29   [16.309408, -70.041985]  \n",
       "30     [27.828157, -69.9643]  \n",
       "31    [23.299587, -64.35962]  \n",
       "32   [27.155931, -87.225235]  \n",
       "33   [33.846516, -88.132645]  \n",
       "34   [28.952288, -94.992615]  "
      ]
     },
     "execution_count": 290,
     "metadata": {},
     "output_type": "execute_result"
    }
   ],
   "source": [
    "df"
   ]
  },
  {
   "cell_type": "code",
   "execution_count": 302,
   "metadata": {},
   "outputs": [
    {
     "name": "stderr",
     "output_type": "stream",
     "text": [
      "/var/folders/0p/z0kzk4l961d2qwv389xj0zd00000gn/T/ipykernel_5442/3467535274.py:25: UserWarning: Glyph 128071 (\\N{WHITE DOWN POINTING BACKHAND INDEX}) missing from current font.\n",
      "  plt.savefig('t-sne.png')\n",
      "/Users/eugene/projects/gpt-dev/.venv/lib/python3.9/site-packages/IPython/core/pylabtools.py:152: UserWarning: Glyph 128071 (\\N{WHITE DOWN POINTING BACKHAND INDEX}) missing from current font.\n",
      "  fig.canvas.print_figure(bytes_io, **kw)\n"
     ]
    },
    {
     "data": {
      "image/png": "[encoded data removed]",
      "text/plain": [
       "<Figure size 1500x1000 with 1 Axes>"
      ]
     },
     "metadata": {},
     "output_type": "display_data"
    }
   ],
   "source": [
    "plt.figure(figsize=(15, 10))\n",
    "plt.grid()\n",
    "\n",
    "unique_labels = df['label'].unique()\n",
    "for label in unique_labels:\n",
    "    subset = df[df['label'] == label]\n",
    "    embeddings_2d = np.vstack(subset['embedding_2d'])\n",
    "    plt.scatter(embeddings_2d[:, 0], embeddings_2d[:, 1], c=subset['colour'], alpha=0.5, label=label)\n",
    "\n",
    "_embeddings_2d = np.vstack(df['embedding_2d'])\n",
    "for i, (x, y) in enumerate(_embeddings_2d):\n",
    "    content = df.loc[i, 'content']\n",
    "    label = df.loc[i, 'label']\n",
    "    if label == 'Query':\n",
    "        plt.text(x, y, str(content), fontsize=8, ha='left', va='bottom', alpha=0.75)\n",
    "        \n",
    "    if label == 'Doc':\n",
    "        plt.text(x, y, str(content), fontsize=8, ha='left', va='top')\n",
    "\n",
    "plt.title(\"t-SNE Visualization of Embeddings\")\n",
    "plt.xlabel(\"t-SNE Dimension 1\")\n",
    "plt.ylabel(\"t-SNE Dimension 2\")\n",
    "plt.legend()\n",
    "plt.xlim((-35, 60))\n",
    "plt.savefig('t-sne.png')\n",
    "plt.show()"
   ]
  },
  {
   "cell_type": "code",
   "execution_count": null,
   "metadata": {},
   "outputs": [],
   "source": []
  },
  {
   "cell_type": "code",
   "execution_count": null,
   "metadata": {},
   "outputs": [],
   "source": []
  }
 ],
 "metadata": {
  "kernelspec": {
   "display_name": "gpt-dev",
   "language": "python",
   "name": "gpt-dev"
  },
  "language_info": {
   "codemirror_mode": {
    "name": "ipython",
    "version": 3
   },
   "file_extension": ".py",
   "mimetype": "text/x-python",
   "name": "python",
   "nbconvert_exporter": "python",
   "pygments_lexer": "ipython3",
   "version": "3.9.7"
  },
  "orig_nbformat": 4
 },
 "nbformat": 4,
 "nbformat_minor": 2
}
